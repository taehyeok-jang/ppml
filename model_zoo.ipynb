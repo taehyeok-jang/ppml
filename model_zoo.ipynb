{
 "cells": [
  {
   "cell_type": "markdown",
   "id": "85113999-7693-4953-b4ae-3e8cbbe5e7bd",
   "metadata": {},
   "source": [
    "# Model Zoo (Dense)"
   ]
  },
  {
   "cell_type": "code",
   "execution_count": 1,
   "id": "7b85ace7-0434-4ab3-abe2-b4002a08653c",
   "metadata": {},
   "outputs": [
    {
     "name": "stdout",
     "output_type": "stream",
     "text": [
      "env: CUDA_VISIBLE_DEVICES=1\n"
     ]
    }
   ],
   "source": [
    "%env CUDA_VISIBLE_DEVICES=1\n",
    "\n",
    "import numpy as np\n",
    "import torch\n",
    "\n",
    "from torch import nn\n",
    "from torchvision import datasets\n",
    "from torchvision.transforms import ToTensor\n",
    "from torch.utils.data import DataLoader, Dataset, SubsetRandomSampler\n",
    "\n",
    "from torch.utils.data import Subset\n",
    "\n",
    "import torch.nn as nn\n",
    "import torch.optim as optim\n",
    "import torchvision.transforms as transforms\n",
    "\n",
    "import torchvision.models as models\n",
    "from torchvision.models import vgg19, resnet50, resnet18, resnet34, resnet101 \n",
    "import timm # state-of-the-art (ViTs...)\n",
    "\n",
    "from src.model_serving.model_server import *\n",
    "import matplotlib.pyplot as plt\n",
    "\n",
    "from datetime import datetime\n",
    "import time"
   ]
  },
  {
   "cell_type": "code",
   "execution_count": 2,
   "id": "a9b8433b-627e-4d98-9bc5-a0774f779ae8",
   "metadata": {},
   "outputs": [
    {
     "name": "stdout",
     "output_type": "stream",
     "text": [
      "Using cuda device\n",
      "available_gpus: 1\n"
     ]
    }
   ],
   "source": [
    "device = \"cuda\" if torch.cuda.is_available() else \"cpu\"\n",
    "print(f\"Using {device} device\")\n",
    "\n",
    "available_gpus = [torch.cuda.device(i) for i in range(torch.cuda.device_count())]\n",
    "print(f\"available_gpus: {len(available_gpus)}\") "
   ]
  },
  {
   "cell_type": "code",
   "execution_count": 3,
   "id": "880dd15c-f2e8-4809-9417-3c05c9b28f88",
   "metadata": {},
   "outputs": [],
   "source": [
    "from src.model_serving.model_server import *\n",
    "import matplotlib.pyplot as plt\n",
    "\n",
    "def profile_pt_model_(model_zoo, model_id: str, test_data: Dataset, latency_sample=1000):\n",
    "    \"\"\"\n",
    "    Profile a pytorch model using all data in test_data and measure latency by \n",
    "    performing at most `latency_sample` number of queries.\n",
    "    \"\"\"\n",
    "    print(f\"Start profiling {model_id} ...\")\n",
    "\n",
    "    size = len(test_data)\n",
    "    correct = 0\n",
    "    with torch.no_grad():\n",
    "        for X, y in DataLoader(test_data, batch_size=256):\n",
    "            X, y = X.to(device), y.to(device)\n",
    "            pred = model_zoo[model_id](X)\n",
    "            correct += (pred.argmax(1) == y).type(torch.float).sum().item()\n",
    "    \n",
    "    latencies = []\n",
    "    for X, y in DataLoader(test_data, batch_size=1):\n",
    "        X, y = X.to(device), y.to(device)\n",
    "        start = time.perf_counter()\n",
    "        pred = model_zoo[model_id](X)\n",
    "        latencies.append((time.perf_counter() - start) * 1000) # convert to ms\n",
    "        if len(latencies) >= latency_sample:\n",
    "            break\n",
    "\n",
    "    plt.cla()\n",
    "    plt.hist(latencies, 20)\n",
    "    plt.title(f\"Latencies PDF for {model_id}\")\n",
    "    plt.xlabel(\"Latency (ms)\")\n",
    "    plt.savefig(f\"figures/Latencies_PDF_for_{model_id}.png\")\n",
    "\n",
    "    plt.cla()\n",
    "    plt.hist(latencies, histtype='step', cumulative=True)\n",
    "    plt.title(f\"Latencies CDF for {model_id}\")\n",
    "    plt.xlabel(\"Latency (ms)\")\n",
    "    plt.savefig(f\"figures/Latencies_CDF_for_{model_id}.png\")\n",
    "\n",
    "    accuracy = correct / size\n",
    "    latency = np.mean(latencies)\n",
    "    return accuracy, latency\n"
   ]
  },
  {
   "cell_type": "code",
   "execution_count": 4,
   "id": "112c4fc1-fe25-472d-8677-a9109b3fcc3e",
   "metadata": {},
   "outputs": [],
   "source": [
    "# !pip install huggingface_hub -U"
   ]
  },
  {
   "cell_type": "code",
   "execution_count": 5,
   "id": "98a16856-b8cb-4beb-b3b1-b25fa22884ce",
   "metadata": {},
   "outputs": [],
   "source": [
    "model_zoo = {}\n",
    "\n",
    "def load_model(model_name):\n",
    "    if model_name in ['resnet18', 'resnet50', 'resnet101', 'vgg16', 'vgg19', 'densenet121',\n",
    "                      'densenet201', 'mobilenet_v2', 'inception_v3', 'efficientnet_b0',\n",
    "                      'efficientnet_b7', 'squeezenet1_0', 'alexnet', 'googlenet', 'shufflenet_v2_x1_0']:\n",
    "        return models.__dict__[model_name](pretrained=True)\n",
    "    elif model_name in ['vit_base_patch16_224', 'vit_large_patch16_224', 'deit_base_patch16_224',\n",
    "                        'convnext_base', 'convnext_large']:\n",
    "        return timm.create_model(model_name, pretrained=True)\n",
    "    else:\n",
    "        raise ValueError(f\"Model {model_name} not available.\")\n",
    "\n",
    "model_names = ['resnet18', 'resnet50', 'resnet101', 'vgg16', 'vgg19', 'densenet121',\n",
    "               'densenet201', 'mobilenet_v2', 'inception_v3', 'efficientnet_b0',\n",
    "               'efficientnet_b7', 'squeezenet1_0', 'alexnet', 'googlenet', 'shufflenet_v2_x1_0',\n",
    "               'vit_base_patch16_224', 'vit_large_patch16_224', 'deit_base_patch16_224',\n",
    "               'convnext_base', 'convnext_large']"
   ]
  },
  {
   "cell_type": "code",
   "execution_count": 6,
   "id": "405a299c",
   "metadata": {},
   "outputs": [
    {
     "name": "stderr",
     "output_type": "stream",
     "text": [
      "/coc/scratch/debopam/env/envs/psml/lib/python3.10/site-packages/torchvision/models/_utils.py:208: UserWarning: The parameter 'pretrained' is deprecated since 0.13 and may be removed in the future, please use 'weights' instead.\n",
      "  warnings.warn(\n",
      "/coc/scratch/debopam/env/envs/psml/lib/python3.10/site-packages/torchvision/models/_utils.py:223: UserWarning: Arguments other than a weight enum or `None` for 'weights' are deprecated since 0.13 and may be removed in the future. The current behavior is equivalent to passing `weights=ResNet18_Weights.IMAGENET1K_V1`. You can also use `weights=ResNet18_Weights.DEFAULT` to get the most up-to-date weights.\n",
      "  warnings.warn(msg)\n"
     ]
    }
   ],
   "source": [
    "model = load_model('resnet18')"
   ]
  },
  {
   "cell_type": "code",
   "execution_count": 7,
   "id": "52722d13",
   "metadata": {},
   "outputs": [
    {
     "data": {
      "text/plain": [
       "ResNet(\n",
       "  (conv1): Conv2d(3, 64, kernel_size=(7, 7), stride=(2, 2), padding=(3, 3), bias=False)\n",
       "  (bn1): BatchNorm2d(64, eps=1e-05, momentum=0.1, affine=True, track_running_stats=True)\n",
       "  (relu): ReLU(inplace=True)\n",
       "  (maxpool): MaxPool2d(kernel_size=3, stride=2, padding=1, dilation=1, ceil_mode=False)\n",
       "  (layer1): Sequential(\n",
       "    (0): BasicBlock(\n",
       "      (conv1): Conv2d(64, 64, kernel_size=(3, 3), stride=(1, 1), padding=(1, 1), bias=False)\n",
       "      (bn1): BatchNorm2d(64, eps=1e-05, momentum=0.1, affine=True, track_running_stats=True)\n",
       "      (relu): ReLU(inplace=True)\n",
       "      (conv2): Conv2d(64, 64, kernel_size=(3, 3), stride=(1, 1), padding=(1, 1), bias=False)\n",
       "      (bn2): BatchNorm2d(64, eps=1e-05, momentum=0.1, affine=True, track_running_stats=True)\n",
       "    )\n",
       "    (1): BasicBlock(\n",
       "      (conv1): Conv2d(64, 64, kernel_size=(3, 3), stride=(1, 1), padding=(1, 1), bias=False)\n",
       "      (bn1): BatchNorm2d(64, eps=1e-05, momentum=0.1, affine=True, track_running_stats=True)\n",
       "      (relu): ReLU(inplace=True)\n",
       "      (conv2): Conv2d(64, 64, kernel_size=(3, 3), stride=(1, 1), padding=(1, 1), bias=False)\n",
       "      (bn2): BatchNorm2d(64, eps=1e-05, momentum=0.1, affine=True, track_running_stats=True)\n",
       "    )\n",
       "  )\n",
       "  (layer2): Sequential(\n",
       "    (0): BasicBlock(\n",
       "      (conv1): Conv2d(64, 128, kernel_size=(3, 3), stride=(2, 2), padding=(1, 1), bias=False)\n",
       "      (bn1): BatchNorm2d(128, eps=1e-05, momentum=0.1, affine=True, track_running_stats=True)\n",
       "      (relu): ReLU(inplace=True)\n",
       "      (conv2): Conv2d(128, 128, kernel_size=(3, 3), stride=(1, 1), padding=(1, 1), bias=False)\n",
       "      (bn2): BatchNorm2d(128, eps=1e-05, momentum=0.1, affine=True, track_running_stats=True)\n",
       "      (downsample): Sequential(\n",
       "        (0): Conv2d(64, 128, kernel_size=(1, 1), stride=(2, 2), bias=False)\n",
       "        (1): BatchNorm2d(128, eps=1e-05, momentum=0.1, affine=True, track_running_stats=True)\n",
       "      )\n",
       "    )\n",
       "    (1): BasicBlock(\n",
       "      (conv1): Conv2d(128, 128, kernel_size=(3, 3), stride=(1, 1), padding=(1, 1), bias=False)\n",
       "      (bn1): BatchNorm2d(128, eps=1e-05, momentum=0.1, affine=True, track_running_stats=True)\n",
       "      (relu): ReLU(inplace=True)\n",
       "      (conv2): Conv2d(128, 128, kernel_size=(3, 3), stride=(1, 1), padding=(1, 1), bias=False)\n",
       "      (bn2): BatchNorm2d(128, eps=1e-05, momentum=0.1, affine=True, track_running_stats=True)\n",
       "    )\n",
       "  )\n",
       "  (layer3): Sequential(\n",
       "    (0): BasicBlock(\n",
       "      (conv1): Conv2d(128, 256, kernel_size=(3, 3), stride=(2, 2), padding=(1, 1), bias=False)\n",
       "      (bn1): BatchNorm2d(256, eps=1e-05, momentum=0.1, affine=True, track_running_stats=True)\n",
       "      (relu): ReLU(inplace=True)\n",
       "      (conv2): Conv2d(256, 256, kernel_size=(3, 3), stride=(1, 1), padding=(1, 1), bias=False)\n",
       "      (bn2): BatchNorm2d(256, eps=1e-05, momentum=0.1, affine=True, track_running_stats=True)\n",
       "      (downsample): Sequential(\n",
       "        (0): Conv2d(128, 256, kernel_size=(1, 1), stride=(2, 2), bias=False)\n",
       "        (1): BatchNorm2d(256, eps=1e-05, momentum=0.1, affine=True, track_running_stats=True)\n",
       "      )\n",
       "    )\n",
       "    (1): BasicBlock(\n",
       "      (conv1): Conv2d(256, 256, kernel_size=(3, 3), stride=(1, 1), padding=(1, 1), bias=False)\n",
       "      (bn1): BatchNorm2d(256, eps=1e-05, momentum=0.1, affine=True, track_running_stats=True)\n",
       "      (relu): ReLU(inplace=True)\n",
       "      (conv2): Conv2d(256, 256, kernel_size=(3, 3), stride=(1, 1), padding=(1, 1), bias=False)\n",
       "      (bn2): BatchNorm2d(256, eps=1e-05, momentum=0.1, affine=True, track_running_stats=True)\n",
       "    )\n",
       "  )\n",
       "  (layer4): Sequential(\n",
       "    (0): BasicBlock(\n",
       "      (conv1): Conv2d(256, 512, kernel_size=(3, 3), stride=(2, 2), padding=(1, 1), bias=False)\n",
       "      (bn1): BatchNorm2d(512, eps=1e-05, momentum=0.1, affine=True, track_running_stats=True)\n",
       "      (relu): ReLU(inplace=True)\n",
       "      (conv2): Conv2d(512, 512, kernel_size=(3, 3), stride=(1, 1), padding=(1, 1), bias=False)\n",
       "      (bn2): BatchNorm2d(512, eps=1e-05, momentum=0.1, affine=True, track_running_stats=True)\n",
       "      (downsample): Sequential(\n",
       "        (0): Conv2d(256, 512, kernel_size=(1, 1), stride=(2, 2), bias=False)\n",
       "        (1): BatchNorm2d(512, eps=1e-05, momentum=0.1, affine=True, track_running_stats=True)\n",
       "      )\n",
       "    )\n",
       "    (1): BasicBlock(\n",
       "      (conv1): Conv2d(512, 512, kernel_size=(3, 3), stride=(1, 1), padding=(1, 1), bias=False)\n",
       "      (bn1): BatchNorm2d(512, eps=1e-05, momentum=0.1, affine=True, track_running_stats=True)\n",
       "      (relu): ReLU(inplace=True)\n",
       "      (conv2): Conv2d(512, 512, kernel_size=(3, 3), stride=(1, 1), padding=(1, 1), bias=False)\n",
       "      (bn2): BatchNorm2d(512, eps=1e-05, momentum=0.1, affine=True, track_running_stats=True)\n",
       "    )\n",
       "  )\n",
       "  (avgpool): AdaptiveAvgPool2d(output_size=(1, 1))\n",
       "  (fc): Linear(in_features=512, out_features=1000, bias=True)\n",
       ")"
      ]
     },
     "execution_count": 7,
     "metadata": {},
     "output_type": "execute_result"
    }
   ],
   "source": [
    "model"
   ]
  },
  {
   "cell_type": "code",
   "execution_count": 6,
   "id": "1d2de906",
   "metadata": {},
   "outputs": [
    {
     "name": "stdout",
     "output_type": "stream",
     "text": [
      "loading...  resnet18\n"
     ]
    },
    {
     "name": "stderr",
     "output_type": "stream",
     "text": [
      "/coc/scratch/debopam/env/envs/psml/lib/python3.10/site-packages/torchvision/models/_utils.py:208: UserWarning: The parameter 'pretrained' is deprecated since 0.13 and may be removed in the future, please use 'weights' instead.\n",
      "  warnings.warn(\n",
      "/coc/scratch/debopam/env/envs/psml/lib/python3.10/site-packages/torchvision/models/_utils.py:223: UserWarning: Arguments other than a weight enum or `None` for 'weights' are deprecated since 0.13 and may be removed in the future. The current behavior is equivalent to passing `weights=ResNet18_Weights.IMAGENET1K_V1`. You can also use `weights=ResNet18_Weights.DEFAULT` to get the most up-to-date weights.\n",
      "  warnings.warn(msg)\n"
     ]
    },
    {
     "name": "stdout",
     "output_type": "stream",
     "text": [
      "loading...  resnet50\n"
     ]
    },
    {
     "name": "stderr",
     "output_type": "stream",
     "text": [
      "/coc/scratch/debopam/env/envs/psml/lib/python3.10/site-packages/torchvision/models/_utils.py:223: UserWarning: Arguments other than a weight enum or `None` for 'weights' are deprecated since 0.13 and may be removed in the future. The current behavior is equivalent to passing `weights=ResNet50_Weights.IMAGENET1K_V1`. You can also use `weights=ResNet50_Weights.DEFAULT` to get the most up-to-date weights.\n",
      "  warnings.warn(msg)\n"
     ]
    },
    {
     "name": "stdout",
     "output_type": "stream",
     "text": [
      "loading...  resnet101\n"
     ]
    },
    {
     "name": "stderr",
     "output_type": "stream",
     "text": [
      "/coc/scratch/debopam/env/envs/psml/lib/python3.10/site-packages/torchvision/models/_utils.py:223: UserWarning: Arguments other than a weight enum or `None` for 'weights' are deprecated since 0.13 and may be removed in the future. The current behavior is equivalent to passing `weights=ResNet101_Weights.IMAGENET1K_V1`. You can also use `weights=ResNet101_Weights.DEFAULT` to get the most up-to-date weights.\n",
      "  warnings.warn(msg)\n"
     ]
    },
    {
     "name": "stdout",
     "output_type": "stream",
     "text": [
      "loading...  vgg16\n"
     ]
    },
    {
     "name": "stderr",
     "output_type": "stream",
     "text": [
      "/coc/scratch/debopam/env/envs/psml/lib/python3.10/site-packages/torchvision/models/_utils.py:223: UserWarning: Arguments other than a weight enum or `None` for 'weights' are deprecated since 0.13 and may be removed in the future. The current behavior is equivalent to passing `weights=VGG16_Weights.IMAGENET1K_V1`. You can also use `weights=VGG16_Weights.DEFAULT` to get the most up-to-date weights.\n",
      "  warnings.warn(msg)\n"
     ]
    },
    {
     "name": "stdout",
     "output_type": "stream",
     "text": [
      "loading...  vgg19\n"
     ]
    },
    {
     "name": "stderr",
     "output_type": "stream",
     "text": [
      "/coc/scratch/debopam/env/envs/psml/lib/python3.10/site-packages/torchvision/models/_utils.py:223: UserWarning: Arguments other than a weight enum or `None` for 'weights' are deprecated since 0.13 and may be removed in the future. The current behavior is equivalent to passing `weights=VGG19_Weights.IMAGENET1K_V1`. You can also use `weights=VGG19_Weights.DEFAULT` to get the most up-to-date weights.\n",
      "  warnings.warn(msg)\n"
     ]
    },
    {
     "name": "stdout",
     "output_type": "stream",
     "text": [
      "loading...  densenet121\n",
      "loading...  densenet201\n"
     ]
    },
    {
     "name": "stderr",
     "output_type": "stream",
     "text": [
      "/coc/scratch/debopam/env/envs/psml/lib/python3.10/site-packages/torchvision/models/_utils.py:223: UserWarning: Arguments other than a weight enum or `None` for 'weights' are deprecated since 0.13 and may be removed in the future. The current behavior is equivalent to passing `weights=DenseNet121_Weights.IMAGENET1K_V1`. You can also use `weights=DenseNet121_Weights.DEFAULT` to get the most up-to-date weights.\n",
      "  warnings.warn(msg)\n",
      "/coc/scratch/debopam/env/envs/psml/lib/python3.10/site-packages/torchvision/models/_utils.py:223: UserWarning: Arguments other than a weight enum or `None` for 'weights' are deprecated since 0.13 and may be removed in the future. The current behavior is equivalent to passing `weights=DenseNet201_Weights.IMAGENET1K_V1`. You can also use `weights=DenseNet201_Weights.DEFAULT` to get the most up-to-date weights.\n",
      "  warnings.warn(msg)\n"
     ]
    },
    {
     "name": "stdout",
     "output_type": "stream",
     "text": [
      "loading...  mobilenet_v2\n",
      "loading...  inception_v3\n"
     ]
    },
    {
     "name": "stderr",
     "output_type": "stream",
     "text": [
      "/coc/scratch/debopam/env/envs/psml/lib/python3.10/site-packages/torchvision/models/_utils.py:223: UserWarning: Arguments other than a weight enum or `None` for 'weights' are deprecated since 0.13 and may be removed in the future. The current behavior is equivalent to passing `weights=MobileNet_V2_Weights.IMAGENET1K_V1`. You can also use `weights=MobileNet_V2_Weights.DEFAULT` to get the most up-to-date weights.\n",
      "  warnings.warn(msg)\n",
      "/coc/scratch/debopam/env/envs/psml/lib/python3.10/site-packages/torchvision/models/_utils.py:223: UserWarning: Arguments other than a weight enum or `None` for 'weights' are deprecated since 0.13 and may be removed in the future. The current behavior is equivalent to passing `weights=Inception_V3_Weights.IMAGENET1K_V1`. You can also use `weights=Inception_V3_Weights.DEFAULT` to get the most up-to-date weights.\n",
      "  warnings.warn(msg)\n"
     ]
    },
    {
     "name": "stdout",
     "output_type": "stream",
     "text": [
      "loading...  efficientnet_b0\n",
      "loading...  efficientnet_b7\n"
     ]
    },
    {
     "name": "stderr",
     "output_type": "stream",
     "text": [
      "/coc/scratch/debopam/env/envs/psml/lib/python3.10/site-packages/torchvision/models/_utils.py:223: UserWarning: Arguments other than a weight enum or `None` for 'weights' are deprecated since 0.13 and may be removed in the future. The current behavior is equivalent to passing `weights=EfficientNet_B0_Weights.IMAGENET1K_V1`. You can also use `weights=EfficientNet_B0_Weights.DEFAULT` to get the most up-to-date weights.\n",
      "  warnings.warn(msg)\n",
      "/coc/scratch/debopam/env/envs/psml/lib/python3.10/site-packages/torchvision/models/_utils.py:223: UserWarning: Arguments other than a weight enum or `None` for 'weights' are deprecated since 0.13 and may be removed in the future. The current behavior is equivalent to passing `weights=EfficientNet_B7_Weights.IMAGENET1K_V1`. You can also use `weights=EfficientNet_B7_Weights.DEFAULT` to get the most up-to-date weights.\n",
      "  warnings.warn(msg)\n"
     ]
    },
    {
     "name": "stdout",
     "output_type": "stream",
     "text": [
      "loading...  squeezenet1_0\n",
      "loading...  alexnet\n"
     ]
    },
    {
     "name": "stderr",
     "output_type": "stream",
     "text": [
      "/coc/scratch/debopam/env/envs/psml/lib/python3.10/site-packages/torchvision/models/_utils.py:223: UserWarning: Arguments other than a weight enum or `None` for 'weights' are deprecated since 0.13 and may be removed in the future. The current behavior is equivalent to passing `weights=SqueezeNet1_0_Weights.IMAGENET1K_V1`. You can also use `weights=SqueezeNet1_0_Weights.DEFAULT` to get the most up-to-date weights.\n",
      "  warnings.warn(msg)\n",
      "/coc/scratch/debopam/env/envs/psml/lib/python3.10/site-packages/torchvision/models/_utils.py:223: UserWarning: Arguments other than a weight enum or `None` for 'weights' are deprecated since 0.13 and may be removed in the future. The current behavior is equivalent to passing `weights=AlexNet_Weights.IMAGENET1K_V1`. You can also use `weights=AlexNet_Weights.DEFAULT` to get the most up-to-date weights.\n",
      "  warnings.warn(msg)\n"
     ]
    },
    {
     "name": "stdout",
     "output_type": "stream",
     "text": [
      "loading...  googlenet\n"
     ]
    },
    {
     "name": "stderr",
     "output_type": "stream",
     "text": [
      "/coc/scratch/debopam/env/envs/psml/lib/python3.10/site-packages/torchvision/models/_utils.py:223: UserWarning: Arguments other than a weight enum or `None` for 'weights' are deprecated since 0.13 and may be removed in the future. The current behavior is equivalent to passing `weights=GoogLeNet_Weights.IMAGENET1K_V1`. You can also use `weights=GoogLeNet_Weights.DEFAULT` to get the most up-to-date weights.\n",
      "  warnings.warn(msg)\n"
     ]
    },
    {
     "name": "stdout",
     "output_type": "stream",
     "text": [
      "loading...  shufflenet_v2_x1_0\n",
      "loading...  vit_base_patch16_224\n"
     ]
    },
    {
     "name": "stderr",
     "output_type": "stream",
     "text": [
      "/coc/scratch/debopam/env/envs/psml/lib/python3.10/site-packages/torchvision/models/_utils.py:223: UserWarning: Arguments other than a weight enum or `None` for 'weights' are deprecated since 0.13 and may be removed in the future. The current behavior is equivalent to passing `weights=ShuffleNet_V2_X1_0_Weights.IMAGENET1K_V1`. You can also use `weights=ShuffleNet_V2_X1_0_Weights.DEFAULT` to get the most up-to-date weights.\n",
      "  warnings.warn(msg)\n"
     ]
    },
    {
     "name": "stdout",
     "output_type": "stream",
     "text": [
      "loading...  vit_large_patch16_224\n",
      "loading...  deit_base_patch16_224\n",
      "loading...  convnext_base\n",
      "loading...  convnext_large\n",
      "Model Zoo contains 20 models:\n",
      " - resnet18\n",
      " - resnet50\n",
      " - resnet101\n",
      " - vgg16\n",
      " - vgg19\n",
      " - densenet121\n",
      " - densenet201\n",
      " - mobilenet_v2\n",
      " - inception_v3\n",
      " - efficientnet_b0\n",
      " - efficientnet_b7\n",
      " - squeezenet1_0\n",
      " - alexnet\n",
      " - googlenet\n",
      " - shufflenet_v2_x1_0\n",
      " - vit_base_patch16_224\n",
      " - vit_large_patch16_224\n",
      " - deit_base_patch16_224\n",
      " - convnext_base\n",
      " - convnext_large\n"
     ]
    }
   ],
   "source": [
    "for model_name in model_names:\n",
    "    print(\"loading... \", model_name)\n",
    "    model = load_model(model_name)\n",
    "    model.eval() \n",
    "    model_zoo[model_name] = model\n",
    "\n",
    "print(f\"Model Zoo contains {len(model_zoo)} models:\")\n",
    "for model_name in model_zoo:\n",
    "    print(f\" - {model_name}\")"
   ]
  },
  {
   "cell_type": "code",
   "execution_count": 8,
   "id": "0a94c138-4392-46ed-840d-66a2d32357fd",
   "metadata": {},
   "outputs": [],
   "source": [
    "# model_zoo['resnet18']"
   ]
  },
  {
   "cell_type": "code",
   "execution_count": 9,
   "id": "c89e13cb-f86d-48a9-845a-a64c87eb4505",
   "metadata": {},
   "outputs": [],
   "source": [
    "# model_zoo['googlenet']"
   ]
  },
  {
   "cell_type": "code",
   "execution_count": 8,
   "id": "27b582c8-f9a7-4d26-a1ee-378dc246384e",
   "metadata": {},
   "outputs": [],
   "source": [
    "transform = transforms.Compose([\n",
    "    transforms.Resize(256),\n",
    "    transforms.CenterCrop(224),\n",
    "    transforms.ToTensor(),\n",
    "    transforms.Normalize(mean=[0.485, 0.456, 0.406], std=[0.229, 0.224, 0.225])\n",
    "])"
   ]
  },
  {
   "cell_type": "code",
   "execution_count": 9,
   "id": "8c3ebe77-0a86-42db-a407-fb8fc206108c",
   "metadata": {},
   "outputs": [],
   "source": [
    "# https://huggingface.co/datasets/ILSVRC/imagenet-1k\n",
    "imagenet_data = datasets.ImageNet(root='./data/ILSVRC2012', split='val', transform=transform)\n",
    "data_loader = torch.utils.data.DataLoader(imagenet_data, batch_size=32, shuffle=False, num_workers=4)\n",
    "\n",
    "eval_size = 5000\n",
    "indices = np.random.choice(len(imagenet_data), eval_size, replace=False)\n",
    "eval_data = Subset(imagenet_data, indices)\n",
    "\n",
    "# eval_loader = torch.utils.data.DataLoader(eval_data, batch_size=32, shuffle=False, num_workers=4)\n",
    "eval_loader = torch.utils.data.DataLoader(eval_data, batch_size=1, shuffle=False, num_workers=4)"
   ]
  },
  {
   "cell_type": "code",
   "execution_count": 10,
   "id": "2b8ef2d7-a3d5-44f9-875e-6f5f20ac9d76",
   "metadata": {},
   "outputs": [
    {
     "data": {
      "text/plain": [
       "Dataset ImageNet\n",
       "    Number of datapoints: 50000\n",
       "    Root location: ./data/ILSVRC2012\n",
       "    Split: val\n",
       "    StandardTransform\n",
       "Transform: Compose(\n",
       "               Resize(size=256, interpolation=bilinear, max_size=None, antialias=None)\n",
       "               CenterCrop(size=(224, 224))\n",
       "               ToTensor()\n",
       "               Normalize(mean=[0.485, 0.456, 0.406], std=[0.229, 0.224, 0.225])\n",
       "           )"
      ]
     },
     "execution_count": 10,
     "metadata": {},
     "output_type": "execute_result"
    }
   ],
   "source": [
    "data_loader.dataset"
   ]
  },
  {
   "cell_type": "code",
   "execution_count": 12,
   "id": "ad9596f0-a4c2-4ce0-baca-6b5b26f67cdd",
   "metadata": {},
   "outputs": [
    {
     "name": "stdout",
     "output_type": "stream",
     "text": [
      "torch.Size([32, 3, 224, 224])\n",
      "torch.Size([32, 3, 224, 224])\n",
      "torch.Size([32, 3, 224, 224])\n",
      "torch.Size([32, 3, 224, 224])\n",
      "torch.Size([32, 3, 224, 224])\n",
      "torch.Size([32, 3, 224, 224])\n",
      "torch.Size([32, 3, 224, 224])\n",
      "torch.Size([32, 3, 224, 224])\n",
      "torch.Size([32, 3, 224, 224])\n",
      "torch.Size([32, 3, 224, 224])\n",
      "torch.Size([32, 3, 224, 224])\n",
      "torch.Size([32, 3, 224, 224])\n",
      "torch.Size([32, 3, 224, 224])\n",
      "torch.Size([32, 3, 224, 224])\n",
      "torch.Size([32, 3, 224, 224])\n",
      "torch.Size([32, 3, 224, 224])\n",
      "torch.Size([32, 3, 224, 224])\n",
      "torch.Size([32, 3, 224, 224])\n",
      "torch.Size([32, 3, 224, 224])\n",
      "torch.Size([32, 3, 224, 224])\n",
      "torch.Size([32, 3, 224, 224])\n",
      "torch.Size([32, 3, 224, 224])\n",
      "torch.Size([32, 3, 224, 224])\n",
      "torch.Size([32, 3, 224, 224])\n",
      "torch.Size([32, 3, 224, 224])\n",
      "torch.Size([32, 3, 224, 224])\n",
      "torch.Size([32, 3, 224, 224])\n",
      "torch.Size([32, 3, 224, 224])\n",
      "torch.Size([32, 3, 224, 224])\n",
      "torch.Size([32, 3, 224, 224])\n",
      "torch.Size([32, 3, 224, 224])\n",
      "torch.Size([32, 3, 224, 224])\n",
      "torch.Size([32, 3, 224, 224])\n",
      "torch.Size([32, 3, 224, 224])\n",
      "torch.Size([32, 3, 224, 224])\n",
      "torch.Size([32, 3, 224, 224])\n",
      "torch.Size([32, 3, 224, 224])\n",
      "torch.Size([32, 3, 224, 224])\n",
      "torch.Size([32, 3, 224, 224])\n",
      "torch.Size([32, 3, 224, 224])\n",
      "torch.Size([32, 3, 224, 224])\n",
      "torch.Size([32, 3, 224, 224])\n",
      "torch.Size([32, 3, 224, 224])\n",
      "torch.Size([32, 3, 224, 224])\n",
      "torch.Size([32, 3, 224, 224])\n",
      "torch.Size([32, 3, 224, 224])\n",
      "torch.Size([32, 3, 224, 224])\n",
      "torch.Size([32, 3, 224, 224])\n",
      "torch.Size([32, 3, 224, 224])\n"
     ]
    },
    {
     "ename": "KeyboardInterrupt",
     "evalue": "",
     "output_type": "error",
     "traceback": [
      "\u001b[0;31m---------------------------------------------------------------------------\u001b[0m",
      "\u001b[0;31mKeyboardInterrupt\u001b[0m                         Traceback (most recent call last)",
      "Cell \u001b[0;32mIn[12], line 1\u001b[0m\n\u001b[0;32m----> 1\u001b[0m \u001b[38;5;28;01mfor\u001b[39;00m images, labels \u001b[38;5;129;01min\u001b[39;00m data_loader:\n\u001b[1;32m      3\u001b[0m     \u001b[38;5;28mprint\u001b[39m(images\u001b[38;5;241m.\u001b[39mshape)\n",
      "File \u001b[0;32m/coc/scratch/debopam/env/envs/psml/lib/python3.10/site-packages/torch/utils/data/dataloader.py:628\u001b[0m, in \u001b[0;36m_BaseDataLoaderIter.__next__\u001b[0;34m(self)\u001b[0m\n\u001b[1;32m    625\u001b[0m \u001b[38;5;28;01mif\u001b[39;00m \u001b[38;5;28mself\u001b[39m\u001b[38;5;241m.\u001b[39m_sampler_iter \u001b[38;5;129;01mis\u001b[39;00m \u001b[38;5;28;01mNone\u001b[39;00m:\n\u001b[1;32m    626\u001b[0m     \u001b[38;5;66;03m# TODO(https://github.com/pytorch/pytorch/issues/76750)\u001b[39;00m\n\u001b[1;32m    627\u001b[0m     \u001b[38;5;28mself\u001b[39m\u001b[38;5;241m.\u001b[39m_reset()  \u001b[38;5;66;03m# type: ignore[call-arg]\u001b[39;00m\n\u001b[0;32m--> 628\u001b[0m data \u001b[38;5;241m=\u001b[39m \u001b[38;5;28;43mself\u001b[39;49m\u001b[38;5;241;43m.\u001b[39;49m\u001b[43m_next_data\u001b[49m\u001b[43m(\u001b[49m\u001b[43m)\u001b[49m\n\u001b[1;32m    629\u001b[0m \u001b[38;5;28mself\u001b[39m\u001b[38;5;241m.\u001b[39m_num_yielded \u001b[38;5;241m+\u001b[39m\u001b[38;5;241m=\u001b[39m \u001b[38;5;241m1\u001b[39m\n\u001b[1;32m    630\u001b[0m \u001b[38;5;28;01mif\u001b[39;00m \u001b[38;5;28mself\u001b[39m\u001b[38;5;241m.\u001b[39m_dataset_kind \u001b[38;5;241m==\u001b[39m _DatasetKind\u001b[38;5;241m.\u001b[39mIterable \u001b[38;5;129;01mand\u001b[39;00m \\\n\u001b[1;32m    631\u001b[0m         \u001b[38;5;28mself\u001b[39m\u001b[38;5;241m.\u001b[39m_IterableDataset_len_called \u001b[38;5;129;01mis\u001b[39;00m \u001b[38;5;129;01mnot\u001b[39;00m \u001b[38;5;28;01mNone\u001b[39;00m \u001b[38;5;129;01mand\u001b[39;00m \\\n\u001b[1;32m    632\u001b[0m         \u001b[38;5;28mself\u001b[39m\u001b[38;5;241m.\u001b[39m_num_yielded \u001b[38;5;241m>\u001b[39m \u001b[38;5;28mself\u001b[39m\u001b[38;5;241m.\u001b[39m_IterableDataset_len_called:\n",
      "File \u001b[0;32m/coc/scratch/debopam/env/envs/psml/lib/python3.10/site-packages/torch/utils/data/dataloader.py:1316\u001b[0m, in \u001b[0;36m_MultiProcessingDataLoaderIter._next_data\u001b[0;34m(self)\u001b[0m\n\u001b[1;32m   1313\u001b[0m     \u001b[38;5;28;01mreturn\u001b[39;00m \u001b[38;5;28mself\u001b[39m\u001b[38;5;241m.\u001b[39m_process_data(data)\n\u001b[1;32m   1315\u001b[0m \u001b[38;5;28;01massert\u001b[39;00m \u001b[38;5;129;01mnot\u001b[39;00m \u001b[38;5;28mself\u001b[39m\u001b[38;5;241m.\u001b[39m_shutdown \u001b[38;5;129;01mand\u001b[39;00m \u001b[38;5;28mself\u001b[39m\u001b[38;5;241m.\u001b[39m_tasks_outstanding \u001b[38;5;241m>\u001b[39m \u001b[38;5;241m0\u001b[39m\n\u001b[0;32m-> 1316\u001b[0m idx, data \u001b[38;5;241m=\u001b[39m \u001b[38;5;28;43mself\u001b[39;49m\u001b[38;5;241;43m.\u001b[39;49m\u001b[43m_get_data\u001b[49m\u001b[43m(\u001b[49m\u001b[43m)\u001b[49m\n\u001b[1;32m   1317\u001b[0m \u001b[38;5;28mself\u001b[39m\u001b[38;5;241m.\u001b[39m_tasks_outstanding \u001b[38;5;241m-\u001b[39m\u001b[38;5;241m=\u001b[39m \u001b[38;5;241m1\u001b[39m\n\u001b[1;32m   1318\u001b[0m \u001b[38;5;28;01mif\u001b[39;00m \u001b[38;5;28mself\u001b[39m\u001b[38;5;241m.\u001b[39m_dataset_kind \u001b[38;5;241m==\u001b[39m _DatasetKind\u001b[38;5;241m.\u001b[39mIterable:\n\u001b[1;32m   1319\u001b[0m     \u001b[38;5;66;03m# Check for _IterableDatasetStopIteration\u001b[39;00m\n",
      "File \u001b[0;32m/coc/scratch/debopam/env/envs/psml/lib/python3.10/site-packages/torch/utils/data/dataloader.py:1282\u001b[0m, in \u001b[0;36m_MultiProcessingDataLoaderIter._get_data\u001b[0;34m(self)\u001b[0m\n\u001b[1;32m   1278\u001b[0m     \u001b[38;5;66;03m# In this case, `self._data_queue` is a `queue.Queue`,. But we don't\u001b[39;00m\n\u001b[1;32m   1279\u001b[0m     \u001b[38;5;66;03m# need to call `.task_done()` because we don't use `.join()`.\u001b[39;00m\n\u001b[1;32m   1280\u001b[0m \u001b[38;5;28;01melse\u001b[39;00m:\n\u001b[1;32m   1281\u001b[0m     \u001b[38;5;28;01mwhile\u001b[39;00m \u001b[38;5;28;01mTrue\u001b[39;00m:\n\u001b[0;32m-> 1282\u001b[0m         success, data \u001b[38;5;241m=\u001b[39m \u001b[38;5;28;43mself\u001b[39;49m\u001b[38;5;241;43m.\u001b[39;49m\u001b[43m_try_get_data\u001b[49m\u001b[43m(\u001b[49m\u001b[43m)\u001b[49m\n\u001b[1;32m   1283\u001b[0m         \u001b[38;5;28;01mif\u001b[39;00m success:\n\u001b[1;32m   1284\u001b[0m             \u001b[38;5;28;01mreturn\u001b[39;00m data\n",
      "File \u001b[0;32m/coc/scratch/debopam/env/envs/psml/lib/python3.10/site-packages/torch/utils/data/dataloader.py:1120\u001b[0m, in \u001b[0;36m_MultiProcessingDataLoaderIter._try_get_data\u001b[0;34m(self, timeout)\u001b[0m\n\u001b[1;32m   1107\u001b[0m \u001b[38;5;28;01mdef\u001b[39;00m \u001b[38;5;21m_try_get_data\u001b[39m(\u001b[38;5;28mself\u001b[39m, timeout\u001b[38;5;241m=\u001b[39m_utils\u001b[38;5;241m.\u001b[39mMP_STATUS_CHECK_INTERVAL):\n\u001b[1;32m   1108\u001b[0m     \u001b[38;5;66;03m# Tries to fetch data from `self._data_queue` once for a given timeout.\u001b[39;00m\n\u001b[1;32m   1109\u001b[0m     \u001b[38;5;66;03m# This can also be used as inner loop of fetching without timeout, with\u001b[39;00m\n\u001b[0;32m   (...)\u001b[0m\n\u001b[1;32m   1117\u001b[0m     \u001b[38;5;66;03m# Returns a 2-tuple:\u001b[39;00m\n\u001b[1;32m   1118\u001b[0m     \u001b[38;5;66;03m#   (bool: whether successfully get data, any: data if successful else None)\u001b[39;00m\n\u001b[1;32m   1119\u001b[0m     \u001b[38;5;28;01mtry\u001b[39;00m:\n\u001b[0;32m-> 1120\u001b[0m         data \u001b[38;5;241m=\u001b[39m \u001b[38;5;28;43mself\u001b[39;49m\u001b[38;5;241;43m.\u001b[39;49m\u001b[43m_data_queue\u001b[49m\u001b[38;5;241;43m.\u001b[39;49m\u001b[43mget\u001b[49m\u001b[43m(\u001b[49m\u001b[43mtimeout\u001b[49m\u001b[38;5;241;43m=\u001b[39;49m\u001b[43mtimeout\u001b[49m\u001b[43m)\u001b[49m\n\u001b[1;32m   1121\u001b[0m         \u001b[38;5;28;01mreturn\u001b[39;00m (\u001b[38;5;28;01mTrue\u001b[39;00m, data)\n\u001b[1;32m   1122\u001b[0m     \u001b[38;5;28;01mexcept\u001b[39;00m \u001b[38;5;167;01mException\u001b[39;00m \u001b[38;5;28;01mas\u001b[39;00m e:\n\u001b[1;32m   1123\u001b[0m         \u001b[38;5;66;03m# At timeout and error, we manually check whether any worker has\u001b[39;00m\n\u001b[1;32m   1124\u001b[0m         \u001b[38;5;66;03m# failed. Note that this is the only mechanism for Windows to detect\u001b[39;00m\n\u001b[1;32m   1125\u001b[0m         \u001b[38;5;66;03m# worker failures.\u001b[39;00m\n",
      "File \u001b[0;32m/coc/scratch/debopam/env/envs/psml/lib/python3.10/multiprocessing/queues.py:113\u001b[0m, in \u001b[0;36mQueue.get\u001b[0;34m(self, block, timeout)\u001b[0m\n\u001b[1;32m    111\u001b[0m \u001b[38;5;28;01mif\u001b[39;00m block:\n\u001b[1;32m    112\u001b[0m     timeout \u001b[38;5;241m=\u001b[39m deadline \u001b[38;5;241m-\u001b[39m time\u001b[38;5;241m.\u001b[39mmonotonic()\n\u001b[0;32m--> 113\u001b[0m     \u001b[38;5;28;01mif\u001b[39;00m \u001b[38;5;129;01mnot\u001b[39;00m \u001b[38;5;28;43mself\u001b[39;49m\u001b[38;5;241;43m.\u001b[39;49m\u001b[43m_poll\u001b[49m\u001b[43m(\u001b[49m\u001b[43mtimeout\u001b[49m\u001b[43m)\u001b[49m:\n\u001b[1;32m    114\u001b[0m         \u001b[38;5;28;01mraise\u001b[39;00m Empty\n\u001b[1;32m    115\u001b[0m \u001b[38;5;28;01melif\u001b[39;00m \u001b[38;5;129;01mnot\u001b[39;00m \u001b[38;5;28mself\u001b[39m\u001b[38;5;241m.\u001b[39m_poll():\n",
      "File \u001b[0;32m/coc/scratch/debopam/env/envs/psml/lib/python3.10/multiprocessing/connection.py:257\u001b[0m, in \u001b[0;36m_ConnectionBase.poll\u001b[0;34m(self, timeout)\u001b[0m\n\u001b[1;32m    255\u001b[0m \u001b[38;5;28mself\u001b[39m\u001b[38;5;241m.\u001b[39m_check_closed()\n\u001b[1;32m    256\u001b[0m \u001b[38;5;28mself\u001b[39m\u001b[38;5;241m.\u001b[39m_check_readable()\n\u001b[0;32m--> 257\u001b[0m \u001b[38;5;28;01mreturn\u001b[39;00m \u001b[38;5;28;43mself\u001b[39;49m\u001b[38;5;241;43m.\u001b[39;49m\u001b[43m_poll\u001b[49m\u001b[43m(\u001b[49m\u001b[43mtimeout\u001b[49m\u001b[43m)\u001b[49m\n",
      "File \u001b[0;32m/coc/scratch/debopam/env/envs/psml/lib/python3.10/multiprocessing/connection.py:424\u001b[0m, in \u001b[0;36mConnection._poll\u001b[0;34m(self, timeout)\u001b[0m\n\u001b[1;32m    423\u001b[0m \u001b[38;5;28;01mdef\u001b[39;00m \u001b[38;5;21m_poll\u001b[39m(\u001b[38;5;28mself\u001b[39m, timeout):\n\u001b[0;32m--> 424\u001b[0m     r \u001b[38;5;241m=\u001b[39m \u001b[43mwait\u001b[49m\u001b[43m(\u001b[49m\u001b[43m[\u001b[49m\u001b[38;5;28;43mself\u001b[39;49m\u001b[43m]\u001b[49m\u001b[43m,\u001b[49m\u001b[43m \u001b[49m\u001b[43mtimeout\u001b[49m\u001b[43m)\u001b[49m\n\u001b[1;32m    425\u001b[0m     \u001b[38;5;28;01mreturn\u001b[39;00m \u001b[38;5;28mbool\u001b[39m(r)\n",
      "File \u001b[0;32m/coc/scratch/debopam/env/envs/psml/lib/python3.10/multiprocessing/connection.py:931\u001b[0m, in \u001b[0;36mwait\u001b[0;34m(object_list, timeout)\u001b[0m\n\u001b[1;32m    928\u001b[0m     deadline \u001b[38;5;241m=\u001b[39m time\u001b[38;5;241m.\u001b[39mmonotonic() \u001b[38;5;241m+\u001b[39m timeout\n\u001b[1;32m    930\u001b[0m \u001b[38;5;28;01mwhile\u001b[39;00m \u001b[38;5;28;01mTrue\u001b[39;00m:\n\u001b[0;32m--> 931\u001b[0m     ready \u001b[38;5;241m=\u001b[39m \u001b[43mselector\u001b[49m\u001b[38;5;241;43m.\u001b[39;49m\u001b[43mselect\u001b[49m\u001b[43m(\u001b[49m\u001b[43mtimeout\u001b[49m\u001b[43m)\u001b[49m\n\u001b[1;32m    932\u001b[0m     \u001b[38;5;28;01mif\u001b[39;00m ready:\n\u001b[1;32m    933\u001b[0m         \u001b[38;5;28;01mreturn\u001b[39;00m [key\u001b[38;5;241m.\u001b[39mfileobj \u001b[38;5;28;01mfor\u001b[39;00m (key, events) \u001b[38;5;129;01min\u001b[39;00m ready]\n",
      "File \u001b[0;32m/coc/scratch/debopam/env/envs/psml/lib/python3.10/selectors.py:416\u001b[0m, in \u001b[0;36m_PollLikeSelector.select\u001b[0;34m(self, timeout)\u001b[0m\n\u001b[1;32m    414\u001b[0m ready \u001b[38;5;241m=\u001b[39m []\n\u001b[1;32m    415\u001b[0m \u001b[38;5;28;01mtry\u001b[39;00m:\n\u001b[0;32m--> 416\u001b[0m     fd_event_list \u001b[38;5;241m=\u001b[39m \u001b[38;5;28;43mself\u001b[39;49m\u001b[38;5;241;43m.\u001b[39;49m\u001b[43m_selector\u001b[49m\u001b[38;5;241;43m.\u001b[39;49m\u001b[43mpoll\u001b[49m\u001b[43m(\u001b[49m\u001b[43mtimeout\u001b[49m\u001b[43m)\u001b[49m\n\u001b[1;32m    417\u001b[0m \u001b[38;5;28;01mexcept\u001b[39;00m \u001b[38;5;167;01mInterruptedError\u001b[39;00m:\n\u001b[1;32m    418\u001b[0m     \u001b[38;5;28;01mreturn\u001b[39;00m ready\n",
      "\u001b[0;31mKeyboardInterrupt\u001b[0m: "
     ]
    }
   ],
   "source": [
    "for images, labels in data_loader:\n",
    "            \n",
    "    print(images.shape)"
   ]
  },
  {
   "cell_type": "code",
   "execution_count": null,
   "id": "72e26c45",
   "metadata": {},
   "outputs": [],
   "source": [
    "data_loader"
   ]
  },
  {
   "cell_type": "code",
   "execution_count": 28,
   "id": "32d8c9b8-a0f0-46ca-a95a-97f3cc9b3b02",
   "metadata": {},
   "outputs": [],
   "source": [
    "device = torch.device('cuda' if torch.cuda.is_available() else 'cpu')"
   ]
  },
  {
   "cell_type": "code",
   "execution_count": 29,
   "id": "538dd4cc-9048-42de-83e6-65aa9ff4953f",
   "metadata": {},
   "outputs": [],
   "source": [
    "def evaluate_model(model, data_loader, device):\n",
    "    model = model.to(device)\n",
    "    model.eval()\n",
    "    \n",
    "    correct = 0\n",
    "    total = 0\n",
    "    total_time = 0\n",
    "\n",
    "    data_processed = 0 \n",
    "    last_logged = 0\n",
    "    \n",
    "    criterion = nn.CrossEntropyLoss()\n",
    "    with torch.no_grad():\n",
    "        for images, labels in data_loader:\n",
    "            \n",
    "            images, labels = images.to(device), labels.to(device)\n",
    "            \n",
    "            start_time = time.time()\n",
    "            outputs = model(images)\n",
    "            latency = time.time() - start_time\n",
    "            total_time += latency\n",
    "            \n",
    "            _, predicted = torch.max(outputs, 1)\n",
    "            total += labels.size(0)\n",
    "            correct += (predicted == labels).sum().item()\n",
    "\n",
    "            data_processed += labels.size(0)\n",
    "            \n",
    "            if data_processed - last_logged >= 500:\n",
    "                print(f\"Processed {data_processed}/{len(data_loader.dataset)} images...\")\n",
    "                last_logged = data_processed\n",
    "\n",
    "    accuracy = 100 * correct / total\n",
    "    avg_latency = total_time / len(data_loader)\n",
    "    \n",
    "    return accuracy, avg_latency"
   ]
  },
  {
   "cell_type": "code",
   "execution_count": 30,
   "id": "cde472f5-7487-4130-bb19-2d2dcabf877d",
   "metadata": {},
   "outputs": [
    {
     "name": "stdout",
     "output_type": "stream",
     "text": [
      "eval_loader's batch_size:  1\n",
      "Evaluating resnet18...\n",
      "Processed 500/5000 images...\n",
      "Processed 1000/5000 images...\n",
      "Processed 1500/5000 images...\n",
      "Processed 2000/5000 images...\n",
      "Processed 2500/5000 images...\n",
      "Processed 3000/5000 images...\n",
      "Processed 3500/5000 images...\n",
      "Processed 4000/5000 images...\n",
      "Processed 4500/5000 images...\n",
      "Processed 5000/5000 images...\n",
      "resnet18: Accuracy = 69.94%, Latency = 0.002560 seconds\n",
      "Evaluating resnet50...\n",
      "Processed 500/5000 images...\n",
      "Processed 1000/5000 images...\n",
      "Processed 1500/5000 images...\n",
      "Processed 2000/5000 images...\n",
      "Processed 2500/5000 images...\n",
      "Processed 3000/5000 images...\n",
      "Processed 3500/5000 images...\n",
      "Processed 4000/5000 images...\n",
      "Processed 4500/5000 images...\n",
      "Processed 5000/5000 images...\n",
      "resnet50: Accuracy = 75.96%, Latency = 0.005394 seconds\n",
      "Evaluating resnet101...\n",
      "Processed 500/5000 images...\n",
      "Processed 1000/5000 images...\n",
      "Processed 1500/5000 images...\n",
      "Processed 2000/5000 images...\n",
      "Processed 2500/5000 images...\n",
      "Processed 3000/5000 images...\n",
      "Processed 3500/5000 images...\n",
      "Processed 4000/5000 images...\n",
      "Processed 4500/5000 images...\n",
      "Processed 5000/5000 images...\n",
      "resnet101: Accuracy = 77.74%, Latency = 0.010318 seconds\n",
      "Evaluating vgg16...\n",
      "Processed 500/5000 images...\n",
      "Processed 1000/5000 images...\n",
      "Processed 1500/5000 images...\n",
      "Processed 2000/5000 images...\n",
      "Processed 2500/5000 images...\n",
      "Processed 3000/5000 images...\n",
      "Processed 3500/5000 images...\n",
      "Processed 4000/5000 images...\n",
      "Processed 4500/5000 images...\n",
      "Processed 5000/5000 images...\n",
      "vgg16: Accuracy = 71.62%, Latency = 0.001584 seconds\n",
      "Evaluating vgg19...\n",
      "Processed 500/5000 images...\n",
      "Processed 1000/5000 images...\n",
      "Processed 1500/5000 images...\n",
      "Processed 2000/5000 images...\n",
      "Processed 2500/5000 images...\n",
      "Processed 3000/5000 images...\n",
      "Processed 3500/5000 images...\n",
      "Processed 4000/5000 images...\n",
      "Processed 4500/5000 images...\n",
      "Processed 5000/5000 images...\n",
      "vgg19: Accuracy = 72.18%, Latency = 0.001850 seconds\n",
      "Evaluating densenet121...\n",
      "Processed 500/5000 images...\n",
      "Processed 1000/5000 images...\n",
      "Processed 1500/5000 images...\n",
      "Processed 2000/5000 images...\n",
      "Processed 2500/5000 images...\n",
      "Processed 3000/5000 images...\n",
      "Processed 3500/5000 images...\n",
      "Processed 4000/5000 images...\n",
      "Processed 4500/5000 images...\n",
      "Processed 5000/5000 images...\n",
      "densenet121: Accuracy = 74.58%, Latency = 0.013756 seconds\n",
      "Evaluating densenet201...\n",
      "Processed 500/5000 images...\n",
      "Processed 1000/5000 images...\n",
      "Processed 1500/5000 images...\n",
      "Processed 2000/5000 images...\n",
      "Processed 2500/5000 images...\n",
      "Processed 3000/5000 images...\n",
      "Processed 3500/5000 images...\n",
      "Processed 4000/5000 images...\n",
      "Processed 4500/5000 images...\n",
      "Processed 5000/5000 images...\n",
      "densenet201: Accuracy = 76.82%, Latency = 0.022687 seconds\n",
      "Evaluating mobilenet_v2...\n",
      "Processed 500/5000 images...\n",
      "Processed 1000/5000 images...\n",
      "Processed 1500/5000 images...\n",
      "Processed 2000/5000 images...\n",
      "Processed 2500/5000 images...\n",
      "Processed 3000/5000 images...\n",
      "Processed 3500/5000 images...\n",
      "Processed 4000/5000 images...\n",
      "Processed 4500/5000 images...\n",
      "Processed 5000/5000 images...\n",
      "mobilenet_v2: Accuracy = 71.92%, Latency = 0.003932 seconds\n",
      "Evaluating inception_v3...\n",
      "Processed 500/5000 images...\n",
      "Processed 1000/5000 images...\n",
      "Processed 1500/5000 images...\n",
      "Processed 2000/5000 images...\n",
      "Processed 2500/5000 images...\n",
      "Processed 3000/5000 images...\n",
      "Processed 3500/5000 images...\n",
      "Processed 4000/5000 images...\n",
      "Processed 4500/5000 images...\n",
      "Processed 5000/5000 images...\n",
      "inception_v3: Accuracy = 69.56%, Latency = 0.010631 seconds\n",
      "Evaluating efficientnet_b0...\n",
      "Processed 500/5000 images...\n",
      "Processed 1000/5000 images...\n",
      "Processed 1500/5000 images...\n",
      "Processed 2000/5000 images...\n",
      "Processed 2500/5000 images...\n",
      "Processed 3000/5000 images...\n",
      "Processed 3500/5000 images...\n",
      "Processed 4000/5000 images...\n",
      "Processed 4500/5000 images...\n",
      "Processed 5000/5000 images...\n",
      "efficientnet_b0: Accuracy = 77.64%, Latency = 0.006357 seconds\n",
      "Evaluating efficientnet_b7...\n",
      "Processed 500/5000 images...\n",
      "Processed 1000/5000 images...\n",
      "Processed 1500/5000 images...\n",
      "Processed 2000/5000 images...\n",
      "Processed 2500/5000 images...\n",
      "Processed 3000/5000 images...\n",
      "Processed 3500/5000 images...\n",
      "Processed 4000/5000 images...\n",
      "Processed 4500/5000 images...\n",
      "Processed 5000/5000 images...\n",
      "efficientnet_b7: Accuracy = 74.10%, Latency = 0.021247 seconds\n",
      "Evaluating squeezenet1_0...\n",
      "Processed 500/5000 images...\n",
      "Processed 1000/5000 images...\n",
      "Processed 1500/5000 images...\n",
      "Processed 2000/5000 images...\n",
      "Processed 2500/5000 images...\n",
      "Processed 3000/5000 images...\n",
      "Processed 3500/5000 images...\n",
      "Processed 4000/5000 images...\n",
      "Processed 4500/5000 images...\n",
      "Processed 5000/5000 images...\n",
      "squeezenet1_0: Accuracy = 58.64%, Latency = 0.002436 seconds\n",
      "Evaluating alexnet...\n",
      "Processed 500/5000 images...\n",
      "Processed 1000/5000 images...\n",
      "Processed 1500/5000 images...\n",
      "Processed 2000/5000 images...\n",
      "Processed 2500/5000 images...\n",
      "Processed 3000/5000 images...\n",
      "Processed 3500/5000 images...\n",
      "Processed 4000/5000 images...\n",
      "Processed 4500/5000 images...\n",
      "Processed 5000/5000 images...\n",
      "alexnet: Accuracy = 56.64%, Latency = 0.001001 seconds\n",
      "Evaluating googlenet...\n",
      "Processed 500/5000 images...\n",
      "Processed 1000/5000 images...\n",
      "Processed 1500/5000 images...\n",
      "Processed 2000/5000 images...\n",
      "Processed 2500/5000 images...\n",
      "Processed 3000/5000 images...\n",
      "Processed 3500/5000 images...\n",
      "Processed 4000/5000 images...\n",
      "Processed 4500/5000 images...\n",
      "Processed 5000/5000 images...\n",
      "googlenet: Accuracy = 70.16%, Latency = 0.006357 seconds\n",
      "Evaluating shufflenet_v2_x1_0...\n",
      "Processed 500/5000 images...\n",
      "Processed 1000/5000 images...\n",
      "Processed 1500/5000 images...\n",
      "Processed 2000/5000 images...\n",
      "Processed 2500/5000 images...\n",
      "Processed 3000/5000 images...\n",
      "Processed 3500/5000 images...\n",
      "Processed 4000/5000 images...\n",
      "Processed 4500/5000 images...\n",
      "Processed 5000/5000 images...\n",
      "shufflenet_v2_x1_0: Accuracy = 69.74%, Latency = 0.004581 seconds\n",
      "Evaluating vit_base_patch16_224...\n",
      "Processed 500/5000 images...\n",
      "Processed 1000/5000 images...\n",
      "Processed 1500/5000 images...\n",
      "Processed 2000/5000 images...\n",
      "Processed 2500/5000 images...\n",
      "Processed 3000/5000 images...\n",
      "Processed 3500/5000 images...\n",
      "Processed 4000/5000 images...\n",
      "Processed 4500/5000 images...\n",
      "Processed 5000/5000 images...\n",
      "vit_base_patch16_224: Accuracy = 81.14%, Latency = 0.004651 seconds\n",
      "Evaluating vit_large_patch16_224...\n",
      "Processed 500/5000 images...\n",
      "Processed 1000/5000 images...\n",
      "Processed 1500/5000 images...\n",
      "Processed 2000/5000 images...\n",
      "Processed 2500/5000 images...\n",
      "Processed 3000/5000 images...\n",
      "Processed 3500/5000 images...\n",
      "Processed 4000/5000 images...\n",
      "Processed 4500/5000 images...\n",
      "Processed 5000/5000 images...\n",
      "vit_large_patch16_224: Accuracy = 84.62%, Latency = 0.009018 seconds\n",
      "Evaluating deit_base_patch16_224...\n",
      "Processed 500/5000 images...\n",
      "Processed 1000/5000 images...\n",
      "Processed 1500/5000 images...\n",
      "Processed 2000/5000 images...\n",
      "Processed 2500/5000 images...\n",
      "Processed 3000/5000 images...\n",
      "Processed 3500/5000 images...\n",
      "Processed 4000/5000 images...\n",
      "Processed 4500/5000 images...\n",
      "Processed 5000/5000 images...\n",
      "deit_base_patch16_224: Accuracy = 81.80%, Latency = 0.004650 seconds\n",
      "Evaluating convnext_base...\n",
      "Processed 500/5000 images...\n",
      "Processed 1000/5000 images...\n",
      "Processed 1500/5000 images...\n",
      "Processed 2000/5000 images...\n",
      "Processed 2500/5000 images...\n",
      "Processed 3000/5000 images...\n",
      "Processed 3500/5000 images...\n",
      "Processed 4000/5000 images...\n",
      "Processed 4500/5000 images...\n",
      "Processed 5000/5000 images...\n",
      "convnext_base: Accuracy = 86.06%, Latency = 0.008640 seconds\n",
      "Evaluating convnext_large...\n",
      "Processed 500/5000 images...\n",
      "Processed 1000/5000 images...\n",
      "Processed 1500/5000 images...\n",
      "Processed 2000/5000 images...\n",
      "Processed 2500/5000 images...\n",
      "Processed 3000/5000 images...\n",
      "Processed 3500/5000 images...\n",
      "Processed 4000/5000 images...\n",
      "Processed 4500/5000 images...\n",
      "Processed 5000/5000 images...\n",
      "convnext_large: Accuracy = 86.42%, Latency = 0.008494 seconds\n",
      "Model: resnet18, Accuracy: 69.94%, Latency: 0.002560 seconds\n",
      "Model: resnet50, Accuracy: 75.96%, Latency: 0.005394 seconds\n",
      "Model: resnet101, Accuracy: 77.74%, Latency: 0.010318 seconds\n",
      "Model: vgg16, Accuracy: 71.62%, Latency: 0.001584 seconds\n",
      "Model: vgg19, Accuracy: 72.18%, Latency: 0.001850 seconds\n",
      "Model: densenet121, Accuracy: 74.58%, Latency: 0.013756 seconds\n",
      "Model: densenet201, Accuracy: 76.82%, Latency: 0.022687 seconds\n",
      "Model: mobilenet_v2, Accuracy: 71.92%, Latency: 0.003932 seconds\n",
      "Model: inception_v3, Accuracy: 69.56%, Latency: 0.010631 seconds\n",
      "Model: efficientnet_b0, Accuracy: 77.64%, Latency: 0.006357 seconds\n",
      "Model: efficientnet_b7, Accuracy: 74.10%, Latency: 0.021247 seconds\n",
      "Model: squeezenet1_0, Accuracy: 58.64%, Latency: 0.002436 seconds\n",
      "Model: alexnet, Accuracy: 56.64%, Latency: 0.001001 seconds\n",
      "Model: googlenet, Accuracy: 70.16%, Latency: 0.006357 seconds\n",
      "Model: shufflenet_v2_x1_0, Accuracy: 69.74%, Latency: 0.004581 seconds\n",
      "Model: vit_base_patch16_224, Accuracy: 81.14%, Latency: 0.004651 seconds\n",
      "Model: vit_large_patch16_224, Accuracy: 84.62%, Latency: 0.009018 seconds\n",
      "Model: deit_base_patch16_224, Accuracy: 81.80%, Latency: 0.004650 seconds\n",
      "Model: convnext_base, Accuracy: 86.06%, Latency: 0.008640 seconds\n",
      "Model: convnext_large, Accuracy: 86.42%, Latency: 0.008494 seconds\n"
     ]
    }
   ],
   "source": [
    "model_zoo_ = {}\n",
    "for model_name in model_names:\n",
    "    model = load_model(model_name)\n",
    "    model_zoo_[model_name] = model\n",
    "\n",
    "results = {}\n",
    "\n",
    "print(\"eval_loader's batch_size: \", eval_loader.batch_size)\n",
    "\n",
    "for model_name, model in model_zoo_.items():\n",
    "    print(f\"Evaluating {model_name}...\")\n",
    "    accuracy, latency = evaluate_model(model, eval_loader, device)\n",
    "    results[model_name] = {'accuracy': accuracy, 'latency': latency}\n",
    "    print(f\"{model_name}: Accuracy = {accuracy:.2f}%, Latency = {latency:.6f} seconds\")\n",
    "\n",
    "for model_name, metrics in results.items():\n",
    "    print(f\"Model: {model_name}, Accuracy: {metrics['accuracy']:.2f}%, Latency: {metrics['latency']:.6f} seconds\")"
   ]
  },
  {
   "cell_type": "code",
   "execution_count": 31,
   "id": "8474e00f-4910-44ce-92b6-cb3be56ba37c",
   "metadata": {},
   "outputs": [
    {
     "data": {
      "text/plain": [
       "{'resnet18': {'accuracy': 69.94, 'latency': 0.0025602481842041014},\n",
       " 'resnet50': {'accuracy': 75.96, 'latency': 0.005393585777282715},\n",
       " 'resnet101': {'accuracy': 77.74, 'latency': 0.01031811375617981},\n",
       " 'vgg16': {'accuracy': 71.62, 'latency': 0.0015843380451202392},\n",
       " 'vgg19': {'accuracy': 72.18, 'latency': 0.0018502508640289308},\n",
       " 'densenet121': {'accuracy': 74.58, 'latency': 0.01375580015182495},\n",
       " 'densenet201': {'accuracy': 76.82, 'latency': 0.02268699851036072},\n",
       " 'mobilenet_v2': {'accuracy': 71.92, 'latency': 0.003931878709793091},\n",
       " 'inception_v3': {'accuracy': 69.56, 'latency': 0.010631349945068359},\n",
       " 'efficientnet_b0': {'accuracy': 77.64, 'latency': 0.00635707573890686},\n",
       " 'efficientnet_b7': {'accuracy': 74.1, 'latency': 0.021246681070327757},\n",
       " 'squeezenet1_0': {'accuracy': 58.64, 'latency': 0.0024362491130828856},\n",
       " 'alexnet': {'accuracy': 56.64, 'latency': 0.0010008817672729493},\n",
       " 'googlenet': {'accuracy': 70.16, 'latency': 0.006356886625289917},\n",
       " 'shufflenet_v2_x1_0': {'accuracy': 69.74, 'latency': 0.004581389904022216},\n",
       " 'vit_base_patch16_224': {'accuracy': 81.14, 'latency': 0.004650892448425293},\n",
       " 'vit_large_patch16_224': {'accuracy': 84.62, 'latency': 0.009017883443832397},\n",
       " 'deit_base_patch16_224': {'accuracy': 81.8, 'latency': 0.00464960765838623},\n",
       " 'convnext_base': {'accuracy': 86.06, 'latency': 0.008640077209472656},\n",
       " 'convnext_large': {'accuracy': 86.42, 'latency': 0.008494399738311767}}"
      ]
     },
     "execution_count": 31,
     "metadata": {},
     "output_type": "execute_result"
    }
   ],
   "source": [
    "results"
   ]
  },
  {
   "cell_type": "code",
   "execution_count": 32,
   "id": "83fc88b5-11ad-4dbd-ab23-d1eb0125b292",
   "metadata": {},
   "outputs": [],
   "source": [
    "latencies = [metrics['latency'] for model_name, metrics in results.items()]\n",
    "accuracies = [metrics['accuracy'] for model_name, metrics in results.items()]"
   ]
  },
  {
   "cell_type": "code",
   "execution_count": 33,
   "id": "1890e812-e19a-48a9-bd57-3faae7bc1543",
   "metadata": {},
   "outputs": [
    {
     "name": "stdout",
     "output_type": "stream",
     "text": [
      "resnet18, acc: 69.94, mean latency: 0.003 ms\n",
      "resnet50, acc: 75.96, mean latency: 0.005 ms\n",
      "resnet101, acc: 77.74, mean latency: 0.010 ms\n",
      "vgg16, acc: 71.62, mean latency: 0.002 ms\n",
      "vgg19, acc: 72.18, mean latency: 0.002 ms\n",
      "densenet121, acc: 74.58, mean latency: 0.014 ms\n",
      "densenet201, acc: 76.82, mean latency: 0.023 ms\n",
      "mobilenet_v2, acc: 71.92, mean latency: 0.004 ms\n",
      "inception_v3, acc: 69.56, mean latency: 0.011 ms\n",
      "efficientnet_b0, acc: 77.64, mean latency: 0.006 ms\n",
      "efficientnet_b7, acc: 74.1, mean latency: 0.021 ms\n",
      "squeezenet1_0, acc: 58.64, mean latency: 0.002 ms\n",
      "alexnet, acc: 56.64, mean latency: 0.001 ms\n",
      "googlenet, acc: 70.16, mean latency: 0.006 ms\n",
      "shufflenet_v2_x1_0, acc: 69.74, mean latency: 0.005 ms\n",
      "vit_base_patch16_224, acc: 81.14, mean latency: 0.005 ms\n",
      "vit_large_patch16_224, acc: 84.62, mean latency: 0.009 ms\n",
      "deit_base_patch16_224, acc: 81.8, mean latency: 0.005 ms\n",
      "convnext_base, acc: 86.06, mean latency: 0.009 ms\n",
      "convnext_large, acc: 86.42, mean latency: 0.008 ms\n"
     ]
    },
    {
     "data": {
      "image/png": "[encoded data removed]",
      "text/plain": [
       "<Figure size 640x480 with 1 Axes>"
      ]
     },
     "metadata": {},
     "output_type": "display_data"
    }
   ],
   "source": [
    "for model_name, metrics in results.items():\n",
    "    print(f\"{model_name}, acc: {metrics['accuracy']}, mean latency: {metrics['latency']:.3f} ms\")\n",
    "    \n",
    "plt.scatter(latencies, accuracies, label=\"Models\", color='orange', marker='x')\n",
    "\n",
    "for model_name, metrics in results.items():\n",
    "    plt.text(metrics['latency'], metrics['accuracy'], model_name, fontsize=8)\n",
    "\n",
    "plt.title(\"Pareto Frontier\")\n",
    "plt.xlabel(\"Latency (ms)\")\n",
    "plt.ylabel(\"Accuracy\")\n",
    "\n",
    "current = datetime.now().strftime(\"%Y%m%d_%H%M%S\")\n",
    "plt.savefig(f\"figures/Pareto_Frontier_{current}.png\")"
   ]
  },
  {
   "cell_type": "code",
   "execution_count": 41,
   "id": "115ac116",
   "metadata": {},
   "outputs": [
    {
     "data": {
      "text/plain": [
       "11689512"
      ]
     },
     "execution_count": 41,
     "metadata": {},
     "output_type": "execute_result"
    }
   ],
   "source": [
    "def get_n_params(model):\n",
    "    return sum(p.numel() for p in model.parameters())\n",
    "\n",
    "get_n_params(model_zoo['resnet18'])"
   ]
  },
  {
   "cell_type": "code",
   "execution_count": 43,
   "id": "2d183243",
   "metadata": {},
   "outputs": [
    {
     "name": "stdout",
     "output_type": "stream",
     "text": [
      "resnet18, acc: 69.94, mean latency: 0.003 ms, num_of_parameters: 11689512\n",
      "resnet50, acc: 75.96, mean latency: 0.005 ms, num_of_parameters: 25557032\n",
      "resnet101, acc: 77.74, mean latency: 0.010 ms, num_of_parameters: 44549160\n",
      "vgg16, acc: 71.62, mean latency: 0.002 ms, num_of_parameters: 138357544\n",
      "vgg19, acc: 72.18, mean latency: 0.002 ms, num_of_parameters: 143667240\n",
      "densenet121, acc: 74.58, mean latency: 0.014 ms, num_of_parameters: 7978856\n",
      "densenet201, acc: 76.82, mean latency: 0.023 ms, num_of_parameters: 20013928\n",
      "mobilenet_v2, acc: 71.92, mean latency: 0.004 ms, num_of_parameters: 3504872\n",
      "inception_v3, acc: 69.56, mean latency: 0.011 ms, num_of_parameters: 27161264\n",
      "efficientnet_b0, acc: 77.64, mean latency: 0.006 ms, num_of_parameters: 5288548\n",
      "efficientnet_b7, acc: 74.1, mean latency: 0.021 ms, num_of_parameters: 66347960\n",
      "squeezenet1_0, acc: 58.64, mean latency: 0.002 ms, num_of_parameters: 1248424\n",
      "alexnet, acc: 56.64, mean latency: 0.001 ms, num_of_parameters: 61100840\n",
      "googlenet, acc: 70.16, mean latency: 0.006 ms, num_of_parameters: 6624904\n",
      "shufflenet_v2_x1_0, acc: 69.74, mean latency: 0.005 ms, num_of_parameters: 2278604\n",
      "vit_base_patch16_224, acc: 81.14, mean latency: 0.005 ms, num_of_parameters: 86567656\n",
      "vit_large_patch16_224, acc: 84.62, mean latency: 0.009 ms, num_of_parameters: 304326632\n",
      "deit_base_patch16_224, acc: 81.8, mean latency: 0.005 ms, num_of_parameters: 86567656\n",
      "convnext_base, acc: 86.06, mean latency: 0.009 ms, num_of_parameters: 88591464\n",
      "convnext_large, acc: 86.42, mean latency: 0.008 ms, num_of_parameters: 197767336\n"
     ]
    }
   ],
   "source": [
    "for model_name, metrics in results.items():\n",
    "    print(f\"{model_name}, acc: {metrics['accuracy']}, mean latency: {metrics['latency']:.3f} ms, num_of_parameters: {get_n_params(model_zoo[model_name])}\")"
   ]
  },
  {
   "cell_type": "code",
   "execution_count": 48,
   "id": "a0d13969",
   "metadata": {},
   "outputs": [
    {
     "data": {
      "image/png": "[encoded data removed]",
      "text/plain": [
       "<Figure size 640x480 with 1 Axes>"
      ]
     },
     "metadata": {},
     "output_type": "display_data"
    }
   ],
   "source": [
    "num_of_params = [get_n_params(model_zoo[model_name]) for model_name, metrics in results.items()]\n",
    "    \n",
    "plt.scatter(num_of_params, accuracies, label=\"Models\", color='green', marker='x')\n",
    "\n",
    "for model_name, metrics in results.items():\n",
    "    plt.text(get_n_params(model_zoo[model_name]), metrics['accuracy'], model_name, fontsize=8)\n",
    "\n",
    "# plt.title(\"Pareto Frontier\")\n",
    "# plt.xlabel(\"Latency (ms)\")\n",
    "# plt.ylabel(\"Num of Params\")\n",
    "\n",
    "# current = datetime.now().strftime(\"%Y%m%d_%H%M%S\")\n",
    "# plt.savefig(f\"figures/Pareto_Frontier_{current}.png\")\n",
    "    "
   ]
  },
  {
   "cell_type": "code",
   "execution_count": 46,
   "id": "0bbb0d60",
   "metadata": {},
   "outputs": [
    {
     "data": {
      "text/plain": [
       "0.008494399738311767"
      ]
     },
     "execution_count": 46,
     "metadata": {},
     "output_type": "execute_result"
    }
   ],
   "source": [
    "num_of_params\n",
    "\n",
    "metrics['latency']"
   ]
  },
  {
   "cell_type": "code",
   "execution_count": null,
   "id": "085b5ac3",
   "metadata": {},
   "outputs": [],
   "source": []
  }
 ],
 "metadata": {
  "kernelspec": {
   "display_name": "Python 3 (ipykernel)",
   "language": "python",
   "name": "python3"
  },
  "language_info": {
   "codemirror_mode": {
    "name": "ipython",
    "version": 3
   },
   "file_extension": ".py",
   "mimetype": "text/x-python",
   "name": "python",
   "nbconvert_exporter": "python",
   "pygments_lexer": "ipython3",
   "version": "3.8.6"
  }
 },
 "nbformat": 4,
 "nbformat_minor": 5
}
