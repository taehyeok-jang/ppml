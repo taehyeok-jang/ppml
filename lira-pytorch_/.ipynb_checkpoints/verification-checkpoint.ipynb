{
 "cells": [
  {
   "cell_type": "code",
   "execution_count": 1,
   "id": "3d1e6753-7c8a-45c4-8bb8-fbdd6f450c7e",
   "metadata": {},
   "outputs": [],
   "source": [
    "import os\n",
    "from pathlib import Path\n",
    "import argparse\n",
    "import functools\n",
    "\n",
    "import matplotlib\n",
    "import matplotlib.pyplot as plt\n",
    "import numpy as np\n",
    "import scipy.stats\n",
    "from sklearn.metrics import auc, roc_curve\n",
    "import pandas as pd\n",
    "\n"
   ]
  },
  {
   "cell_type": "code",
   "execution_count": 2,
   "id": "2f162c83-256f-4058-b466-b7e320e2428f",
   "metadata": {},
   "outputs": [],
   "source": [
    "# Set the display option to show all rows\n",
    "pd.set_option('display.max_rows', 20)"
   ]
  },
  {
   "cell_type": "code",
   "execution_count": 3,
   "id": "9f2cf4c9-a892-45dd-a5a7-33dbfb8a5a90",
   "metadata": {},
   "outputs": [],
   "source": [
    "savedir = \"exp/cifar10\""
   ]
  },
  {
   "cell_type": "code",
   "execution_count": 4,
   "id": "d30d6d47-e4c6-4fc8-85f2-22c7420b951b",
   "metadata": {},
   "outputs": [],
   "source": [
    "def load_data():\n",
    "\n",
    "    global keep, logits, scores\n",
    "    keep = []\n",
    "    logits = []\n",
    "    scores = []\n",
    "    \n",
    "    for path in os.listdir(savedir):\n",
    "        print(\"path: \", path)\n",
    "        keep.append(np.load(os.path.join(savedir, path, \"keep.npy\")))\n",
    "        logits.append(np.load(os.path.join(savedir, path, \"logits.npy\")))\n",
    "        scores.append(np.load(os.path.join(savedir, path, \"scores.npy\")))\n",
    "\n",
    "    keep = np.array(keep)\n",
    "    logits = np.array(logits)\n",
    "    scores = np.array(scores)\n",
    "\n",
    "    return keep, logits, scores"
   ]
  },
  {
   "cell_type": "code",
   "execution_count": 5,
   "id": "b5ba8fee-c327-4f91-8a6d-bfbc378bceaf",
   "metadata": {},
   "outputs": [],
   "source": [
    "keep, logits, scores = load_data()"
   ]
  },
  {
   "cell_type": "code",
   "execution_count": 6,
   "id": "613d2b74-2ccb-4ad1-912f-88ce99b446ae",
   "metadata": {},
   "outputs": [
    {
     "name": "stdout",
     "output_type": "stream",
     "text": [
      "(64, 40000)\n"
     ]
    }
   ],
   "source": [
    "print(keep.shape)\n",
    "# print(keep)"
   ]
  },
  {
   "cell_type": "code",
   "execution_count": 7,
   "id": "1f95ed07-2a01-465a-af25-f46c6fd5ac23",
   "metadata": {},
   "outputs": [
    {
     "name": "stdout",
     "output_type": "stream",
     "text": [
      "(64, 40000, 2, 10)\n",
      "[[[[-1.7883477e+00 -5.6704698e+00  2.8770428e+00 ...  1.0131285e+00\n",
      "    -4.6593399e+00 -4.0867610e+00]\n",
      "   [-1.9199970e+00 -5.2500310e+00  1.3367171e+00 ...  2.6929588e+00\n",
      "    -4.9380636e+00 -3.5059118e+00]]\n",
      "\n",
      "  [[-2.3864501e+00 -4.8438516e+00  4.9742112e+00 ... -1.7895120e+00\n",
      "    -8.7686187e-01 -4.1377358e+00]\n",
      "   [-2.3094807e+00 -4.5991073e+00  4.3909941e+00 ... -1.8581053e+00\n",
      "    -4.1574976e-01 -3.8941360e+00]]\n",
      "\n",
      "  [[-3.5847099e+00 -3.3064373e+00 -2.3380440e-01 ...  1.7355362e+00\n",
      "    -5.0612311e+00 -3.2215145e+00]\n",
      "   [-2.7517297e+00 -4.2107358e+00  2.7253738e-01 ...  4.3415529e-01\n",
      "    -3.3611584e+00 -2.8770721e+00]]\n",
      "\n",
      "  ...\n",
      "\n",
      "  [[ 1.3101047e-01  2.7060312e+01 -6.6546555e+00 ... -7.9745727e+00\n",
      "     2.5272655e+00  9.4851389e+00]\n",
      "   [ 1.1311367e-01  1.9817822e+01 -4.9686284e+00 ... -5.7868972e+00\n",
      "     1.8784015e+00  7.1328650e+00]]\n",
      "\n",
      "  [[ 1.1475042e+01 -1.3717729e+00  2.6548419e+00 ... -1.0020841e+00\n",
      "     5.7372922e-01 -9.2749661e-01]\n",
      "   [ 1.2022043e+01 -1.2462178e+00  2.2052798e+00 ... -8.9421564e-01\n",
      "     6.2983322e-01 -4.5449114e-01]]\n",
      "\n",
      "  [[ 2.9957807e-01 -9.7733945e-02 -2.2328937e-01 ... -5.3945580e+00\n",
      "     1.1193246e+01  6.3768369e-01]\n",
      "   [ 2.4891272e-01  1.3399914e-01 -2.2011712e-01 ... -5.4849067e+00\n",
      "     1.1254842e+01  5.5921251e-01]]]\n",
      "\n",
      "\n",
      " [[[-8.4778816e-01 -4.5647969e+00  1.8667587e+00 ...  1.1621321e+00\n",
      "    -4.3042593e+00 -3.5509903e+00]\n",
      "   [-7.3441917e-01 -4.2743120e+00  1.8761455e+00 ...  2.7855978e+00\n",
      "    -4.5657845e+00 -3.4004929e+00]]\n",
      "\n",
      "  [[-1.6536884e+00 -5.6056237e+00  1.8543993e+00 ... -1.7881742e+00\n",
      "    -2.2539568e+00 -3.1485183e+00]\n",
      "   [-1.7824330e+00 -5.4643321e+00  1.0697254e+00 ... -1.8731176e+00\n",
      "    -1.8780125e+00 -2.7608726e+00]]\n",
      "\n",
      "  [[-2.5803485e+00 -4.1391954e+00  1.0222981e-01 ... -7.8165285e-02\n",
      "    -2.9755170e+00 -2.8787789e+00]\n",
      "   [-1.2373309e+00 -4.5740294e+00 -4.7369689e-01 ... -4.6282470e-01\n",
      "    -2.6277032e+00 -2.7104042e+00]]\n",
      "\n",
      "  ...\n",
      "\n",
      "  [[-1.3079615e+00  2.7453308e+01 -6.0117674e+00 ... -6.2411132e+00\n",
      "     2.6750252e+00  6.4364319e+00]\n",
      "   [-6.1738873e-01  2.0093987e+01 -4.4089661e+00 ... -4.6257591e+00\n",
      "     2.0880866e+00  4.9368391e+00]]\n",
      "\n",
      "  [[ 1.2578758e+01 -2.6290350e+00  2.0114732e+00 ... -1.2608845e+00\n",
      "     1.4834089e+00 -9.7888005e-01]\n",
      "   [ 1.3245237e+01 -2.4410012e+00  1.6387279e+00 ... -1.4609356e+00\n",
      "     2.1500509e+00 -6.6528130e-01]]\n",
      "\n",
      "  [[ 1.9134630e+00  6.7460895e-01 -2.2766128e+00 ... -3.5525424e+00\n",
      "     1.1190636e+01 -1.6191432e-01]\n",
      "   [ 1.4766215e+00  4.2554623e-01 -2.0903606e+00 ... -3.7964571e+00\n",
      "     1.1696264e+01 -2.5393569e-01]]]\n",
      "\n",
      "\n",
      " [[[-5.9928447e-01 -4.6516576e+00  2.8124464e+00 ...  1.5099031e+00\n",
      "    -2.7570462e+00 -3.8150671e+00]\n",
      "   [-1.0975727e+00 -4.6161423e+00  6.8564093e-01 ...  3.3876553e+00\n",
      "    -2.7491071e+00 -3.1076941e+00]]\n",
      "\n",
      "  [[-1.7245777e+00 -4.5109916e+00  2.8273532e-01 ...  3.0600914e-01\n",
      "    -2.6354403e+00 -3.2095182e+00]\n",
      "   [-2.3824890e+00 -4.5086250e+00  4.7212964e-01 ...  1.0124657e-01\n",
      "    -3.0413644e+00 -3.3089471e+00]]\n",
      "\n",
      "  [[-2.6516311e+00 -4.4607916e+00 -8.0145156e-01 ...  1.0434885e+00\n",
      "    -3.4298615e+00 -2.8717592e+00]\n",
      "   [-2.6317167e+00 -4.3686061e+00 -7.6258439e-01 ...  2.5544316e-01\n",
      "    -3.4315343e+00 -3.0489845e+00]]\n",
      "\n",
      "  ...\n",
      "\n",
      "  [[-8.6544156e-01  2.3097755e+01 -3.3404632e+00 ... -8.9217863e+00\n",
      "     2.6803734e+00  4.7344003e+00]\n",
      "   [-5.4584467e-01  1.6645761e+01 -2.3277819e+00 ... -6.3617024e+00\n",
      "     1.5493511e+00  3.5108898e+00]]\n",
      "\n",
      "  [[ 1.1598702e+01 -2.3173089e+00  2.9046009e+00 ... -2.1942356e+00\n",
      "     1.8117760e+00 -1.5234014e+00]\n",
      "   [ 1.1799819e+01 -2.0160432e+00  1.7221402e+00 ... -2.2975886e+00\n",
      "     2.7620914e+00 -7.1106535e-01]]\n",
      "\n",
      "  [[ 1.3686606e-01  3.2026237e-01 -6.4929670e-01 ... -1.4498754e+00\n",
      "     7.1877694e+00 -5.0449127e-01]\n",
      "   [ 6.2056285e-01  4.3679681e-01 -1.0956028e+00 ... -2.0694056e+00\n",
      "     9.6107082e+00 -7.1827248e-02]]]\n",
      "\n",
      "\n",
      " ...\n",
      "\n",
      "\n",
      " [[[-1.4560403e+00 -6.0833263e+00  2.5161121e+00 ...  1.0096778e+00\n",
      "    -4.2039895e+00 -4.1131678e+00]\n",
      "   [-2.0407622e+00 -6.9420691e+00  1.7842027e+00 ...  1.5884713e+00\n",
      "    -5.0099592e+00 -4.7426987e+00]]\n",
      "\n",
      "  [[-2.1186378e+00 -4.1232595e+00  9.5590156e-01 ...  1.6911231e-01\n",
      "    -2.7267439e+00 -3.0702739e+00]\n",
      "   [-1.9921514e+00 -4.3000083e+00  1.6700273e+00 ... -1.9794402e-01\n",
      "    -2.6688409e+00 -3.3727846e+00]]\n",
      "\n",
      "  [[-1.9387269e+00 -4.8536663e+00  9.7031586e-02 ...  3.7443003e-01\n",
      "    -3.5801418e+00 -3.0557694e+00]\n",
      "   [-2.0845544e+00 -5.1141677e+00 -4.7104526e-01 ...  8.2346207e-01\n",
      "    -3.6634538e+00 -3.2968755e+00]]\n",
      "\n",
      "  ...\n",
      "\n",
      "  [[ 2.1808293e+00  2.8816103e+01 -9.7179031e+00 ... -9.2839508e+00\n",
      "     5.6610599e+00  9.9223194e+00]\n",
      "   [ 9.9331242e-01  1.6383064e+01 -5.6725216e+00 ... -4.9249620e+00\n",
      "     2.0665097e+00  6.4350677e+00]]\n",
      "\n",
      "  [[ 1.1437704e+01 -2.1851490e+00  1.2858099e+00 ... -1.8325766e+00\n",
      "     1.4075243e+00  1.6491898e+00]\n",
      "   [ 1.1559804e+01 -2.0844533e+00  1.1680311e+00 ... -2.2926435e+00\n",
      "     2.1673996e+00  1.8258940e+00]]\n",
      "\n",
      "  [[ 4.6981349e+00 -4.1214865e-01 -1.6719402e-01 ... -2.9423342e+00\n",
      "     5.3252244e+00  1.3891624e+00]\n",
      "   [ 2.4954548e+00  3.1730339e-02 -4.7155869e-01 ... -3.7843151e+00\n",
      "     7.7469983e+00  1.4962013e+00]]]\n",
      "\n",
      "\n",
      " [[[-1.4288054e+00 -6.3551307e+00  1.3473170e+00 ...  1.7215060e+00\n",
      "    -3.2486379e+00 -3.3534865e+00]\n",
      "   [-1.5322223e+00 -6.3159513e+00  8.7449306e-01 ...  2.0697539e+00\n",
      "    -3.2865481e+00 -3.3439026e+00]]\n",
      "\n",
      "  [[-2.6603942e+00 -5.3369417e+00  4.9433513e+00 ... -1.6996003e+00\n",
      "    -1.1609648e+00 -3.2477462e+00]\n",
      "   [-2.9573047e+00 -5.4340601e+00  2.8903251e+00 ... -2.1148009e+00\n",
      "    -1.1413445e+00 -3.2864482e+00]]\n",
      "\n",
      "  [[-4.2946362e+00 -3.6551263e+00  3.1390432e-01 ...  1.7933189e+00\n",
      "    -4.0324988e+00 -2.9169486e+00]\n",
      "   [-4.2669325e+00 -3.5269718e+00  1.7264384e-01 ...  1.7846423e-01\n",
      "    -3.6428363e+00 -2.8843167e+00]]\n",
      "\n",
      "  ...\n",
      "\n",
      "  [[ 2.0747094e+00  3.5380440e+01 -6.7178788e+00 ... -1.0968191e+01\n",
      "     4.1623330e+00  7.1928010e+00]\n",
      "   [ 1.4065554e+00  2.2622684e+01 -4.4383221e+00 ... -6.9826121e+00\n",
      "     2.3850062e+00  4.9227495e+00]]\n",
      "\n",
      "  [[ 1.3786885e+01 -1.7478698e+00  1.6435640e+00 ... -1.2353516e+00\n",
      "     5.4292423e-01  1.0007989e-01]\n",
      "   [ 1.4018319e+01 -1.6168087e+00  1.7511590e+00 ... -1.2707777e+00\n",
      "     3.3008641e-01  2.2817314e-01]]\n",
      "\n",
      "  [[ 6.3841355e-01 -1.6904671e-01 -8.9997983e-01 ... -3.2569807e+00\n",
      "     1.0898150e+01  9.6122706e-01]\n",
      "   [ 2.4767621e-01 -2.2133872e-01 -7.7120209e-01 ... -3.3819075e+00\n",
      "     1.0723431e+01  7.2815073e-01]]]\n",
      "\n",
      "\n",
      " [[[-2.2682142e+00 -6.5512490e+00  2.5227199e+00 ...  1.8385743e+00\n",
      "    -4.0970316e+00 -4.7114930e+00]\n",
      "   [-1.8559690e+00 -4.4757738e+00  2.4520741e+00 ...  3.8515766e+00\n",
      "    -3.6037936e+00 -3.6568100e+00]]\n",
      "\n",
      "  [[-1.9051534e+00 -5.6310964e+00  1.7933563e+00 ...  2.2486746e-03\n",
      "    -2.7776577e+00 -3.2701235e+00]\n",
      "   [-1.7665271e+00 -5.1902680e+00  1.3152007e+00 ... -3.9307681e-01\n",
      "    -2.1578612e+00 -2.6751180e+00]]\n",
      "\n",
      "  [[-3.6582141e+00 -5.4154687e+00  3.6149925e-01 ...  1.1240320e+00\n",
      "    -4.4186025e+00 -3.0751147e+00]\n",
      "   [-3.5034122e+00 -3.8753760e+00  5.9357381e-01 ...  7.0502359e-01\n",
      "    -4.3807502e+00 -2.3728304e+00]]\n",
      "\n",
      "  ...\n",
      "\n",
      "  [[ 6.4187676e-01  2.3610493e+01 -4.2414455e+00 ... -5.3912339e+00\n",
      "     2.6835694e+00  7.3714519e+00]\n",
      "   [ 3.6387983e-01  1.8117504e+01 -3.4032319e+00 ... -3.7321959e+00\n",
      "     1.4618089e+00  6.3448911e+00]]\n",
      "\n",
      "  [[ 1.2169965e+01 -1.5792049e+00  2.0968146e+00 ... -2.6933882e+00\n",
      "     2.0997381e+00  2.9128456e-01]\n",
      "   [ 1.2888494e+01 -1.2136841e+00  2.1003382e+00 ... -3.0689437e+00\n",
      "     2.4695621e+00  5.4303217e-01]]\n",
      "\n",
      "  [[ 7.0653194e-01  2.5418270e-01 -8.4363687e-01 ... -2.9912469e+00\n",
      "     9.1419334e+00  1.1741027e-02]\n",
      "   [ 7.4036169e-01  2.4503540e-01 -9.8935044e-01 ... -3.0064607e+00\n",
      "     9.3409672e+00  3.3998942e-01]]]]\n"
     ]
    }
   ],
   "source": [
    "print(logits.shape)\n",
    "print(logits)"
   ]
  },
  {
   "cell_type": "code",
   "execution_count": 8,
   "id": "90cd0937-9cb6-4dfa-a1c5-9f8c789a9eed",
   "metadata": {},
   "outputs": [
    {
     "data": {
      "text/plain": [
       "array([[[nan, nan, nan, ..., nan, nan, nan],\n",
       "        [nan, nan, nan, ..., nan, nan, nan]],\n",
       "\n",
       "       [[nan, nan, nan, ..., nan, nan, nan],\n",
       "        [nan, nan, nan, ..., nan, nan, nan]],\n",
       "\n",
       "       [[nan, nan, nan, ..., nan, nan, nan],\n",
       "        [nan, nan, nan, ..., nan, nan, nan]],\n",
       "\n",
       "       ...,\n",
       "\n",
       "       [[nan, nan, nan, ..., nan, nan, nan],\n",
       "        [nan, nan, nan, ..., nan, nan, nan]],\n",
       "\n",
       "       [[nan, nan, nan, ..., nan, nan, nan],\n",
       "        [nan, nan, nan, ..., nan, nan, nan]],\n",
       "\n",
       "       [[nan, nan, nan, ..., nan, nan, nan],\n",
       "        [nan, nan, nan, ..., nan, nan, nan]]], dtype=float32)"
      ]
     },
     "execution_count": 8,
     "metadata": {},
     "output_type": "execute_result"
    }
   ],
   "source": [
    "logits[20]"
   ]
  },
  {
   "cell_type": "code",
   "execution_count": 102,
   "id": "32e40b3d-7275-40d6-9010-8e753dd34502",
   "metadata": {},
   "outputs": [
    {
     "data": {
      "text/plain": [
       "array([[[nan, nan, nan, ..., nan, nan, nan],\n",
       "        [nan, nan, nan, ..., nan, nan, nan]],\n",
       "\n",
       "       [[nan, nan, nan, ..., nan, nan, nan],\n",
       "        [nan, nan, nan, ..., nan, nan, nan]],\n",
       "\n",
       "       [[nan, nan, nan, ..., nan, nan, nan],\n",
       "        [nan, nan, nan, ..., nan, nan, nan]],\n",
       "\n",
       "       ...,\n",
       "\n",
       "       [[nan, nan, nan, ..., nan, nan, nan],\n",
       "        [nan, nan, nan, ..., nan, nan, nan]],\n",
       "\n",
       "       [[nan, nan, nan, ..., nan, nan, nan],\n",
       "        [nan, nan, nan, ..., nan, nan, nan]],\n",
       "\n",
       "       [[nan, nan, nan, ..., nan, nan, nan],\n",
       "        [nan, nan, nan, ..., nan, nan, nan]]], dtype=float32)"
      ]
     },
     "execution_count": 102,
     "metadata": {},
     "output_type": "execute_result"
    }
   ],
   "source": [
    "logits[42]"
   ]
  },
  {
   "cell_type": "code",
   "execution_count": 98,
   "id": "3756aa53-8fac-4811-af31-63ca5797ac90",
   "metadata": {},
   "outputs": [
    {
     "name": "stdout",
     "output_type": "stream",
     "text": [
      "(64, 40000, 2)\n",
      "[[[ 4.68748243  4.20020984]\n",
      "  [-0.45901215  0.70122978]\n",
      "  [ 2.81220677 -2.70628857]\n",
      "  ...\n",
      "  [17.57408614 12.67815007]\n",
      "  [ 8.61777702  9.48656081]\n",
      "  [ 9.26889597  9.32298001]]\n",
      "\n",
      " [[ 4.59428779  3.78349585]\n",
      "  [ 7.88184895  8.58197691]\n",
      "  [-5.24243955 -4.48598317]\n",
      "  ...\n",
      "  [20.99291352 15.09406965]\n",
      "  [ 9.99725349 10.53718927]\n",
      "  [ 8.8253195   9.62050787]]\n",
      "\n",
      " [[ 4.18130685  3.96536509]\n",
      "  [ 1.93927562  3.94789297]\n",
      "  [-2.10935169 -4.29676738]\n",
      "  ...\n",
      "  [18.23606657 12.97001684]\n",
      "  [ 8.36554254  8.68055632]\n",
      "  [ 5.44392951  7.83008651]]\n",
      "\n",
      " ...\n",
      "\n",
      " [[ 5.66482971  6.94895201]\n",
      "  [ 2.92638753  3.21772178]\n",
      "  [-2.85923694 -5.77564323]\n",
      "  ...\n",
      "  [18.8793064   9.93001081]\n",
      "  [ 8.80272302  8.61339657]\n",
      "  [ 0.56995122  4.78953952]]\n",
      "\n",
      " [[ 7.61774112  7.42916475]\n",
      "  [ 2.4349774   6.41164741]\n",
      "  [ 5.89888986  3.65823136]\n",
      "  ...\n",
      "  [28.13464609 17.59432502]\n",
      "  [11.62014926 11.80685419]\n",
      "  [ 8.95643127  8.90055777]]\n",
      "\n",
      " [[ 6.03888275  1.82966012]\n",
      "  [ 5.65124777  5.78665014]\n",
      "  [ 0.25057937  2.78486696]\n",
      "  ...\n",
      "  [16.22843821 11.76181881]\n",
      "  [ 9.2593048   9.78003755]\n",
      "  [ 7.26189954  7.43943418]]]\n"
     ]
    }
   ],
   "source": [
    "print(scores.shape)\n",
    "print(scores)"
   ]
  },
  {
   "cell_type": "code",
   "execution_count": 99,
   "id": "a5551807-bee3-47f9-8033-2ac1ffe66775",
   "metadata": {},
   "outputs": [
    {
     "data": {
      "text/plain": [
       "array([[nan, nan],\n",
       "       [nan, nan],\n",
       "       [nan, nan],\n",
       "       ...,\n",
       "       [nan, nan],\n",
       "       [nan, nan],\n",
       "       [nan, nan]])"
      ]
     },
     "execution_count": 99,
     "metadata": {},
     "output_type": "execute_result"
    }
   ],
   "source": [
    "scores[20]"
   ]
  },
  {
   "cell_type": "code",
   "execution_count": 100,
   "id": "8f4830f3-0f2d-40f7-a35b-40fd3189b808",
   "metadata": {},
   "outputs": [
    {
     "data": {
      "text/plain": [
       "array([[nan, nan],\n",
       "       [nan, nan],\n",
       "       [nan, nan],\n",
       "       ...,\n",
       "       [nan, nan],\n",
       "       [nan, nan],\n",
       "       [nan, nan]])"
      ]
     },
     "execution_count": 100,
     "metadata": {},
     "output_type": "execute_result"
    }
   ],
   "source": [
    "scores[42]"
   ]
  },
  {
   "cell_type": "code",
   "execution_count": null,
   "id": "8779b8b8-3c44-4c92-aa2b-c818dcc4c70d",
   "metadata": {},
   "outputs": [],
   "source": []
  },
  {
   "cell_type": "code",
   "execution_count": null,
   "id": "8c12c687-2b99-4f78-a74a-1eca4b0690c8",
   "metadata": {},
   "outputs": [],
   "source": []
  },
  {
   "cell_type": "code",
   "execution_count": 18,
   "id": "b0b1a86e-2db8-4186-af55-979216ff25ed",
   "metadata": {},
   "outputs": [],
   "source": [
    "def sweep(score, x):\n",
    "    \"\"\"\n",
    "    Compute a ROC curve and then return the FPR, TPR, AUC, and ACC.\n",
    "    \"\"\"\n",
    "    fpr, tpr, _ = roc_curve(x, -score)\n",
    "    acc = np.max(1 - (fpr + (1 - tpr)) / 2)\n",
    "    return fpr, tpr, auc(fpr, tpr), acc"
   ]
  },
  {
   "cell_type": "code",
   "execution_count": 28,
   "id": "dbe1c95c-be51-4057-b202-67491cb0764d",
   "metadata": {},
   "outputs": [],
   "source": [
    "def load_data():\n",
    "    \"\"\"\n",
    "    Load our saved scores and then put them into a big matrix.\n",
    "    \"\"\"\n",
    "    global scores, keep\n",
    "    scores = []\n",
    "    keep = []\n",
    "\n",
    "    for path in os.listdir(savedir):\n",
    "        scores.append(np.load(os.path.join(savedir, path, \"scores.npy\")))\n",
    "        keep.append(np.load(os.path.join(savedir, path, \"keep.npy\")))\n",
    "    scores = np.array(scores)\n",
    "    keep = np.array(keep)\n",
    "\n",
    "    return scores, keep"
   ]
  },
  {
   "cell_type": "code",
   "execution_count": 29,
   "id": "55885eab-7d9c-486e-820e-38207690c4fa",
   "metadata": {},
   "outputs": [
    {
     "data": {
      "text/plain": [
       "(array([[[ 4.68748243,  4.20020984],\n",
       "         [-0.45901215,  0.70122978],\n",
       "         [ 2.81220677, -2.70628857],\n",
       "         ...,\n",
       "         [17.57408614, 12.67815007],\n",
       "         [ 8.61777702,  9.48656081],\n",
       "         [ 9.26889597,  9.32298001]],\n",
       " \n",
       "        [[ 4.59428779,  3.78349585],\n",
       "         [ 7.88184895,  8.58197691],\n",
       "         [-5.24243955, -4.48598317],\n",
       "         ...,\n",
       "         [20.99291352, 15.09406965],\n",
       "         [ 9.99725349, 10.53718927],\n",
       "         [ 8.8253195 ,  9.62050787]],\n",
       " \n",
       "        [[ 4.18130685,  3.96536509],\n",
       "         [ 1.93927562,  3.94789297],\n",
       "         [-2.10935169, -4.29676738],\n",
       "         ...,\n",
       "         [18.23606657, 12.97001684],\n",
       "         [ 8.36554254,  8.68055632],\n",
       "         [ 5.44392951,  7.83008651]],\n",
       " \n",
       "        ...,\n",
       " \n",
       "        [[ 5.66482971,  6.94895201],\n",
       "         [ 2.92638753,  3.21772178],\n",
       "         [-2.85923694, -5.77564323],\n",
       "         ...,\n",
       "         [18.8793064 ,  9.93001081],\n",
       "         [ 8.80272302,  8.61339657],\n",
       "         [ 0.56995122,  4.78953952]],\n",
       " \n",
       "        [[ 7.61774112,  7.42916475],\n",
       "         [ 2.4349774 ,  6.41164741],\n",
       "         [ 5.89888986,  3.65823136],\n",
       "         ...,\n",
       "         [28.13464609, 17.59432502],\n",
       "         [11.62014926, 11.80685419],\n",
       "         [ 8.95643127,  8.90055777]],\n",
       " \n",
       "        [[ 6.03888275,  1.82966012],\n",
       "         [ 5.65124777,  5.78665014],\n",
       "         [ 0.25057937,  2.78486696],\n",
       "         ...,\n",
       "         [16.22843821, 11.76181881],\n",
       "         [ 9.2593048 ,  9.78003755],\n",
       "         [ 7.26189954,  7.43943418]]]),\n",
       " array([[False, False,  True, ...,  True,  True,  True],\n",
       "        [False,  True, False, ..., False,  True, False],\n",
       "        [ True,  True, False, ..., False,  True,  True],\n",
       "        ...,\n",
       "        [ True,  True, False, ..., False, False, False],\n",
       "        [ True, False,  True, ..., False,  True,  True],\n",
       "        [ True,  True,  True, ...,  True,  True,  True]]))"
      ]
     },
     "execution_count": 29,
     "metadata": {},
     "output_type": "execute_result"
    }
   ],
   "source": [
    "load_data()"
   ]
  },
  {
   "cell_type": "code",
   "execution_count": 72,
   "id": "4e86e878-4579-4d21-a273-f0db162a53d8",
   "metadata": {},
   "outputs": [
    {
     "data": {
      "text/plain": [
       "(64, 40000, 2)"
      ]
     },
     "execution_count": 72,
     "metadata": {},
     "output_type": "execute_result"
    }
   ],
   "source": [
    "scores.shape"
   ]
  },
  {
   "cell_type": "code",
   "execution_count": 31,
   "id": "673325b1-0983-4aa0-aa0a-541f9590199b",
   "metadata": {},
   "outputs": [
    {
     "data": {
      "text/plain": [
       "(64, 40000)"
      ]
     },
     "execution_count": 31,
     "metadata": {},
     "output_type": "execute_result"
    }
   ],
   "source": [
    "keep.shape"
   ]
  },
  {
   "cell_type": "code",
   "execution_count": 80,
   "id": "7c6d5fbe-ab37-4537-8cd0-a6352ea8008c",
   "metadata": {},
   "outputs": [
    {
     "data": {
      "text/plain": [
       "(array([20, 20, 20, ..., 42, 42, 42]),\n",
       " array([    0,     0,     1, ..., 39998, 39999, 39999]),\n",
       " array([0, 1, 0, ..., 1, 0, 1]))"
      ]
     },
     "execution_count": 80,
     "metadata": {},
     "output_type": "execute_result"
    }
   ],
   "source": [
    "np.where(np.isnan(scores))"
   ]
  },
  {
   "cell_type": "code",
   "execution_count": 91,
   "id": "e51f8c8c-b6d5-4550-9438-b802d5d93c76",
   "metadata": {},
   "outputs": [
    {
     "data": {
      "text/plain": [
       "9.32298000711081"
      ]
     },
     "execution_count": 91,
     "metadata": {},
     "output_type": "execute_result"
    }
   ],
   "source": [
    "scores[0, 39999, 1]"
   ]
  },
  {
   "cell_type": "code",
   "execution_count": 88,
   "id": "6d578721-bed7-4fcf-b047-8cb318835c7d",
   "metadata": {},
   "outputs": [
    {
     "data": {
      "text/plain": [
       "160000"
      ]
     },
     "execution_count": 88,
     "metadata": {},
     "output_type": "execute_result"
    }
   ],
   "source": [
    "len(np.where(np.isnan(scores))[0])"
   ]
  },
  {
   "cell_type": "code",
   "execution_count": 86,
   "id": "088ad5e0-8193-4033-a25c-6c9ed28cd05a",
   "metadata": {},
   "outputs": [
    {
     "data": {
      "text/plain": [
       "array([20, 42])"
      ]
     },
     "execution_count": 86,
     "metadata": {},
     "output_type": "execute_result"
    }
   ],
   "source": [
    "np.unique(np.where(np.isnan(scores))[0])"
   ]
  },
  {
   "cell_type": "code",
   "execution_count": 90,
   "id": "7ff13ef9-95cf-422e-9060-e22dd829545f",
   "metadata": {},
   "outputs": [
    {
     "data": {
      "text/plain": [
       "array([ 0,  1,  2,  3,  4,  5,  6,  7,  8,  9, 10, 11, 12, 13, 14, 15, 16,\n",
       "       17, 18, 19, 20, 21, 22, 23, 24, 25, 26, 27, 28, 29, 30, 31, 32, 33,\n",
       "       34, 35, 36, 37, 38, 39, 40, 41, 42, 43, 44, 45, 46, 47, 48, 49, 50,\n",
       "       51, 52, 53, 54, 55, 56, 57, 58, 59, 60, 61, 62, 63, 64, 65, 66, 67,\n",
       "       68, 69, 70, 71, 72, 73, 74, 75, 76, 77, 78, 79, 80, 81, 82, 83, 84,\n",
       "       85, 86, 87, 88, 89, 90, 91, 92, 93, 94, 95, 96, 97, 98, 99])"
      ]
     },
     "execution_count": 90,
     "metadata": {},
     "output_type": "execute_result"
    }
   ],
   "source": [
    "np.unique(np.where(np.isnan(scores))[1])[:100]"
   ]
  },
  {
   "cell_type": "code",
   "execution_count": 52,
   "id": "787045ef-39e5-4959-8b6f-cb59efead4f1",
   "metadata": {},
   "outputs": [],
   "source": [
    "def generate_ours(keep, scores, check_keep, check_scores, in_size=100000, out_size=100000, fix_variance=False):\n",
    "    \"\"\"\n",
    "    Fit a two predictive models using keep and scores in order to predict\n",
    "    if the examples in check_scores were training data or not, using the\n",
    "    ground truth answer from check_keep.\n",
    "    \"\"\"\n",
    "    dat_in = []\n",
    "    dat_out = []\n",
    "\n",
    "\n",
    "    # iterate data points (x, y).\n",
    "    for j in range(scores.shape[1]):\n",
    "        dat_in.append(scores[keep[:, j], j, :])\n",
    "        dat_out.append(scores[~keep[:, j], j, :])\n",
    "\n",
    "    in_size = min(min(map(len, dat_in)), in_size)\n",
    "    out_size = min(min(map(len, dat_out)), out_size)\n",
    "\n",
    "    dat_in = np.array([x[:in_size] for x in dat_in])\n",
    "    dat_out = np.array([x[:out_size] for x in dat_out])\n",
    "\n",
    "    mean_in = np.median(dat_in, 1)\n",
    "    mean_out = np.median(dat_out, 1)\n",
    "    \n",
    "    if fix_variance:\n",
    "        std_in = np.std(dat_in)\n",
    "        std_out = np.std(dat_in)\n",
    "    else:\n",
    "        std_in = np.std(dat_in, 1)\n",
    "        std_out = np.std(dat_out, 1)\n",
    "\n",
    "    print(\"dat_in: \", dat_in.shape)\n",
    "    print(\"dat_out: \", dat_out.shape)\n",
    "\n",
    "    print(\"mean_in: \", mean_in.shape)\n",
    "    print(mean_in)\n",
    "    print(\"mean_out: \", mean_out.shape)\n",
    "    print(mean_out)\n",
    "    print(\"std_in: \", std_in.shape)\n",
    "    print(std_in)\n",
    "    print(\"std_out: \", std_out)\n",
    "    print(std_out)\n",
    "    \n",
    "\n",
    "    prediction = []\n",
    "    answers = []\n",
    "    for ans, sc in zip(check_keep, check_scores):\n",
    "        pr_in = -scipy.stats.norm.logpdf(sc, mean_in, std_in + 1e-30)\n",
    "        pr_out = -scipy.stats.norm.logpdf(sc, mean_out, std_out + 1e-30)\n",
    "        score = pr_in - pr_out\n",
    "\n",
    "        prediction.extend(score.mean(1))\n",
    "        answers.extend(ans)\n",
    "\n",
    "    return prediction, answers, \"\", dat_in, dat_out, mean_in, mean_out, std_in, std_out"
   ]
  },
  {
   "cell_type": "code",
   "execution_count": 53,
   "id": "f765720d-7449-4351-93ac-0ab8b4d7822b",
   "metadata": {},
   "outputs": [],
   "source": [
    "def do_plot(fn, keep, scores, ntest, legend=\"\", metric=\"auc\", sweep_fn=sweep, **plot_kwargs):\n",
    "    \"\"\"\n",
    "    Generate the ROC curves by using ntest models as test models and the rest to train.\n",
    "    \"\"\"\n",
    "\n",
    "    prediction, answers = fn(keep[:-ntest], scores[:-ntest], keep[-ntest:], scores[-ntest:])\n",
    "\n",
    "    print(\"prediction: \")\n",
    "    print(prediction)\n",
    "    print(\"answers: \")\n",
    "    print(answers)\n",
    "\n",
    "    fpr, tpr, auc, acc = sweep_fn(np.array(prediction), np.array(answers, dtype=bool))\n",
    "\n",
    "    low = tpr[np.where(fpr < 0.001)[0][-1]]\n",
    "\n",
    "    print(\"Attack %s   AUC %.4f, Accuracy %.4f, TPR@0.1%%FPR of %.4f\" % (legend, auc, acc, low))\n",
    "\n",
    "    metric_text = \"\"\n",
    "    if metric == \"auc\":\n",
    "        metric_text = \"auc=%.3f\" % auc\n",
    "    elif metric == \"acc\":\n",
    "        metric_text = \"acc=%.3f\" % acc\n",
    "\n",
    "    plt.plot(fpr, tpr, label=legend + metric_text, **plot_kwargs)\n",
    "    return (acc, auc)\n",
    "\n",
    "\n",
    "def fig_fpr_tpr():\n",
    "    plt.figure(figsize=(4, 3))\n",
    "\n",
    "    do_plot(generate_ours, keep, scores, 1, \"Ours (online)\\n\", metric=\"auc\")\n",
    "\n",
    "    # do_plot(functools.partial(generate_ours, fix_variance=True), keep, scores, 1, \"Ours (online, fixed variance)\\n\", metric=\"auc\")\n",
    "    #\n",
    "    # do_plot(functools.partial(generate_ours_offline), keep, scores, 1, \"Ours (offline)\\n\", metric=\"auc\")\n",
    "    #\n",
    "    # do_plot(functools.partial(generate_ours_offline, fix_variance=True), keep, scores, 1, \"Ours (offline, fixed variance)\\n\", metric=\"auc\")\n",
    "    #\n",
    "    # do_plot(generate_global, keep, scores, 1, \"Global threshold\\n\", metric=\"auc\")\n",
    "\n",
    "    plt.semilogx()\n",
    "    plt.semilogy()\n",
    "    plt.xlim(1e-5, 1)\n",
    "    plt.ylim(1e-5, 1)\n",
    "    plt.xlabel(\"False Positive Rate\")\n",
    "    plt.ylabel(\"True Positive Rate\")\n",
    "    plt.plot([0, 1], [0, 1], ls=\"--\", color=\"gray\")\n",
    "    plt.subplots_adjust(bottom=0.18, left=0.18, top=0.96, right=0.96)\n",
    "    plt.legend(fontsize=8)\n",
    "    plt.savefig(\"fprtpr.png\")\n",
    "    plt.show()"
   ]
  },
  {
   "cell_type": "code",
   "execution_count": 54,
   "id": "d10c0d84-f3d4-4ad9-afbd-054a8e26712a",
   "metadata": {},
   "outputs": [
    {
     "name": "stdout",
     "output_type": "stream",
     "text": [
      "dat_in:  (40000, 31, 2)\n",
      "dat_out:  (40000, 31, 2)\n",
      "mean_in:  (40000, 2)\n",
      "[[ 5.66866874  5.85076141]\n",
      " [        nan         nan]\n",
      " [ 1.86377865  2.83813249]\n",
      " ...\n",
      " [22.7923407  13.18756812]\n",
      " [        nan         nan]\n",
      " [        nan         nan]]\n",
      "mean_out:  (40000, 2)\n",
      "[[       nan        nan]\n",
      " [0.71230373 2.481409  ]\n",
      " [       nan        nan]\n",
      " ...\n",
      " [       nan        nan]\n",
      " [8.52784371 9.15922596]\n",
      " [       nan        nan]]\n",
      "std_in:  (40000, 2)\n",
      "[[1.31560762 1.35229173]\n",
      " [       nan        nan]\n",
      " [2.13401356 2.42591937]\n",
      " ...\n",
      " [5.16536262 3.02299995]\n",
      " [       nan        nan]\n",
      " [       nan        nan]]\n",
      "std_out:  [[       nan        nan]\n",
      " [2.64778163 2.72025547]\n",
      " [       nan        nan]\n",
      " ...\n",
      " [       nan        nan]\n",
      " [1.54028234 1.53659503]\n",
      " [       nan        nan]]\n",
      "[[       nan        nan]\n",
      " [2.64778163 2.72025547]\n",
      " [       nan        nan]\n",
      " ...\n",
      " [       nan        nan]\n",
      " [1.54028234 1.53659503]\n",
      " [       nan        nan]]\n"
     ]
    },
    {
     "ename": "ValueError",
     "evalue": "too many values to unpack (expected 2)",
     "output_type": "error",
     "traceback": [
      "\u001b[0;31m---------------------------------------------------------------------------\u001b[0m",
      "\u001b[0;31mValueError\u001b[0m                                Traceback (most recent call last)",
      "Cell \u001b[0;32mIn[54], line 1\u001b[0m\n\u001b[0;32m----> 1\u001b[0m \u001b[43mfig_fpr_tpr\u001b[49m\u001b[43m(\u001b[49m\u001b[43m)\u001b[49m\n",
      "Cell \u001b[0;32mIn[53], line 32\u001b[0m, in \u001b[0;36mfig_fpr_tpr\u001b[0;34m()\u001b[0m\n\u001b[1;32m     29\u001b[0m \u001b[38;5;28;01mdef\u001b[39;00m \u001b[38;5;21mfig_fpr_tpr\u001b[39m():\n\u001b[1;32m     30\u001b[0m     plt\u001b[38;5;241m.\u001b[39mfigure(figsize\u001b[38;5;241m=\u001b[39m(\u001b[38;5;241m4\u001b[39m, \u001b[38;5;241m3\u001b[39m))\n\u001b[0;32m---> 32\u001b[0m     \u001b[43mdo_plot\u001b[49m\u001b[43m(\u001b[49m\u001b[43mgenerate_ours\u001b[49m\u001b[43m,\u001b[49m\u001b[43m \u001b[49m\u001b[43mkeep\u001b[49m\u001b[43m,\u001b[49m\u001b[43m \u001b[49m\u001b[43mscores\u001b[49m\u001b[43m,\u001b[49m\u001b[43m \u001b[49m\u001b[38;5;241;43m1\u001b[39;49m\u001b[43m,\u001b[49m\u001b[43m \u001b[49m\u001b[38;5;124;43m\"\u001b[39;49m\u001b[38;5;124;43mOurs (online)\u001b[39;49m\u001b[38;5;130;43;01m\\n\u001b[39;49;00m\u001b[38;5;124;43m\"\u001b[39;49m\u001b[43m,\u001b[49m\u001b[43m \u001b[49m\u001b[43mmetric\u001b[49m\u001b[38;5;241;43m=\u001b[39;49m\u001b[38;5;124;43m\"\u001b[39;49m\u001b[38;5;124;43mauc\u001b[39;49m\u001b[38;5;124;43m\"\u001b[39;49m\u001b[43m)\u001b[49m\n\u001b[1;32m     34\u001b[0m     \u001b[38;5;66;03m# do_plot(functools.partial(generate_ours, fix_variance=True), keep, scores, 1, \"Ours (online, fixed variance)\\n\", metric=\"auc\")\u001b[39;00m\n\u001b[1;32m     35\u001b[0m     \u001b[38;5;66;03m#\u001b[39;00m\n\u001b[1;32m     36\u001b[0m     \u001b[38;5;66;03m# do_plot(functools.partial(generate_ours_offline), keep, scores, 1, \"Ours (offline)\\n\", metric=\"auc\")\u001b[39;00m\n\u001b[0;32m   (...)\u001b[0m\n\u001b[1;32m     39\u001b[0m     \u001b[38;5;66;03m#\u001b[39;00m\n\u001b[1;32m     40\u001b[0m     \u001b[38;5;66;03m# do_plot(generate_global, keep, scores, 1, \"Global threshold\\n\", metric=\"auc\")\u001b[39;00m\n\u001b[1;32m     42\u001b[0m     plt\u001b[38;5;241m.\u001b[39msemilogx()\n",
      "Cell \u001b[0;32mIn[53], line 6\u001b[0m, in \u001b[0;36mdo_plot\u001b[0;34m(fn, keep, scores, ntest, legend, metric, sweep_fn, **plot_kwargs)\u001b[0m\n\u001b[1;32m      1\u001b[0m \u001b[38;5;28;01mdef\u001b[39;00m \u001b[38;5;21mdo_plot\u001b[39m(fn, keep, scores, ntest, legend\u001b[38;5;241m=\u001b[39m\u001b[38;5;124m\"\u001b[39m\u001b[38;5;124m\"\u001b[39m, metric\u001b[38;5;241m=\u001b[39m\u001b[38;5;124m\"\u001b[39m\u001b[38;5;124mauc\u001b[39m\u001b[38;5;124m\"\u001b[39m, sweep_fn\u001b[38;5;241m=\u001b[39msweep, \u001b[38;5;241m*\u001b[39m\u001b[38;5;241m*\u001b[39mplot_kwargs):\n\u001b[1;32m      2\u001b[0m \u001b[38;5;250m    \u001b[39m\u001b[38;5;124;03m\"\"\"\u001b[39;00m\n\u001b[1;32m      3\u001b[0m \u001b[38;5;124;03m    Generate the ROC curves by using ntest models as test models and the rest to train.\u001b[39;00m\n\u001b[1;32m      4\u001b[0m \u001b[38;5;124;03m    \"\"\"\u001b[39;00m\n\u001b[0;32m----> 6\u001b[0m     prediction, answers \u001b[38;5;241m=\u001b[39m fn(keep[:\u001b[38;5;241m-\u001b[39mntest], scores[:\u001b[38;5;241m-\u001b[39mntest], keep[\u001b[38;5;241m-\u001b[39mntest:], scores[\u001b[38;5;241m-\u001b[39mntest:])\n\u001b[1;32m      8\u001b[0m     \u001b[38;5;28mprint\u001b[39m(\u001b[38;5;124m\"\u001b[39m\u001b[38;5;124mprediction: \u001b[39m\u001b[38;5;124m\"\u001b[39m)\n\u001b[1;32m      9\u001b[0m     \u001b[38;5;28mprint\u001b[39m(prediction)\n",
      "\u001b[0;31mValueError\u001b[0m: too many values to unpack (expected 2)"
     ]
    },
    {
     "data": {
      "text/plain": [
       "<Figure size 400x300 with 0 Axes>"
      ]
     },
     "metadata": {},
     "output_type": "display_data"
    }
   ],
   "source": [
    "fig_fpr_tpr()"
   ]
  },
  {
   "cell_type": "code",
   "execution_count": 55,
   "id": "fc30acd1-1807-4802-9d59-9bd904f54012",
   "metadata": {},
   "outputs": [
    {
     "name": "stdout",
     "output_type": "stream",
     "text": [
      "dat_in:  (40000, 31, 2)\n",
      "dat_out:  (40000, 31, 2)\n",
      "mean_in:  (40000, 2)\n",
      "[[ 5.66866874  5.85076141]\n",
      " [        nan         nan]\n",
      " [ 1.86377865  2.83813249]\n",
      " ...\n",
      " [22.7923407  13.18756812]\n",
      " [        nan         nan]\n",
      " [        nan         nan]]\n",
      "mean_out:  (40000, 2)\n",
      "[[       nan        nan]\n",
      " [0.71230373 2.481409  ]\n",
      " [       nan        nan]\n",
      " ...\n",
      " [       nan        nan]\n",
      " [8.52784371 9.15922596]\n",
      " [       nan        nan]]\n",
      "std_in:  (40000, 2)\n",
      "[[1.31560762 1.35229173]\n",
      " [       nan        nan]\n",
      " [2.13401356 2.42591937]\n",
      " ...\n",
      " [5.16536262 3.02299995]\n",
      " [       nan        nan]\n",
      " [       nan        nan]]\n",
      "std_out:  [[       nan        nan]\n",
      " [2.64778163 2.72025547]\n",
      " [       nan        nan]\n",
      " ...\n",
      " [       nan        nan]\n",
      " [1.54028234 1.53659503]\n",
      " [       nan        nan]]\n",
      "[[       nan        nan]\n",
      " [2.64778163 2.72025547]\n",
      " [       nan        nan]\n",
      " ...\n",
      " [       nan        nan]\n",
      " [1.54028234 1.53659503]\n",
      " [       nan        nan]]\n"
     ]
    }
   ],
   "source": [
    "ntest = 1\n",
    "prediction, answers, _, dat_in, dat_out, mean_in, mean_out, std_in, std_out = generate_ours(keep[:-ntest], scores[:-ntest], keep[-ntest:], scores[-ntest:])"
   ]
  },
  {
   "cell_type": "code",
   "execution_count": 69,
   "id": "d5e9c790-2d8f-447c-80c6-d2420effade1",
   "metadata": {},
   "outputs": [
    {
     "data": {
      "text/plain": [
       "array([[[4.18130685, 3.96536509],\n",
       "        [5.78978207, 6.53505487],\n",
       "        [5.34519277, 5.01582293],\n",
       "        [5.57926067, 4.38851879],\n",
       "        [6.78282791, 4.8421017 ],\n",
       "        [8.13782555, 8.10384352],\n",
       "        [5.60239822, 6.01940643],\n",
       "        [3.78153687, 8.62704514],\n",
       "        [5.92789557, 4.12296449],\n",
       "        [5.75109929, 5.41256243],\n",
       "        [4.69800806, 6.18426652],\n",
       "        [7.58572041, 5.71451709],\n",
       "        [5.66866874, 6.20346905],\n",
       "        [4.77776388, 4.64118995],\n",
       "        [6.28457681, 3.89888339],\n",
       "        [4.93736043, 3.9307628 ],\n",
       "        [7.90428352, 6.96183365],\n",
       "        [7.1187274 , 7.32674165],\n",
       "        [4.93377814, 6.05618782],\n",
       "        [7.56999463, 6.68586856],\n",
       "        [6.65928525, 6.63802794],\n",
       "        [5.99501771, 5.45824855],\n",
       "        [5.05765442, 5.85076141],\n",
       "        [5.38011838, 6.57334407],\n",
       "        [3.78042647, 2.57286658],\n",
       "        [5.88999395, 4.1591786 ],\n",
       "        [4.37914161, 4.66806034],\n",
       "        [2.18455064, 5.60448683],\n",
       "        [5.85974345, 6.16879199],\n",
       "        [5.66482971, 6.94895201],\n",
       "        [7.61774112, 7.42916475]],\n",
       "\n",
       "       [[7.88184895, 8.58197691],\n",
       "        [1.93927562, 3.94789297],\n",
       "        [5.49388042, 5.39952394],\n",
       "        [2.03100936, 3.25955839],\n",
       "        [1.7020953 , 4.45251022],\n",
       "        [5.85122501, 5.92681083],\n",
       "        [3.69702607, 5.8723352 ],\n",
       "        [       nan,        nan],\n",
       "        [5.72134034, 5.39279519],\n",
       "        [0.6784523 , 2.37846436],\n",
       "        [4.92428968, 5.26875371],\n",
       "        [6.55761761, 7.99289296],\n",
       "        [4.6764679 , 7.14631385],\n",
       "        [5.70373926, 5.2197896 ],\n",
       "        [5.79431724, 6.42917285],\n",
       "        [7.22840402, 7.11920773],\n",
       "        [3.09621505, 4.29023177],\n",
       "        [2.70966221, 4.62412173],\n",
       "        [7.73239347, 8.26965109],\n",
       "        [5.26265081, 6.42488379],\n",
       "        [2.92867915, 5.10653357],\n",
       "        [       nan,        nan],\n",
       "        [5.67050456, 6.47956918],\n",
       "        [5.55494198, 6.85641727],\n",
       "        [2.96783949, 6.35227488],\n",
       "        [2.05715152, 2.36785066],\n",
       "        [4.85141096, 4.67355151],\n",
       "        [1.20389303, 1.88513887],\n",
       "        [5.42570049, 6.11258881],\n",
       "        [4.45214264, 5.08066434],\n",
       "        [2.92638753, 3.21772178]]])"
      ]
     },
     "execution_count": 69,
     "metadata": {},
     "output_type": "execute_result"
    }
   ],
   "source": [
    "dat_in[0:2,:,:]"
   ]
  },
  {
   "cell_type": "code",
   "execution_count": 65,
   "id": "ee425831-8860-426c-91ea-074705988e8e",
   "metadata": {},
   "outputs": [
    {
     "data": {
      "text/plain": [
       "array([[ 5.67674875,  5.21419268],\n",
       "       [        nan,         nan],\n",
       "       [ 2.22219514,  2.22789994],\n",
       "       ...,\n",
       "       [23.12812907, 13.62188134],\n",
       "       [ 9.10877341,  9.37971657],\n",
       "       [ 8.45368755,  8.87077046]])"
      ]
     },
     "execution_count": 65,
     "metadata": {},
     "output_type": "execute_result"
    }
   ],
   "source": [
    "np.median(dat_in[:,:,:], 1)"
   ]
  },
  {
   "cell_type": "code",
   "execution_count": null,
   "id": "87fa7861-3c6a-4eaf-9887-9265500ff0b1",
   "metadata": {},
   "outputs": [],
   "source": [
    "np.median(dat_in[:,0:10,:], 1)"
   ]
  },
  {
   "cell_type": "code",
   "execution_count": 50,
   "id": "d0d61793-51c1-4bd3-9801-0573a6e627ce",
   "metadata": {},
   "outputs": [
    {
     "data": {
      "text/plain": [
       "31"
      ]
     },
     "execution_count": 50,
     "metadata": {},
     "output_type": "execute_result"
    }
   ],
   "source": [
    "in_size = 100000\n",
    "min(min(map(len, dat_in)), in_size)"
   ]
  },
  {
   "cell_type": "code",
   "execution_count": 51,
   "id": "54346b33-89be-4b15-855b-a0c01f076452",
   "metadata": {},
   "outputs": [
    {
     "data": {
      "text/plain": [
       "<map at 0x7f82b43e63a0>"
      ]
     },
     "execution_count": 51,
     "metadata": {},
     "output_type": "execute_result"
    }
   ],
   "source": [
    "map(len, dat_in)"
   ]
  },
  {
   "cell_type": "code",
   "execution_count": null,
   "id": "d6753921-f2c4-46d3-9fec-2a15e34b9e19",
   "metadata": {},
   "outputs": [],
   "source": []
  }
 ],
 "metadata": {
  "kernelspec": {
   "display_name": "Python 3 (ipykernel)",
   "language": "python",
   "name": "python3"
  },
  "language_info": {
   "codemirror_mode": {
    "name": "ipython",
    "version": 3
   },
   "file_extension": ".py",
   "mimetype": "text/x-python",
   "name": "python",
   "nbconvert_exporter": "python",
   "pygments_lexer": "ipython3",
   "version": "3.8.6"
  }
 },
 "nbformat": 4,
 "nbformat_minor": 5
}
