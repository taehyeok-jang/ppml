{
 "cells": [
  {
   "cell_type": "code",
   "execution_count": 104,
   "id": "f3be568e-f6b7-46a4-be21-1aed30d98c82",
   "metadata": {},
   "outputs": [],
   "source": [
    "import argparse\n",
    "import os\n",
    "import time\n",
    "from pathlib import Path\n",
    "\n",
    "import numpy as np\n",
    "import pytorch_lightning as pl\n",
    "import torch\n",
    "import wandb\n",
    "from torch import nn\n",
    "from torch.nn import functional as F\n",
    "from torch.utils.data import DataLoader, random_split\n",
    "from torchvision import models, transforms\n",
    "from torchvision.datasets import CIFAR10\n",
    "from tqdm import tqdm\n",
    "\n",
    "## \n",
    "# plot.py\n",
    "import functools\n",
    "\n",
    "import matplotlib\n",
    "import matplotlib.pyplot as plt\n",
    "import datetime \n",
    "\n",
    "import scipy.stats\n",
    "from sklearn.metrics import auc, roc_curve\n",
    "\n",
    "##\n",
    "DEVICE = torch.device(\"cuda\") if torch.cuda.is_available() else torch.device(\"mps\")"
   ]
  },
  {
   "cell_type": "code",
   "execution_count": 34,
   "id": "b420c0ba-b2ec-42cf-952f-4a2ff4aa945f",
   "metadata": {},
   "outputs": [],
   "source": [
    "lr = 0.02\n",
    "epochs = 25\n",
    "n_shadows = 64\n",
    "shadow_id = -1 \n",
    "model = \"vgg19\"\n",
    "pkeep = 0.5\n",
    "savedir = \"exp/cifar10\"\n",
    "debug = True\n",
    "\n",
    "# inference\n",
    "n_queries = 2"
   ]
  },
  {
   "cell_type": "code",
   "execution_count": 3,
   "id": "16eb6477-1909-4398-8bd5-5e2b3085dce4",
   "metadata": {},
   "outputs": [],
   "source": [
    "seed = 1583745484"
   ]
  },
  {
   "cell_type": "markdown",
   "id": "3d9ab967-87b1-42b7-8320-91e6fce026dc",
   "metadata": {},
   "source": [
    "# Train victim model"
   ]
  },
  {
   "cell_type": "code",
   "execution_count": 55,
   "id": "135c48e3-ca2a-43dd-961d-13fb9eaa5d8b",
   "metadata": {},
   "outputs": [
    {
     "name": "stdout",
     "output_type": "stream",
     "text": [
      "Files already downloaded and verified\n",
      "Files already downloaded and verified\n"
     ]
    }
   ],
   "source": [
    "# Dataset\n",
    "train_transform = transforms.Compose(\n",
    "    [\n",
    "        transforms.RandomHorizontalFlip(),\n",
    "        transforms.RandomCrop(32, padding=4),\n",
    "        transforms.ToTensor(),\n",
    "        transforms.Normalize([0.4914, 0.4822, 0.4465], [0.2470, 0.2435, 0.2616]),\n",
    "    ]\n",
    ")\n",
    "test_transform = transforms.Compose(\n",
    "    [\n",
    "        transforms.ToTensor(),\n",
    "        transforms.Normalize([0.4914, 0.4822, 0.4465], [0.2470, 0.2435, 0.2616]),\n",
    "    ]\n",
    ")\n",
    "torch.manual_seed(seed)\n",
    "datadir = Path().home() / \"dataset\"\n",
    "\n",
    "train_ds = CIFAR10(root=datadir, train=True, download=True, transform=train_transform)\n",
    "test_ds = CIFAR10(root=datadir, train=False, download=True, transform=test_transform)\n",
    "\n",
    "# train_ds, eval_ds = random_split(train_ds, [0.8, 0.2])"
   ]
  },
  {
   "cell_type": "code",
   "execution_count": 56,
   "id": "f4099837-071f-4c1d-882a-0ec4045584d7",
   "metadata": {},
   "outputs": [],
   "source": [
    "size = len(train_ds)\n",
    "np.random.seed(seed)"
   ]
  },
  {
   "cell_type": "code",
   "execution_count": 57,
   "id": "889ba3fc-ccb8-4456-9c2a-43eef385b703",
   "metadata": {},
   "outputs": [
    {
     "data": {
      "text/plain": [
       "50000"
      ]
     },
     "execution_count": 57,
     "metadata": {},
     "output_type": "execute_result"
    }
   ],
   "source": [
    "size"
   ]
  },
  {
   "cell_type": "code",
   "execution_count": 58,
   "id": "fa393b2b-a81c-40ea-b0da-b79fe5a19ce9",
   "metadata": {},
   "outputs": [],
   "source": [
    "keep = np.random.choice(size, size=int(pkeep * size), replace=False)\n",
    "keep.sort()\n",
    "\n",
    "keep_bool = np.full((size), False)\n",
    "keep_bool[keep] = True"
   ]
  },
  {
   "cell_type": "code",
   "execution_count": 59,
   "id": "e70f7a8b-5c83-4276-88c6-7988d4a9e55e",
   "metadata": {},
   "outputs": [],
   "source": [
    "train_ds = torch.utils.data.Subset(train_ds, keep)\n",
    "train_dl = DataLoader(train_ds, batch_size=128, shuffle=True, num_workers=4)\n",
    "test_dl = DataLoader(test_ds, batch_size=128, shuffle=False, num_workers=4)"
   ]
  },
  {
   "cell_type": "code",
   "execution_count": 60,
   "id": "d35c7488-9f38-4fef-b164-481ab739b777",
   "metadata": {},
   "outputs": [
    {
     "data": {
      "text/plain": [
       "25000"
      ]
     },
     "execution_count": 60,
     "metadata": {},
     "output_type": "execute_result"
    }
   ],
   "source": [
    "len(train_ds) # 50%(pkeep) of training dataset"
   ]
  },
  {
   "cell_type": "code",
   "execution_count": 20,
   "id": "c81086ff-0d01-4a37-9b0f-f8f3968a33f4",
   "metadata": {},
   "outputs": [],
   "source": [
    "def network(arch: str, pretrained_: bool):\n",
    "    print(f'arch: {arch}, pretrained: {pretrained_}') \n",
    "    \n",
    "    # https://pytorch.org/vision/stable/models.html\n",
    "    TORCHVISION_MODELS = ['resnet18', 'resnet50', 'resnet101', 'vgg16', 'vgg19', 'densenet121', \n",
    "                          'wide_resnet50_2', 'wide_resnet101_2',\n",
    "                          'densenet201', 'mobilenet_v2', 'inception_v3', \n",
    "                          'efficientnet_b0', 'efficientnet_b7', \n",
    "                          'squeezenet1_0', 'alexnet', 'googlenet', 'shufflenet_v2_x1_0']\n",
    "    \n",
    "    # https://github.com/huggingface/pytorch-image-models\n",
    "    PYTORCH_IMAGE_MODELS = ['vit_base_patch16_224', 'vit_large_patch16_224', 'deit_base_patch16_224',\n",
    "                        'convnext_base', 'convnext_large']\n",
    "    \n",
    "    if arch in TORCHVISION_MODELS:\n",
    "        model = models.__dict__[arch](pretrained=pretrained_)\n",
    "    elif arch in PYTORCH_IMAGE_MODELS:\n",
    "        model = timm.create_model(arch, pretrained=pretrained_)\n",
    "    else:\n",
    "        raise ValueError(f\"Model {model_name} not available.\")\n",
    "        \n",
    "    # for VGG-19\n",
    "    model.classifier[6] = torch.nn.Linear(in_features=4096, out_features=10)\n",
    "    return model\n",
    "\n",
    "\n",
    "@torch.no_grad()\n",
    "def get_acc(model, dl):\n",
    "    acc = []\n",
    "    for x, y in dl:\n",
    "        x, y = x.to(DEVICE), y.to(DEVICE)\n",
    "        acc.append(torch.argmax(model(x), dim=1) == y)\n",
    "    acc = torch.cat(acc)\n",
    "    acc = torch.sum(acc) / len(acc)\n",
    "\n",
    "    return acc.item()"
   ]
  },
  {
   "cell_type": "code",
   "execution_count": 13,
   "id": "9e33b724-ba05-48b7-a203-b2721212e88b",
   "metadata": {},
   "outputs": [
    {
     "name": "stdout",
     "output_type": "stream",
     "text": [
      "arch: vgg19, pretrained: True\n"
     ]
    },
    {
     "name": "stderr",
     "output_type": "stream",
     "text": [
      "/home/dsanyal7/miniconda3/envs/mia/lib/python3.8/site-packages/torchvision/models/_utils.py:208: UserWarning: The parameter 'pretrained' is deprecated since 0.13 and may be removed in the future, please use 'weights' instead.\n",
      "  warnings.warn(\n",
      "/home/dsanyal7/miniconda3/envs/mia/lib/python3.8/site-packages/torchvision/models/_utils.py:223: UserWarning: Arguments other than a weight enum or `None` for 'weights' are deprecated since 0.13 and may be removed in the future. The current behavior is equivalent to passing `weights=VGG19_Weights.IMAGENET1K_V1`. You can also use `weights=VGG19_Weights.DEFAULT` to get the most up-to-date weights.\n",
      "  warnings.warn(msg)\n"
     ]
    },
    {
     "name": "stdout",
     "output_type": "stream",
     "text": [
      "VGG(\n",
      "  (features): Sequential(\n",
      "    (0): Conv2d(3, 64, kernel_size=(3, 3), stride=(1, 1), padding=(1, 1))\n",
      "    (1): ReLU(inplace=True)\n",
      "    (2): Conv2d(64, 64, kernel_size=(3, 3), stride=(1, 1), padding=(1, 1))\n",
      "    (3): ReLU(inplace=True)\n",
      "    (4): MaxPool2d(kernel_size=2, stride=2, padding=0, dilation=1, ceil_mode=False)\n",
      "    (5): Conv2d(64, 128, kernel_size=(3, 3), stride=(1, 1), padding=(1, 1))\n",
      "    (6): ReLU(inplace=True)\n",
      "    (7): Conv2d(128, 128, kernel_size=(3, 3), stride=(1, 1), padding=(1, 1))\n",
      "    (8): ReLU(inplace=True)\n",
      "    (9): MaxPool2d(kernel_size=2, stride=2, padding=0, dilation=1, ceil_mode=False)\n",
      "    (10): Conv2d(128, 256, kernel_size=(3, 3), stride=(1, 1), padding=(1, 1))\n",
      "    (11): ReLU(inplace=True)\n",
      "    (12): Conv2d(256, 256, kernel_size=(3, 3), stride=(1, 1), padding=(1, 1))\n",
      "    (13): ReLU(inplace=True)\n",
      "    (14): Conv2d(256, 256, kernel_size=(3, 3), stride=(1, 1), padding=(1, 1))\n",
      "    (15): ReLU(inplace=True)\n",
      "    (16): Conv2d(256, 256, kernel_size=(3, 3), stride=(1, 1), padding=(1, 1))\n",
      "    (17): ReLU(inplace=True)\n",
      "    (18): MaxPool2d(kernel_size=2, stride=2, padding=0, dilation=1, ceil_mode=False)\n",
      "    (19): Conv2d(256, 512, kernel_size=(3, 3), stride=(1, 1), padding=(1, 1))\n",
      "    (20): ReLU(inplace=True)\n",
      "    (21): Conv2d(512, 512, kernel_size=(3, 3), stride=(1, 1), padding=(1, 1))\n",
      "    (22): ReLU(inplace=True)\n",
      "    (23): Conv2d(512, 512, kernel_size=(3, 3), stride=(1, 1), padding=(1, 1))\n",
      "    (24): ReLU(inplace=True)\n",
      "    (25): Conv2d(512, 512, kernel_size=(3, 3), stride=(1, 1), padding=(1, 1))\n",
      "    (26): ReLU(inplace=True)\n",
      "    (27): MaxPool2d(kernel_size=2, stride=2, padding=0, dilation=1, ceil_mode=False)\n",
      "    (28): Conv2d(512, 512, kernel_size=(3, 3), stride=(1, 1), padding=(1, 1))\n",
      "    (29): ReLU(inplace=True)\n",
      "    (30): Conv2d(512, 512, kernel_size=(3, 3), stride=(1, 1), padding=(1, 1))\n",
      "    (31): ReLU(inplace=True)\n",
      "    (32): Conv2d(512, 512, kernel_size=(3, 3), stride=(1, 1), padding=(1, 1))\n",
      "    (33): ReLU(inplace=True)\n",
      "    (34): Conv2d(512, 512, kernel_size=(3, 3), stride=(1, 1), padding=(1, 1))\n",
      "    (35): ReLU(inplace=True)\n",
      "    (36): MaxPool2d(kernel_size=2, stride=2, padding=0, dilation=1, ceil_mode=False)\n",
      "  )\n",
      "  (avgpool): AdaptiveAvgPool2d(output_size=(7, 7))\n",
      "  (classifier): Sequential(\n",
      "    (0): Linear(in_features=25088, out_features=4096, bias=True)\n",
      "    (1): ReLU(inplace=True)\n",
      "    (2): Dropout(p=0.5, inplace=False)\n",
      "    (3): Linear(in_features=4096, out_features=4096, bias=True)\n",
      "    (4): ReLU(inplace=True)\n",
      "    (5): Dropout(p=0.5, inplace=False)\n",
      "    (6): Linear(in_features=4096, out_features=10, bias=True)\n",
      "  )\n",
      ")\n"
     ]
    }
   ],
   "source": [
    "m = network(model, pretrained_=True)\n",
    "m = m.to(DEVICE)\n",
    "# print(m)"
   ]
  },
  {
   "cell_type": "code",
   "execution_count": 18,
   "id": "5d4fa5fa-662a-47e6-8fb4-475ce475bdc9",
   "metadata": {},
   "outputs": [],
   "source": [
    "optim = torch.optim.SGD(m.parameters(), lr=lr, momentum=0.9, weight_decay=5e-4)\n",
    "sched = torch.optim.lr_scheduler.CosineAnnealingLR(optim, T_max=epochs)"
   ]
  },
  {
   "cell_type": "code",
   "execution_count": 25,
   "id": "b9237ff5-4f74-4de2-9cd3-cdfde723a770",
   "metadata": {},
   "outputs": [
    {
     "name": "stderr",
     "output_type": "stream",
     "text": [
      "100%|███████████████████████████████████████████████████████████████████| 196/196 [00:06<00:00, 31.02it/s, loss: 0.69]\n"
     ]
    },
    {
     "name": "stdout",
     "output_type": "stream",
     "text": [
      "[Epoch 0] Test Accuracy: 0.8088\n"
     ]
    },
    {
     "name": "stderr",
     "output_type": "stream",
     "text": [
      "100%|███████████████████████████████████████████████████████████████████| 196/196 [00:06<00:00, 30.75it/s, loss: 0.31]\n"
     ]
    },
    {
     "name": "stdout",
     "output_type": "stream",
     "text": [
      "[Epoch 1] Test Accuracy: 0.8290\n"
     ]
    },
    {
     "name": "stderr",
     "output_type": "stream",
     "text": [
      "100%|███████████████████████████████████████████████████████████████████| 196/196 [00:06<00:00, 30.62it/s, loss: 0.47]\n"
     ]
    },
    {
     "name": "stdout",
     "output_type": "stream",
     "text": [
      "[Epoch 2] Test Accuracy: 0.8149\n"
     ]
    },
    {
     "name": "stderr",
     "output_type": "stream",
     "text": [
      "100%|███████████████████████████████████████████████████████████████████| 196/196 [00:06<00:00, 30.62it/s, loss: 0.78]\n"
     ]
    },
    {
     "name": "stdout",
     "output_type": "stream",
     "text": [
      "[Epoch 3] Test Accuracy: 0.8405\n"
     ]
    },
    {
     "name": "stderr",
     "output_type": "stream",
     "text": [
      "100%|███████████████████████████████████████████████████████████████████| 196/196 [00:06<00:00, 30.60it/s, loss: 0.55]\n"
     ]
    },
    {
     "name": "stdout",
     "output_type": "stream",
     "text": [
      "[Epoch 4] Test Accuracy: 0.8427\n"
     ]
    },
    {
     "name": "stderr",
     "output_type": "stream",
     "text": [
      "100%|███████████████████████████████████████████████████████████████████| 196/196 [00:06<00:00, 30.79it/s, loss: 0.14]\n"
     ]
    },
    {
     "name": "stdout",
     "output_type": "stream",
     "text": [
      "[Epoch 5] Test Accuracy: 0.8671\n"
     ]
    },
    {
     "name": "stderr",
     "output_type": "stream",
     "text": [
      "100%|███████████████████████████████████████████████████████████████████| 196/196 [00:06<00:00, 29.99it/s, loss: 0.17]\n"
     ]
    },
    {
     "name": "stdout",
     "output_type": "stream",
     "text": [
      "[Epoch 6] Test Accuracy: 0.8508\n"
     ]
    },
    {
     "name": "stderr",
     "output_type": "stream",
     "text": [
      "100%|███████████████████████████████████████████████████████████████████| 196/196 [00:06<00:00, 30.92it/s, loss: 0.32]\n"
     ]
    },
    {
     "name": "stdout",
     "output_type": "stream",
     "text": [
      "[Epoch 7] Test Accuracy: 0.8548\n"
     ]
    },
    {
     "name": "stderr",
     "output_type": "stream",
     "text": [
      "100%|███████████████████████████████████████████████████████████████████| 196/196 [00:06<00:00, 30.82it/s, loss: 0.13]\n"
     ]
    },
    {
     "name": "stdout",
     "output_type": "stream",
     "text": [
      "[Epoch 8] Test Accuracy: 0.8615\n"
     ]
    },
    {
     "name": "stderr",
     "output_type": "stream",
     "text": [
      "100%|███████████████████████████████████████████████████████████████████| 196/196 [00:06<00:00, 30.54it/s, loss: 0.12]\n"
     ]
    },
    {
     "name": "stdout",
     "output_type": "stream",
     "text": [
      "[Epoch 9] Test Accuracy: 0.8714\n"
     ]
    },
    {
     "name": "stderr",
     "output_type": "stream",
     "text": [
      "100%|███████████████████████████████████████████████████████████████████| 196/196 [00:06<00:00, 30.83it/s, loss: 0.09]\n"
     ]
    },
    {
     "name": "stdout",
     "output_type": "stream",
     "text": [
      "[Epoch 10] Test Accuracy: 0.8778\n"
     ]
    },
    {
     "name": "stderr",
     "output_type": "stream",
     "text": [
      "100%|███████████████████████████████████████████████████████████████████| 196/196 [00:06<00:00, 30.52it/s, loss: 0.07]\n"
     ]
    },
    {
     "name": "stdout",
     "output_type": "stream",
     "text": [
      "[Epoch 11] Test Accuracy: 0.8856\n"
     ]
    },
    {
     "name": "stderr",
     "output_type": "stream",
     "text": [
      "100%|███████████████████████████████████████████████████████████████████| 196/196 [00:06<00:00, 30.53it/s, loss: 0.27]\n"
     ]
    },
    {
     "name": "stdout",
     "output_type": "stream",
     "text": [
      "[Epoch 12] Test Accuracy: 0.8839\n"
     ]
    },
    {
     "name": "stderr",
     "output_type": "stream",
     "text": [
      "100%|███████████████████████████████████████████████████████████████████| 196/196 [00:06<00:00, 30.82it/s, loss: 0.02]\n"
     ]
    },
    {
     "name": "stdout",
     "output_type": "stream",
     "text": [
      "[Epoch 13] Test Accuracy: 0.8817\n"
     ]
    },
    {
     "name": "stderr",
     "output_type": "stream",
     "text": [
      "100%|███████████████████████████████████████████████████████████████████| 196/196 [00:06<00:00, 30.63it/s, loss: 0.00]\n"
     ]
    },
    {
     "name": "stdout",
     "output_type": "stream",
     "text": [
      "[Epoch 14] Test Accuracy: 0.8933\n"
     ]
    },
    {
     "name": "stderr",
     "output_type": "stream",
     "text": [
      "100%|███████████████████████████████████████████████████████████████████| 196/196 [00:06<00:00, 29.99it/s, loss: 0.14]\n"
     ]
    },
    {
     "name": "stdout",
     "output_type": "stream",
     "text": [
      "[Epoch 15] Test Accuracy: 0.8916\n"
     ]
    },
    {
     "name": "stderr",
     "output_type": "stream",
     "text": [
      "100%|███████████████████████████████████████████████████████████████████| 196/196 [00:06<00:00, 30.59it/s, loss: 0.20]\n"
     ]
    },
    {
     "name": "stdout",
     "output_type": "stream",
     "text": [
      "[Epoch 16] Test Accuracy: 0.8949\n"
     ]
    },
    {
     "name": "stderr",
     "output_type": "stream",
     "text": [
      "100%|███████████████████████████████████████████████████████████████████| 196/196 [00:06<00:00, 30.54it/s, loss: 0.02]\n"
     ]
    },
    {
     "name": "stdout",
     "output_type": "stream",
     "text": [
      "[Epoch 17] Test Accuracy: 0.8967\n"
     ]
    },
    {
     "name": "stderr",
     "output_type": "stream",
     "text": [
      "100%|███████████████████████████████████████████████████████████████████| 196/196 [00:06<00:00, 31.01it/s, loss: 0.03]\n"
     ]
    },
    {
     "name": "stdout",
     "output_type": "stream",
     "text": [
      "[Epoch 18] Test Accuracy: 0.9017\n"
     ]
    },
    {
     "name": "stderr",
     "output_type": "stream",
     "text": [
      "100%|███████████████████████████████████████████████████████████████████| 196/196 [00:06<00:00, 30.55it/s, loss: 0.01]\n"
     ]
    },
    {
     "name": "stdout",
     "output_type": "stream",
     "text": [
      "[Epoch 19] Test Accuracy: 0.9017\n"
     ]
    },
    {
     "name": "stderr",
     "output_type": "stream",
     "text": [
      "100%|███████████████████████████████████████████████████████████████████| 196/196 [00:06<00:00, 30.54it/s, loss: 0.34]\n"
     ]
    },
    {
     "name": "stdout",
     "output_type": "stream",
     "text": [
      "[Epoch 20] Test Accuracy: 0.9019\n"
     ]
    },
    {
     "name": "stderr",
     "output_type": "stream",
     "text": [
      "100%|███████████████████████████████████████████████████████████████████| 196/196 [00:06<00:00, 30.38it/s, loss: 0.00]\n"
     ]
    },
    {
     "name": "stdout",
     "output_type": "stream",
     "text": [
      "[Epoch 21] Test Accuracy: 0.9032\n"
     ]
    },
    {
     "name": "stderr",
     "output_type": "stream",
     "text": [
      "100%|███████████████████████████████████████████████████████████████████| 196/196 [00:06<00:00, 30.45it/s, loss: 0.06]\n"
     ]
    },
    {
     "name": "stdout",
     "output_type": "stream",
     "text": [
      "[Epoch 22] Test Accuracy: 0.9038\n"
     ]
    },
    {
     "name": "stderr",
     "output_type": "stream",
     "text": [
      "100%|███████████████████████████████████████████████████████████████████| 196/196 [00:06<00:00, 30.41it/s, loss: 0.02]\n"
     ]
    },
    {
     "name": "stdout",
     "output_type": "stream",
     "text": [
      "[Epoch 23] Test Accuracy: 0.9027\n"
     ]
    },
    {
     "name": "stderr",
     "output_type": "stream",
     "text": [
      "100%|███████████████████████████████████████████████████████████████████| 196/196 [00:06<00:00, 30.61it/s, loss: 0.09]\n"
     ]
    },
    {
     "name": "stdout",
     "output_type": "stream",
     "text": [
      "[Epoch 24] Test Accuracy: 0.9040\n",
      "[test] acc_test: 0.9045\n"
     ]
    }
   ],
   "source": [
    "# wandb.init(project=\"lira\", mode=\"disabled\" if debug else \"online\")\n",
    "# wandb.config.update(args)\n",
    "\n",
    "for epoch in range(epochs):\n",
    "    m.train()\n",
    "    loss_total = 0\n",
    "    pbar = tqdm(train_dl)\n",
    "    for itr, (x, y) in enumerate(pbar):\n",
    "        x, y = x.to(DEVICE), y.to(DEVICE)\n",
    "\n",
    "        outputs = m(x)\n",
    "        loss = F.cross_entropy(outputs, y)\n",
    "        loss_total += loss\n",
    "        \n",
    "        pbar.set_postfix_str(f\"loss: {loss:.2f}\")\n",
    "        optim.zero_grad()\n",
    "        loss.backward()\n",
    "        optim.step()\n",
    "    sched.step()\n",
    "\n",
    "    test_acc = get_acc(m, test_dl)\n",
    "    print(f\"[Epoch {epoch}] Test Accuracy: {test_acc:.4f}\")\n",
    "    # wandb.log({\"loss\": loss_total / len(train_dl)})\n",
    "\n",
    "print(f\"[test] acc_test: {get_acc(m, test_dl):.4f}\")\n",
    "# wandb.log({\"acc_test\": get_acc(m, test_dl)})\n",
    "\n",
    "savedir_victim = os.path.join(savedir, \"victim\")\n",
    "os.makedirs(savedir_victim, exist_ok=True)\n",
    "np.save(savedir_victim + \"/keep.npy\", keep_bool)\n",
    "torch.save(m.state_dict(), savedir_victim + \"/model.pt\")"
   ]
  },
  {
   "cell_type": "markdown",
   "id": "d462c477-11c7-4e09-8ed9-a9c7fbc783fb",
   "metadata": {},
   "source": [
    "# Inference"
   ]
  },
  {
   "cell_type": "code",
   "execution_count": 28,
   "id": "b04e65c7-d57a-47db-abf7-7546f70da97a",
   "metadata": {},
   "outputs": [],
   "source": [
    "# inference from victim model\n",
    "# run below script at ~/lira-pytorch_\n",
    "\n",
    "# CUDA_VISIBLE_DEVICES=0 python3 -u inference.py --savedir=exp/cifar10/victim --model vgg19 --mode eval &> logs/inference/log_victim"
   ]
  },
  {
   "cell_type": "code",
   "execution_count": 27,
   "id": "a95fc144-d21c-4543-9a5d-5971cb0d9a81",
   "metadata": {},
   "outputs": [],
   "source": [
    "# inference from shadow models\n",
    "# run below script at ~/lira-pytorch_\n",
    "\n",
    "# bash scripts/run_infer-vgg19_n_shadows_64.sh > run_infer-vgg19_n_shadows_64.log 2>&1 &"
   ]
  },
  {
   "cell_type": "markdown",
   "id": "2c60b726-0d82-4622-940a-d35de17bb249",
   "metadata": {},
   "source": [
    "# Computer score (logit scaling; Ø(p) = log(p/(1-p)) )"
   ]
  },
  {
   "cell_type": "code",
   "execution_count": 47,
   "id": "0d968524-5c3d-4b80-b3fc-39e26ebdd557",
   "metadata": {},
   "outputs": [],
   "source": [
    "# run below script at ~/lira-pytorch_\n",
    "# compute scores for both victim model and shadow models\n",
    "\n",
    "# python3 score.py --savedir exp/cifar10 --mode eval"
   ]
  },
  {
   "cell_type": "markdown",
   "id": "f60b479f-f747-45d6-bada-daa55e04a56b",
   "metadata": {},
   "source": [
    "# Evaluate: \n",
    "## 1. generate distributions (Q_in, Q_out), \n",
    "## 2. then perform online/offline attack by estimating likeliehood ratio (Λ)"
   ]
  },
  {
   "cell_type": "code",
   "execution_count": 64,
   "id": "d470a998-b976-4f69-8ec0-19b30196d0a4",
   "metadata": {},
   "outputs": [
    {
     "name": "stdout",
     "output_type": "stream",
     "text": [
      "train_ds:  25000\n",
      "eval_ds:  10000\n"
     ]
    }
   ],
   "source": [
    "print(\"train_ds: \", len(train_ds)) # for training victim model T among T + S \n",
    "print(\"eval_ds: \", len(eval_ds))"
   ]
  },
  {
   "cell_type": "code",
   "execution_count": 135,
   "id": "6cd7d5ab-fde5-47d6-b613-8cd9d0674c13",
   "metadata": {},
   "outputs": [
    {
     "name": "stdout",
     "output_type": "stream",
     "text": [
      "eval_in_train:  5118\n",
      "v_scores:  (1, 10000, 2)\n",
      "v_keep:  (1, 10000)\n"
     ]
    }
   ],
   "source": [
    "# load scores from victim model\n",
    "train_indices = set(train_ds.indices) # = T \n",
    "eval_in_train = [True if idx in train_indices else False for idx in eval_ds.indices] # T2\n",
    "print(\"eval_in_train: \", sum(eval_in_train))\n",
    "\n",
    "v_scores = np.load(os.path.join(savedir, \"victim\", \"scores.npy\"))\n",
    "v_keep = np.array(eval_in_train) # eval_ds ^ train_ds; \n",
    "\n",
    "v_scores_r = v_scores.reshape(1, *v_scores.shape)\n",
    "v_keep_r = v_keep.reshape(1, v_scores.shape[0])\n",
    "v_scores = v_scores_r\n",
    "v_keep = v_keep_r\n",
    "\n",
    "print(\"v_scores: \", v_scores.shape)\n",
    "print(\"v_keep: \", v_keep.shape)"
   ]
  },
  {
   "cell_type": "code",
   "execution_count": 136,
   "id": "1e4f7de7-c731-4903-91d9-c53a1b7f888f",
   "metadata": {},
   "outputs": [
    {
     "data": {
      "text/plain": [
       "array([[[ 8.73164634,  7.7374979 ],\n",
       "        [17.48355431, 17.8644279 ],\n",
       "        [ 7.04181743,  8.25067571],\n",
       "        ...,\n",
       "        [12.87098707, 11.36207849],\n",
       "        [ 7.88925205,  5.13506053],\n",
       "        [ 4.04074119,  4.92728663]]])"
      ]
     },
     "execution_count": 136,
     "metadata": {},
     "output_type": "execute_result"
    }
   ],
   "source": [
    "v_scores"
   ]
  },
  {
   "cell_type": "code",
   "execution_count": 137,
   "id": "ac0b8667-96d6-4171-9f69-d67bf7935afb",
   "metadata": {},
   "outputs": [
    {
     "data": {
      "text/plain": [
       "array([[False,  True,  True, ...,  True,  True, False]])"
      ]
     },
     "execution_count": 137,
     "metadata": {},
     "output_type": "execute_result"
    }
   ],
   "source": [
    "v_keep"
   ]
  },
  {
   "cell_type": "code",
   "execution_count": 138,
   "id": "190c7de4-f67b-48ef-ac3d-b5027989c7cd",
   "metadata": {},
   "outputs": [],
   "source": [
    "# load scores from shadow models\n",
    "def load_data():\n",
    "    \"\"\"\n",
    "    Load our saved scores and then put them into a big matrix.\n",
    "    \"\"\"\n",
    "    global scores, keep\n",
    "    scores = []\n",
    "    keep = []\n",
    "\n",
    "    paths = []\n",
    "\n",
    "    for path in os.listdir(savedir):\n",
    "        if path == \"victim\":\n",
    "            continue\n",
    "        paths.append(path)\n",
    "        \n",
    "        s_ = np.load(os.path.join(savedir, path, \"scores.npy\"))\n",
    "        # k_ = np.load(os.path.join(savedir, path, \"keep.npy\"))\n",
    "        k_ = np.zeros((10000,), dtype=bool)\n",
    "\n",
    "        scores.append(s_)\n",
    "        keep.append(k_)\n",
    "        # print(\"s_: \", s_.shape)\n",
    "        # print(\"k_: \", k_.shape)\n",
    "\n",
    "    print(\"paths: \", paths)\n",
    "    \n",
    "    scores = np.array(scores)\n",
    "    keep = np.array(keep)\n",
    "\n",
    "    return scores, keep"
   ]
  },
  {
   "cell_type": "code",
   "execution_count": 144,
   "id": "35c06d46-4661-4d39-aa3c-57498bdc1b79",
   "metadata": {},
   "outputs": [
    {
     "name": "stdout",
     "output_type": "stream",
     "text": [
      "paths:  ['54', '23', '29', '2', '11', '8', '47', '30', '37', '40', '61', '16', '5', '24', '53', '59', '20', '57', '18', '1', '12', '33', '44', '39', '43', '34', '49', '15', '62', '6', '50', '27', '17', '60', '4', '58', '52', '25', '41', '36', '31', '46', '28', '22', '55', '9', '3', '10', '63', '14', '7', '26', '51', '48', '35', '42', '38', '45', '32', '56', '21', '0', '13', '19']\n",
      "scores:  (64, 10000, 2)\n",
      "keep:  (64, 10000)\n"
     ]
    }
   ],
   "source": [
    "scores, keep = load_data()\n",
    "\n",
    "print(\"scores: \", scores.shape)\n",
    "# print(scores)\n",
    "print(\"keep: \", keep.shape) # False for all;\n",
    "# print(keep)"
   ]
  },
  {
   "cell_type": "code",
   "execution_count": 141,
   "id": "316be4c6-7663-4fba-ac26-9b7749a82973",
   "metadata": {},
   "outputs": [
    {
     "data": {
      "text/plain": [
       "False"
      ]
     },
     "execution_count": 141,
     "metadata": {},
     "output_type": "execute_result"
    }
   ],
   "source": [
    "np.isnan(scores).any()"
   ]
  },
  {
   "cell_type": "code",
   "execution_count": 106,
   "id": "3ac2070f-41a5-4bc8-a73d-d43587758097",
   "metadata": {},
   "outputs": [],
   "source": [
    "def sweep(score, x):\n",
    "    \"\"\"\n",
    "    Compute a ROC curve and then return the FPR, TPR, AUC, and ACC.\n",
    "    \"\"\"\n",
    "    fpr, tpr, _ = roc_curve(x, -score)\n",
    "    acc = np.max(1 - (fpr + (1 - tpr)) / 2)\n",
    "    return fpr, tpr, auc(fpr, tpr), acc\n",
    "\n",
    "\n",
    "def do_plot(fn, keep, scores, check_keep, check_scores, ntest, legend=\"\", metric=\"auc\", sweep_fn=sweep, **plot_kwargs):\n",
    "    \"\"\"\n",
    "    Generate the ROC curves by using ntest models as test models and the rest to train.\n",
    "    \"\"\"\n",
    "\n",
    "    prediction, answers = fn(keep, scores, check_keep, check_scores)\n",
    "\n",
    "    fpr, tpr, auc, acc = sweep_fn(np.array(prediction), np.array(answers, dtype=bool))\n",
    "\n",
    "    low = tpr[np.where(fpr < 0.001)[0][-1]]\n",
    "\n",
    "    print(\"Attack %s   AUC %.4f, Accuracy %.4f, TPR@0.1%%FPR of %.4f\" % (legend, auc, acc, low))\n",
    "\n",
    "    metric_text = \"\"\n",
    "    if metric == \"auc\":\n",
    "        metric_text = \"auc=%.3f\" % auc\n",
    "    elif metric == \"acc\":\n",
    "        metric_text = \"acc=%.3f\" % acc\n",
    "\n",
    "    plt.plot(fpr, tpr, label=legend + metric_text, **plot_kwargs)\n",
    "    return (acc, auc)"
   ]
  },
  {
   "cell_type": "code",
   "execution_count": 147,
   "id": "e2bc2623-02ef-4a98-87b2-9ae958521ea0",
   "metadata": {},
   "outputs": [],
   "source": [
    "def generate_ours(keep, scores, check_keep, check_scores, in_size=100000, out_size=100000, fix_variance=False):\n",
    "    \"\"\"\n",
    "    Fit a two predictive models using keep and scores in order to predict\n",
    "    if the examples in check_scores were training data or not, using the\n",
    "    ground truth answer from check_keep.\n",
    "    \"\"\"\n",
    "    dat_in = []\n",
    "    dat_out = []\n",
    "\n",
    "    # iterate data points (x, y).\n",
    "    for j in range(scores.shape[1]):\n",
    "        dat_in.append(scores[keep[:, j], j, :])\n",
    "        dat_out.append(scores[~keep[:, j], j, :])\n",
    "\n",
    "    in_size = min(min(map(len, dat_in)), in_size)\n",
    "    out_size = min(min(map(len, dat_out)), out_size)\n",
    "\n",
    "    dat_in = np.array([x[:in_size] for x in dat_in])\n",
    "    dat_out = np.array([x[:out_size] for x in dat_out])\n",
    "\n",
    "    mean_in = np.median(dat_in, 1)\n",
    "    mean_out = np.median(dat_out, 1)\n",
    "\n",
    "    if fix_variance:\n",
    "        std_in = np.std(dat_in)\n",
    "        std_out = np.std(dat_in)\n",
    "    else:\n",
    "        std_in = np.std(dat_in, 1)\n",
    "        std_out = np.std(dat_out, 1)\n",
    "\n",
    "    prediction = []\n",
    "    answers = []\n",
    "    for ans, sc in zip(check_keep, check_scores):\n",
    "        print(ans)\n",
    "        print(sc)\n",
    "        \n",
    "        pr_in = -scipy.stats.norm.logpdf(sc, mean_in, std_in + 1e-30)\n",
    "        pr_out = -scipy.stats.norm.logpdf(sc, mean_out, std_out + 1e-30)\n",
    "        score = pr_in - pr_out\n",
    "\n",
    "        prediction.extend(score.mean(1))\n",
    "        answers.extend(ans) ### \n",
    "\n",
    "    return prediction, answers\n",
    "\n",
    "\n",
    "def generate_ours_offline(keep, scores, check_keep, check_scores, in_size=100000, out_size=100000, fix_variance=False):\n",
    "    \"\"\"\n",
    "    Fit a single predictive model using keep and scores in order to predict\n",
    "    if the examples in check_scores were training data or not, using the\n",
    "    ground truth answer from check_keep.\n",
    "    \"\"\"\n",
    "    dat_in = []\n",
    "    dat_out = []\n",
    "\n",
    "    for j in range(scores.shape[1]):\n",
    "        dat_in.append(scores[keep[:, j], j, :])\n",
    "        dat_out.append(scores[~keep[:, j], j, :])\n",
    "\n",
    "    out_size = min(min(map(len, dat_out)), out_size)\n",
    "\n",
    "    dat_out = np.array([x[:out_size] for x in dat_out])\n",
    "\n",
    "    mean_out = np.median(dat_out, 1)\n",
    "\n",
    "    if fix_variance:\n",
    "        std_out = np.std(dat_out)\n",
    "    else:\n",
    "        std_out = np.std(dat_out, 1)\n",
    "\n",
    "    prediction = []\n",
    "    answers = []\n",
    "    for ans, sc in zip(check_keep, check_scores):\n",
    "        score = scipy.stats.norm.logpdf(sc, mean_out, std_out + 1e-30)\n",
    "\n",
    "        prediction.extend(score.mean(1))\n",
    "        answers.extend(ans)\n",
    "    return prediction, answers\n",
    "\n",
    "\n",
    "def generate_global(keep, scores, check_keep, check_scores):\n",
    "    \"\"\"\n",
    "    Use a simple global threshold sweep to predict if the examples in\n",
    "    check_scores were training data or not, using the ground truth answer from\n",
    "    check_keep.\n",
    "    \"\"\"\n",
    "    prediction = []\n",
    "    answers = []\n",
    "    for ans, sc in zip(check_keep, check_scores):\n",
    "        prediction.extend(-sc.mean(1))\n",
    "        answers.extend(ans)\n",
    "\n",
    "    return prediction, answers"
   ]
  },
  {
   "cell_type": "code",
   "execution_count": 151,
   "id": "b1ec5da5-bae5-4fa3-8fa0-1aaf687d1e84",
   "metadata": {},
   "outputs": [
    {
     "name": "stdout",
     "output_type": "stream",
     "text": [
      "Attack Ours (offline)\n",
      "   AUC 0.5609, Accuracy 0.5607, TPR@0.1%FPR of 0.0246\n",
      "Attack Ours (offline, fixed variance)\n",
      "   AUC 0.5745, Accuracy 0.5608, TPR@0.1%FPR of 0.0227\n",
      "Attack Global threshold\n",
      "   AUC 0.5599, Accuracy 0.5717, TPR@0.1%FPR of 0.0012\n"
     ]
    },
    {
     "data": {
      "image/png": "[encoded data removed]",
      "text/plain": [
       "<Figure size 400x300 with 1 Axes>"
      ]
     },
     "metadata": {},
     "output_type": "display_data"
    }
   ],
   "source": [
    "# def fig_fpr_tpr():\n",
    "\n",
    "plt.figure(figsize=(4, 3))\n",
    "\n",
    "# do_plot(generate_ours, keep, scores, v_keep, v_scores, 1, \"Ours (online)\\n\", metric=\"auc\")\n",
    "\n",
    "# do_plot(functools.partial(generate_ours, fix_variance=True), keep, scores, v_keep, v_scores, 1, \"Ours (online, fixed variance)\\n\", metric=\"auc\")\n",
    "\n",
    "do_plot(functools.partial(generate_ours_offline), keep, scores, v_keep, v_scores, 1, \"Ours (offline)\\n\", metric=\"auc\")\n",
    "\n",
    "do_plot(functools.partial(generate_ours_offline, fix_variance=True), keep, scores, v_keep, v_scores, 1, \"Ours (offline, fixed variance)\\n\", metric=\"auc\")\n",
    "\n",
    "do_plot(generate_global, keep, scores, v_keep, v_scores, 1, \"Global threshold\\n\", metric=\"auc\")\n",
    "\n",
    "plt.semilogx()\n",
    "plt.semilogy()\n",
    "plt.xlim(1e-5, 1)\n",
    "plt.ylim(1e-5, 1)\n",
    "plt.xlabel(\"False Positive Rate\")\n",
    "plt.ylabel(\"True Positive Rate\")\n",
    "plt.plot([0, 1], [0, 1], ls=\"--\", color=\"gray\")\n",
    "plt.subplots_adjust(bottom=0.18, left=0.18, top=0.96, right=0.96)\n",
    "plt.legend(fontsize=8)\n",
    "\n",
    "current_time = datetime.datetime.now().strftime(\"%Y%m%d-%H%M%S\")\n",
    "filename = f\"fprtpr_{model}_{current_time}.png\"\n",
    "\n",
    "plt.savefig(\"figures/\" + filename)\n",
    "plt.show()"
   ]
  },
  {
   "cell_type": "code",
   "execution_count": null,
   "id": "8700d914-e93a-486d-930e-37dd9b236cd9",
   "metadata": {},
   "outputs": [],
   "source": []
  },
  {
   "cell_type": "code",
   "execution_count": null,
   "id": "d351c8a8-0e1e-4336-87f3-458ab1e14c09",
   "metadata": {},
   "outputs": [],
   "source": []
  }
 ],
 "metadata": {
  "kernelspec": {
   "display_name": "Python 3 (ipykernel)",
   "language": "python",
   "name": "python3"
  },
  "language_info": {
   "codemirror_mode": {
    "name": "ipython",
    "version": 3
   },
   "file_extension": ".py",
   "mimetype": "text/x-python",
   "name": "python",
   "nbconvert_exporter": "python",
   "pygments_lexer": "ipython3",
   "version": "3.8.6"
  }
 },
 "nbformat": 4,
 "nbformat_minor": 5
}
