{
 "cells": [
  {
   "cell_type": "code",
   "execution_count": 1,
   "id": "f3be568e-f6b7-46a4-be21-1aed30d98c82",
   "metadata": {},
   "outputs": [],
   "source": [
    "import argparse\n",
    "import os\n",
    "import time\n",
    "from pathlib import Path\n",
    "\n",
    "import numpy as np\n",
    "import pytorch_lightning as pl\n",
    "import torch\n",
    "import wandb\n",
    "from torch import nn\n",
    "from torch.nn import functional as F\n",
    "from torch.utils.data import DataLoader, random_split\n",
    "from torchvision import models, transforms\n",
    "import timm\n",
    "from torchvision.datasets import CIFAR10, CIFAR100\n",
    "from tqdm import tqdm\n",
    "\n",
    "## \n",
    "# plot.py\n",
    "import functools\n",
    "\n",
    "import matplotlib\n",
    "import matplotlib.pyplot as plt\n",
    "import datetime \n",
    "\n",
    "import scipy.stats\n",
    "from sklearn.metrics import auc, roc_curve\n",
    "\n",
    "##\n",
    "DEVICE = torch.device(\"cuda\") if torch.cuda.is_available() else torch.device(\"mps\")"
   ]
  },
  {
   "cell_type": "code",
   "execution_count": 2,
   "id": "b420c0ba-b2ec-42cf-952f-4a2ff4aa945f",
   "metadata": {},
   "outputs": [
    {
     "data": {
      "text/plain": [
       "' \\nlr = 0.02\\nepochs = 25\\nn_shadows = 64\\nshadow_id = -1 \\nmodel = \"vgg19\"\\ndataset = \"cifar10\"\\npkeep = 0.5\\nsavedir = f\"exp/{model}_{dataset}\"\\ndebug = True\\n'"
      ]
     },
     "execution_count": 2,
     "metadata": {},
     "output_type": "execute_result"
    }
   ],
   "source": [
    "# for vit_large_patch16_224_cifar10, CIFAR-10\n",
    "lr=0.02\n",
    "epochs=25\n",
    "n_shadows = 64\n",
    "shadow_id = -1 \n",
    "model = \"efficientnet_b7\"\n",
    "dataset = \"cifar10\"\n",
    "pkeep = 0.5\n",
    "savedir = f\"exp/{model}_{dataset}\"\n",
    "debug = True\n",
    "\n",
    "# for vgg19, CIFAR-10\n",
    "''' \n",
    "lr = 0.02\n",
    "epochs = 25\n",
    "n_shadows = 64\n",
    "shadow_id = -1 \n",
    "model = \"vgg19\"\n",
    "dataset = \"cifar10\"\n",
    "pkeep = 0.5\n",
    "savedir = f\"exp/{model}_{dataset}\"\n",
    "debug = True\n",
    "'''"
   ]
  },
  {
   "cell_type": "code",
   "execution_count": 3,
   "id": "4e6ad5cd-9e3e-4b1b-9a0c-76b67670256f",
   "metadata": {},
   "outputs": [],
   "source": [
    "# inference\n",
    "n_queries = 2"
   ]
  },
  {
   "cell_type": "code",
   "execution_count": 4,
   "id": "16eb6477-1909-4398-8bd5-5e2b3085dce4",
   "metadata": {},
   "outputs": [],
   "source": [
    "seed = 1583745484"
   ]
  },
  {
   "cell_type": "markdown",
   "id": "3d9ab967-87b1-42b7-8320-91e6fce026dc",
   "metadata": {},
   "source": [
    "# Train victim model"
   ]
  },
  {
   "cell_type": "code",
   "execution_count": 5,
   "id": "135c48e3-ca2a-43dd-961d-13fb9eaa5d8b",
   "metadata": {},
   "outputs": [
    {
     "name": "stdout",
     "output_type": "stream",
     "text": [
      "import cifar10...\n",
      "Files already downloaded and verified\n",
      "Files already downloaded and verified\n"
     ]
    }
   ],
   "source": [
    "# Dataset\n",
    "if model == \"vit_large_patch16_224\":\n",
    "    train_transform = transforms.Compose([\n",
    "        transforms.Resize(224),\n",
    "        transforms.ToTensor(),\n",
    "        transforms.Normalize((0.4914, 0.4822, 0.4465), (0.2023, 0.1994, 0.2010)),\n",
    "    ])\n",
    "    \n",
    "    test_transform = transforms.Compose([\n",
    "        transforms.Resize(224),\n",
    "        transforms.ToTensor(),\n",
    "        transforms.Normalize((0.4914, 0.4822, 0.4465), (0.2023, 0.1994, 0.2010)),\n",
    "    ])\n",
    "else: \n",
    "    train_transform = transforms.Compose(\n",
    "        [\n",
    "            transforms.RandomHorizontalFlip(),\n",
    "            transforms.RandomCrop(32, padding=4),\n",
    "            transforms.ToTensor(),\n",
    "            transforms.Normalize([0.4914, 0.4822, 0.4465], [0.2470, 0.2435, 0.2616]),\n",
    "        ]\n",
    "    )\n",
    "    test_transform = transforms.Compose(\n",
    "        [\n",
    "            transforms.ToTensor(),\n",
    "            transforms.Normalize([0.4914, 0.4822, 0.4465], [0.2470, 0.2435, 0.2616]),\n",
    "        ]\n",
    "    )\n",
    "\n",
    "\n",
    "torch.manual_seed(seed)\n",
    "datadir = Path().home() / \"dataset\"\n",
    "\n",
    "if dataset == \"cifar10\":\n",
    "    print(\"import cifar10...\")\n",
    "    train_ds = CIFAR10(root=datadir, train=True, download=True, transform=train_transform)\n",
    "    test_ds = CIFAR10(root=datadir, train=False, download=True, transform=test_transform)\n",
    "elif dataset == \"cifar100\":\n",
    "    print(\"import cifar100...\")\n",
    "    train_ds = CIFAR100(root=datadir, train=True, download=True, transform=train_transform)\n",
    "    test_ds = CIFAR100(root=datadir, train=False, download=True, transform=test_transform)\n",
    "else:\n",
    "    raise ValueError(\"undefined dataset\")\n",
    "\n",
    "# train_ds, eval_ds = random_split(train_ds, [0.8, 0.2])"
   ]
  },
  {
   "cell_type": "code",
   "execution_count": 6,
   "id": "f4099837-071f-4c1d-882a-0ec4045584d7",
   "metadata": {},
   "outputs": [],
   "source": [
    "size = len(train_ds)\n",
    "np.random.seed(seed)"
   ]
  },
  {
   "cell_type": "code",
   "execution_count": 7,
   "id": "889ba3fc-ccb8-4456-9c2a-43eef385b703",
   "metadata": {},
   "outputs": [
    {
     "data": {
      "text/plain": [
       "50000"
      ]
     },
     "execution_count": 7,
     "metadata": {},
     "output_type": "execute_result"
    }
   ],
   "source": [
    "size"
   ]
  },
  {
   "cell_type": "code",
   "execution_count": 8,
   "id": "fa393b2b-a81c-40ea-b0da-b79fe5a19ce9",
   "metadata": {},
   "outputs": [],
   "source": [
    "keep = np.random.choice(size, size=int(pkeep * size), replace=False)\n",
    "keep.sort()\n",
    "\n",
    "keep_bool = np.full((size), False)\n",
    "keep_bool[keep] = True"
   ]
  },
  {
   "cell_type": "code",
   "execution_count": 9,
   "id": "e70f7a8b-5c83-4276-88c6-7988d4a9e55e",
   "metadata": {},
   "outputs": [],
   "source": [
    "train_ds = torch.utils.data.Subset(train_ds, keep)\n",
    "train_dl = DataLoader(train_ds, batch_size=128, shuffle=True, num_workers=4)\n",
    "test_dl = DataLoader(test_ds, batch_size=128, shuffle=False, num_workers=4)"
   ]
  },
  {
   "cell_type": "code",
   "execution_count": 10,
   "id": "d35c7488-9f38-4fef-b164-481ab739b777",
   "metadata": {},
   "outputs": [
    {
     "data": {
      "text/plain": [
       "25000"
      ]
     },
     "execution_count": 10,
     "metadata": {},
     "output_type": "execute_result"
    }
   ],
   "source": [
    "len(train_ds) # 50%(pkeep) of training dataset"
   ]
  },
  {
   "cell_type": "code",
   "execution_count": 11,
   "id": "c81086ff-0d01-4a37-9b0f-f8f3968a33f4",
   "metadata": {},
   "outputs": [],
   "source": [
    "def network(arch: str, pretrained_: bool):\n",
    "    print(f'arch: {arch}, pretrained: {pretrained_}') \n",
    "    \n",
    "    # https://pytorch.org/vision/stable/models.html\n",
    "    TORCHVISION_MODELS = ['resnet18', 'resnet50', 'resnet101', 'vgg16', 'vgg19', 'densenet121', \n",
    "                          'wide_resnet50_2', 'wide_resnet101_2',\n",
    "                          'densenet201', 'mobilenet_v2', 'inception_v3', \n",
    "                          'efficientnet_b0', 'efficientnet_b7', \n",
    "                          'squeezenet1_0', 'alexnet', 'googlenet', 'shufflenet_v2_x1_0']\n",
    "    \n",
    "    # https://github.com/huggingface/pytorch-image-models\n",
    "    PYTORCH_IMAGE_MODELS = ['vit_base_patch16_224', 'vit_large_patch16_224', 'deit_base_patch16_224',\n",
    "                        'convnext_base', 'convnext_large']\n",
    "    \n",
    "    if arch in TORCHVISION_MODELS:\n",
    "        model = models.__dict__[arch](pretrained=pretrained_)\n",
    "    elif arch in PYTORCH_IMAGE_MODELS:\n",
    "        model = timm.create_model(arch, pretrained=pretrained_)\n",
    "    else:\n",
    "        raise ValueError(f\"Model {arch} not available.\")\n",
    "\n",
    "    dataset_classes = {\"cifar10\": 10, \"cifar100\": 100}\n",
    "    n_classes = dataset_classes.get(dataset)\n",
    "\n",
    "    print(\"n_classes: \", n_classes)\n",
    "    \n",
    "    if not n_classes:\n",
    "        raise ValueError(f\"Unsupported dataset '{args.dataset}'\")\n",
    "\n",
    "    # print(\"model: \", model)\n",
    "\n",
    "    if arch == \"vgg19\": # for VGG-19\n",
    "        num_features = model.classifier[6].in_features\n",
    "        m.classifier[6] = nn.Linear(num_features, n_classes)      \n",
    "    elif arch == \"vit_large_patch16_224\": # for ViT (vision transformer) \n",
    "        num_features = model.head.in_features\n",
    "        model.head = nn.Linear(num_features, n_classes)        \n",
    "    elif arch == \"efficientnet_b7\": # for efficientnet\n",
    "        in_features = model.classifier[1].in_features\n",
    "        model.classifier[1] = nn.Linear(in_features, n_classes)\n",
    "    else:\n",
    "        raise ValueError(\"undefined dataset\")    \n",
    "        \n",
    "    return model\n",
    "\n",
    "\n",
    "@torch.no_grad()\n",
    "def get_acc(model, dl):\n",
    "    acc = []\n",
    "    for x, y in dl:\n",
    "        x, y = x.to(DEVICE), y.to(DEVICE)\n",
    "        acc.append(torch.argmax(model(x), dim=1) == y)\n",
    "    acc = torch.cat(acc)\n",
    "    acc = torch.sum(acc) / len(acc)\n",
    "\n",
    "    return acc.item()\n",
    "\n",
    "\n",
    "def freeze_interdemidate_layers(model, model_name):\n",
    "    \"\"\"\n",
    "    Freeze specific layers of a model for efficient fine-tuning.\n",
    "    \n",
    "    Parameters:\n",
    "    - model (torch.nn.Module): The model to apply freezing to.\n",
    "    - model_name (str): The name of the model.\n",
    "    \"\"\"\n",
    "    #if model_name == \"vgg19\":\n",
    "    #    print(\"Freezing VGG-19 intermediate layers...\")\n",
    "    #    for param in model.features.parameters():\n",
    "    #        param.requires_grad = False\n",
    "    \n",
    "    if model_name == \"vit_large_patch16_224\":\n",
    "        print(\"Freezing ViT-Large intermediate layers...\")\n",
    "        for name, param in model.named_parameters():\n",
    "            if \"head\" not in name:\n",
    "                param.requires_grad = False\n",
    "    \n",
    "    #elif model_name == \"efficientnet_b7\":\n",
    "    #    print(\"Freezing EfficientNet-B7 intermediate layers...\")\n",
    "    #    for param in model.parameters():\n",
    "    #        param.requires_grad = False\n",
    "    #    for param in model.classifier[1].parameters():\n",
    "    #        param.requires_grad = True\n",
    "    \n",
    "    else:\n",
    "        print(f\"Do not freeze layers for model: {model_name}\")\n",
    "    \n",
    "    return model"
   ]
  },
  {
   "cell_type": "code",
   "execution_count": 16,
   "id": "9e33b724-ba05-48b7-a203-b2721212e88b",
   "metadata": {},
   "outputs": [
    {
     "name": "stdout",
     "output_type": "stream",
     "text": [
      "arch: efficientnet_b7, pretrained: False\n",
      "n_classes:  10\n",
      "Do not freeze layers for model: efficientnet_b7\n"
     ]
    }
   ],
   "source": [
    "m = network(model, pretrained_=False)\n",
    "m = m.to(DEVICE)\n",
    "# print(m)\n",
    "\n",
    "# For efficient fine-tune, freeze some intermediate layers within model\n",
    "m = freeze_interdemidate_layers(m, model)"
   ]
  },
  {
   "cell_type": "code",
   "execution_count": 17,
   "id": "5d4fa5fa-662a-47e6-8fb4-475ce475bdc9",
   "metadata": {},
   "outputs": [],
   "source": [
    "optim = torch.optim.SGD(m.parameters(), lr=lr, momentum=0.9, weight_decay=5e-4)\n",
    "sched = torch.optim.lr_scheduler.CosineAnnealingLR(optim, T_max=epochs)"
   ]
  },
  {
   "cell_type": "code",
   "execution_count": 18,
   "id": "b9237ff5-4f74-4de2-9cd3-cdfde723a770",
   "metadata": {},
   "outputs": [
    {
     "name": "stderr",
     "output_type": "stream",
     "text": [
      "100%|██████████| 196/196 [00:19<00:00, 10.01it/s, loss: 3.07]\n"
     ]
    },
    {
     "name": "stdout",
     "output_type": "stream",
     "text": [
      "[Epoch 0] Test Accuracy: 0.0975\n"
     ]
    },
    {
     "name": "stderr",
     "output_type": "stream",
     "text": [
      "100%|██████████| 196/196 [00:19<00:00, 10.16it/s, loss: 3.01]\n"
     ]
    },
    {
     "name": "stdout",
     "output_type": "stream",
     "text": [
      "[Epoch 1] Test Accuracy: 0.1080\n"
     ]
    },
    {
     "name": "stderr",
     "output_type": "stream",
     "text": [
      "100%|██████████| 196/196 [00:19<00:00, 10.10it/s, loss: 3.42]\n"
     ]
    },
    {
     "name": "stdout",
     "output_type": "stream",
     "text": [
      "[Epoch 2] Test Accuracy: 0.1013\n"
     ]
    },
    {
     "name": "stderr",
     "output_type": "stream",
     "text": [
      "100%|██████████| 196/196 [00:19<00:00, 10.02it/s, loss: 2.41]\n"
     ]
    },
    {
     "name": "stdout",
     "output_type": "stream",
     "text": [
      "[Epoch 3] Test Accuracy: 0.1029\n"
     ]
    },
    {
     "name": "stderr",
     "output_type": "stream",
     "text": [
      "100%|██████████| 196/196 [00:19<00:00, 10.13it/s, loss: 2.62]\n"
     ]
    },
    {
     "name": "stdout",
     "output_type": "stream",
     "text": [
      "[Epoch 4] Test Accuracy: 0.1009\n"
     ]
    },
    {
     "name": "stderr",
     "output_type": "stream",
     "text": [
      "100%|██████████| 196/196 [00:19<00:00, 10.09it/s, loss: 4.81]\n"
     ]
    },
    {
     "name": "stdout",
     "output_type": "stream",
     "text": [
      "[Epoch 5] Test Accuracy: 0.1024\n"
     ]
    },
    {
     "name": "stderr",
     "output_type": "stream",
     "text": [
      "100%|██████████| 196/196 [00:19<00:00,  9.91it/s, loss: 4.03]\n"
     ]
    },
    {
     "ename": "KeyboardInterrupt",
     "evalue": "",
     "output_type": "error",
     "traceback": [
      "\u001b[0;31m---------------------------------------------------------------------------\u001b[0m",
      "\u001b[0;31mKeyboardInterrupt\u001b[0m                         Traceback (most recent call last)",
      "Cell \u001b[0;32mIn[18], line 21\u001b[0m\n\u001b[1;32m     18\u001b[0m     optim\u001b[38;5;241m.\u001b[39mstep()\n\u001b[1;32m     19\u001b[0m sched\u001b[38;5;241m.\u001b[39mstep()\n\u001b[0;32m---> 21\u001b[0m test_acc \u001b[38;5;241m=\u001b[39m \u001b[43mget_acc\u001b[49m\u001b[43m(\u001b[49m\u001b[43mm\u001b[49m\u001b[43m,\u001b[49m\u001b[43m \u001b[49m\u001b[43mtest_dl\u001b[49m\u001b[43m)\u001b[49m\n\u001b[1;32m     22\u001b[0m \u001b[38;5;28mprint\u001b[39m(\u001b[38;5;124mf\u001b[39m\u001b[38;5;124m\"\u001b[39m\u001b[38;5;124m[Epoch \u001b[39m\u001b[38;5;132;01m{\u001b[39;00mepoch\u001b[38;5;132;01m}\u001b[39;00m\u001b[38;5;124m] Test Accuracy: \u001b[39m\u001b[38;5;132;01m{\u001b[39;00mtest_acc\u001b[38;5;132;01m:\u001b[39;00m\u001b[38;5;124m.4f\u001b[39m\u001b[38;5;132;01m}\u001b[39;00m\u001b[38;5;124m\"\u001b[39m)\n\u001b[1;32m     23\u001b[0m \u001b[38;5;66;03m# wandb.log({\"loss\": loss_total / len(train_dl)})\u001b[39;00m\n",
      "File \u001b[0;32m~/miniconda3/envs/mia/lib/python3.8/site-packages/torch/utils/_contextlib.py:116\u001b[0m, in \u001b[0;36mcontext_decorator.<locals>.decorate_context\u001b[0;34m(*args, **kwargs)\u001b[0m\n\u001b[1;32m    113\u001b[0m \u001b[38;5;129m@functools\u001b[39m\u001b[38;5;241m.\u001b[39mwraps(func)\n\u001b[1;32m    114\u001b[0m \u001b[38;5;28;01mdef\u001b[39;00m \u001b[38;5;21mdecorate_context\u001b[39m(\u001b[38;5;241m*\u001b[39margs, \u001b[38;5;241m*\u001b[39m\u001b[38;5;241m*\u001b[39mkwargs):\n\u001b[1;32m    115\u001b[0m     \u001b[38;5;28;01mwith\u001b[39;00m ctx_factory():\n\u001b[0;32m--> 116\u001b[0m         \u001b[38;5;28;01mreturn\u001b[39;00m \u001b[43mfunc\u001b[49m\u001b[43m(\u001b[49m\u001b[38;5;241;43m*\u001b[39;49m\u001b[43margs\u001b[49m\u001b[43m,\u001b[49m\u001b[43m \u001b[49m\u001b[38;5;241;43m*\u001b[39;49m\u001b[38;5;241;43m*\u001b[39;49m\u001b[43mkwargs\u001b[49m\u001b[43m)\u001b[49m\n",
      "Cell \u001b[0;32mIn[11], line 50\u001b[0m, in \u001b[0;36mget_acc\u001b[0;34m(model, dl)\u001b[0m\n\u001b[1;32m     47\u001b[0m \u001b[38;5;129m@torch\u001b[39m\u001b[38;5;241m.\u001b[39mno_grad()\n\u001b[1;32m     48\u001b[0m \u001b[38;5;28;01mdef\u001b[39;00m \u001b[38;5;21mget_acc\u001b[39m(model, dl):\n\u001b[1;32m     49\u001b[0m     acc \u001b[38;5;241m=\u001b[39m []\n\u001b[0;32m---> 50\u001b[0m     \u001b[38;5;28;01mfor\u001b[39;00m x, y \u001b[38;5;129;01min\u001b[39;00m dl:\n\u001b[1;32m     51\u001b[0m         x, y \u001b[38;5;241m=\u001b[39m x\u001b[38;5;241m.\u001b[39mto(DEVICE), y\u001b[38;5;241m.\u001b[39mto(DEVICE)\n\u001b[1;32m     52\u001b[0m         acc\u001b[38;5;241m.\u001b[39mappend(torch\u001b[38;5;241m.\u001b[39margmax(model(x), dim\u001b[38;5;241m=\u001b[39m\u001b[38;5;241m1\u001b[39m) \u001b[38;5;241m==\u001b[39m y)\n",
      "File \u001b[0;32m~/miniconda3/envs/mia/lib/python3.8/site-packages/torch/utils/data/dataloader.py:630\u001b[0m, in \u001b[0;36m_BaseDataLoaderIter.__next__\u001b[0;34m(self)\u001b[0m\n\u001b[1;32m    627\u001b[0m \u001b[38;5;28;01mif\u001b[39;00m \u001b[38;5;28mself\u001b[39m\u001b[38;5;241m.\u001b[39m_sampler_iter \u001b[38;5;129;01mis\u001b[39;00m \u001b[38;5;28;01mNone\u001b[39;00m:\n\u001b[1;32m    628\u001b[0m     \u001b[38;5;66;03m# TODO(https://github.com/pytorch/pytorch/issues/76750)\u001b[39;00m\n\u001b[1;32m    629\u001b[0m     \u001b[38;5;28mself\u001b[39m\u001b[38;5;241m.\u001b[39m_reset()  \u001b[38;5;66;03m# type: ignore[call-arg]\u001b[39;00m\n\u001b[0;32m--> 630\u001b[0m data \u001b[38;5;241m=\u001b[39m \u001b[38;5;28;43mself\u001b[39;49m\u001b[38;5;241;43m.\u001b[39;49m\u001b[43m_next_data\u001b[49m\u001b[43m(\u001b[49m\u001b[43m)\u001b[49m\n\u001b[1;32m    631\u001b[0m \u001b[38;5;28mself\u001b[39m\u001b[38;5;241m.\u001b[39m_num_yielded \u001b[38;5;241m+\u001b[39m\u001b[38;5;241m=\u001b[39m \u001b[38;5;241m1\u001b[39m\n\u001b[1;32m    632\u001b[0m \u001b[38;5;28;01mif\u001b[39;00m \u001b[38;5;28mself\u001b[39m\u001b[38;5;241m.\u001b[39m_dataset_kind \u001b[38;5;241m==\u001b[39m _DatasetKind\u001b[38;5;241m.\u001b[39mIterable \u001b[38;5;129;01mand\u001b[39;00m \\\n\u001b[1;32m    633\u001b[0m         \u001b[38;5;28mself\u001b[39m\u001b[38;5;241m.\u001b[39m_IterableDataset_len_called \u001b[38;5;129;01mis\u001b[39;00m \u001b[38;5;129;01mnot\u001b[39;00m \u001b[38;5;28;01mNone\u001b[39;00m \u001b[38;5;129;01mand\u001b[39;00m \\\n\u001b[1;32m    634\u001b[0m         \u001b[38;5;28mself\u001b[39m\u001b[38;5;241m.\u001b[39m_num_yielded \u001b[38;5;241m>\u001b[39m \u001b[38;5;28mself\u001b[39m\u001b[38;5;241m.\u001b[39m_IterableDataset_len_called:\n",
      "File \u001b[0;32m~/miniconda3/envs/mia/lib/python3.8/site-packages/torch/utils/data/dataloader.py:1327\u001b[0m, in \u001b[0;36m_MultiProcessingDataLoaderIter._next_data\u001b[0;34m(self)\u001b[0m\n\u001b[1;32m   1324\u001b[0m     \u001b[38;5;28;01mreturn\u001b[39;00m \u001b[38;5;28mself\u001b[39m\u001b[38;5;241m.\u001b[39m_process_data(data)\n\u001b[1;32m   1326\u001b[0m \u001b[38;5;28;01massert\u001b[39;00m \u001b[38;5;129;01mnot\u001b[39;00m \u001b[38;5;28mself\u001b[39m\u001b[38;5;241m.\u001b[39m_shutdown \u001b[38;5;129;01mand\u001b[39;00m \u001b[38;5;28mself\u001b[39m\u001b[38;5;241m.\u001b[39m_tasks_outstanding \u001b[38;5;241m>\u001b[39m \u001b[38;5;241m0\u001b[39m\n\u001b[0;32m-> 1327\u001b[0m idx, data \u001b[38;5;241m=\u001b[39m \u001b[38;5;28;43mself\u001b[39;49m\u001b[38;5;241;43m.\u001b[39;49m\u001b[43m_get_data\u001b[49m\u001b[43m(\u001b[49m\u001b[43m)\u001b[49m\n\u001b[1;32m   1328\u001b[0m \u001b[38;5;28mself\u001b[39m\u001b[38;5;241m.\u001b[39m_tasks_outstanding \u001b[38;5;241m-\u001b[39m\u001b[38;5;241m=\u001b[39m \u001b[38;5;241m1\u001b[39m\n\u001b[1;32m   1329\u001b[0m \u001b[38;5;28;01mif\u001b[39;00m \u001b[38;5;28mself\u001b[39m\u001b[38;5;241m.\u001b[39m_dataset_kind \u001b[38;5;241m==\u001b[39m _DatasetKind\u001b[38;5;241m.\u001b[39mIterable:\n\u001b[1;32m   1330\u001b[0m     \u001b[38;5;66;03m# Check for _IterableDatasetStopIteration\u001b[39;00m\n",
      "File \u001b[0;32m~/miniconda3/envs/mia/lib/python3.8/site-packages/torch/utils/data/dataloader.py:1293\u001b[0m, in \u001b[0;36m_MultiProcessingDataLoaderIter._get_data\u001b[0;34m(self)\u001b[0m\n\u001b[1;32m   1289\u001b[0m     \u001b[38;5;66;03m# In this case, `self._data_queue` is a `queue.Queue`,. But we don't\u001b[39;00m\n\u001b[1;32m   1290\u001b[0m     \u001b[38;5;66;03m# need to call `.task_done()` because we don't use `.join()`.\u001b[39;00m\n\u001b[1;32m   1291\u001b[0m \u001b[38;5;28;01melse\u001b[39;00m:\n\u001b[1;32m   1292\u001b[0m     \u001b[38;5;28;01mwhile\u001b[39;00m \u001b[38;5;28;01mTrue\u001b[39;00m:\n\u001b[0;32m-> 1293\u001b[0m         success, data \u001b[38;5;241m=\u001b[39m \u001b[38;5;28;43mself\u001b[39;49m\u001b[38;5;241;43m.\u001b[39;49m\u001b[43m_try_get_data\u001b[49m\u001b[43m(\u001b[49m\u001b[43m)\u001b[49m\n\u001b[1;32m   1294\u001b[0m         \u001b[38;5;28;01mif\u001b[39;00m success:\n\u001b[1;32m   1295\u001b[0m             \u001b[38;5;28;01mreturn\u001b[39;00m data\n",
      "File \u001b[0;32m~/miniconda3/envs/mia/lib/python3.8/site-packages/torch/utils/data/dataloader.py:1131\u001b[0m, in \u001b[0;36m_MultiProcessingDataLoaderIter._try_get_data\u001b[0;34m(self, timeout)\u001b[0m\n\u001b[1;32m   1118\u001b[0m \u001b[38;5;28;01mdef\u001b[39;00m \u001b[38;5;21m_try_get_data\u001b[39m(\u001b[38;5;28mself\u001b[39m, timeout\u001b[38;5;241m=\u001b[39m_utils\u001b[38;5;241m.\u001b[39mMP_STATUS_CHECK_INTERVAL):\n\u001b[1;32m   1119\u001b[0m     \u001b[38;5;66;03m# Tries to fetch data from `self._data_queue` once for a given timeout.\u001b[39;00m\n\u001b[1;32m   1120\u001b[0m     \u001b[38;5;66;03m# This can also be used as inner loop of fetching without timeout, with\u001b[39;00m\n\u001b[0;32m   (...)\u001b[0m\n\u001b[1;32m   1128\u001b[0m     \u001b[38;5;66;03m# Returns a 2-tuple:\u001b[39;00m\n\u001b[1;32m   1129\u001b[0m     \u001b[38;5;66;03m#   (bool: whether successfully get data, any: data if successful else None)\u001b[39;00m\n\u001b[1;32m   1130\u001b[0m     \u001b[38;5;28;01mtry\u001b[39;00m:\n\u001b[0;32m-> 1131\u001b[0m         data \u001b[38;5;241m=\u001b[39m \u001b[38;5;28;43mself\u001b[39;49m\u001b[38;5;241;43m.\u001b[39;49m\u001b[43m_data_queue\u001b[49m\u001b[38;5;241;43m.\u001b[39;49m\u001b[43mget\u001b[49m\u001b[43m(\u001b[49m\u001b[43mtimeout\u001b[49m\u001b[38;5;241;43m=\u001b[39;49m\u001b[43mtimeout\u001b[49m\u001b[43m)\u001b[49m\n\u001b[1;32m   1132\u001b[0m         \u001b[38;5;28;01mreturn\u001b[39;00m (\u001b[38;5;28;01mTrue\u001b[39;00m, data)\n\u001b[1;32m   1133\u001b[0m     \u001b[38;5;28;01mexcept\u001b[39;00m \u001b[38;5;167;01mException\u001b[39;00m \u001b[38;5;28;01mas\u001b[39;00m e:\n\u001b[1;32m   1134\u001b[0m         \u001b[38;5;66;03m# At timeout and error, we manually check whether any worker has\u001b[39;00m\n\u001b[1;32m   1135\u001b[0m         \u001b[38;5;66;03m# failed. Note that this is the only mechanism for Windows to detect\u001b[39;00m\n\u001b[1;32m   1136\u001b[0m         \u001b[38;5;66;03m# worker failures.\u001b[39;00m\n",
      "File \u001b[0;32m~/miniconda3/envs/mia/lib/python3.8/multiprocessing/queues.py:116\u001b[0m, in \u001b[0;36mQueue.get\u001b[0;34m(self, block, timeout)\u001b[0m\n\u001b[1;32m    114\u001b[0m         \u001b[38;5;28mself\u001b[39m\u001b[38;5;241m.\u001b[39m_rlock\u001b[38;5;241m.\u001b[39mrelease()\n\u001b[1;32m    115\u001b[0m \u001b[38;5;66;03m# unserialize the data after having released the lock\u001b[39;00m\n\u001b[0;32m--> 116\u001b[0m \u001b[38;5;28;01mreturn\u001b[39;00m \u001b[43m_ForkingPickler\u001b[49m\u001b[38;5;241;43m.\u001b[39;49m\u001b[43mloads\u001b[49m\u001b[43m(\u001b[49m\u001b[43mres\u001b[49m\u001b[43m)\u001b[49m\n",
      "File \u001b[0;32m~/miniconda3/envs/mia/lib/python3.8/site-packages/torch/multiprocessing/reductions.py:496\u001b[0m, in \u001b[0;36mrebuild_storage_fd\u001b[0;34m(cls, df, size)\u001b[0m\n\u001b[1;32m    495\u001b[0m \u001b[38;5;28;01mdef\u001b[39;00m \u001b[38;5;21mrebuild_storage_fd\u001b[39m(\u001b[38;5;28mcls\u001b[39m, df, size):\n\u001b[0;32m--> 496\u001b[0m     fd \u001b[38;5;241m=\u001b[39m \u001b[43mdf\u001b[49m\u001b[38;5;241;43m.\u001b[39;49m\u001b[43mdetach\u001b[49m\u001b[43m(\u001b[49m\u001b[43m)\u001b[49m\n\u001b[1;32m    497\u001b[0m     \u001b[38;5;28;01mtry\u001b[39;00m:\n\u001b[1;32m    498\u001b[0m         storage \u001b[38;5;241m=\u001b[39m storage_from_cache(\u001b[38;5;28mcls\u001b[39m, fd_id(fd))\n",
      "File \u001b[0;32m~/miniconda3/envs/mia/lib/python3.8/multiprocessing/resource_sharer.py:58\u001b[0m, in \u001b[0;36mDupFd.detach\u001b[0;34m(self)\u001b[0m\n\u001b[1;32m     56\u001b[0m \u001b[38;5;250m\u001b[39m\u001b[38;5;124;03m'''Get the fd.  This should only be called once.'''\u001b[39;00m\n\u001b[1;32m     57\u001b[0m \u001b[38;5;28;01mwith\u001b[39;00m _resource_sharer\u001b[38;5;241m.\u001b[39mget_connection(\u001b[38;5;28mself\u001b[39m\u001b[38;5;241m.\u001b[39m_id) \u001b[38;5;28;01mas\u001b[39;00m conn:\n\u001b[0;32m---> 58\u001b[0m     \u001b[38;5;28;01mreturn\u001b[39;00m \u001b[43mreduction\u001b[49m\u001b[38;5;241;43m.\u001b[39;49m\u001b[43mrecv_handle\u001b[49m\u001b[43m(\u001b[49m\u001b[43mconn\u001b[49m\u001b[43m)\u001b[49m\n",
      "File \u001b[0;32m~/miniconda3/envs/mia/lib/python3.8/multiprocessing/reduction.py:189\u001b[0m, in \u001b[0;36mrecv_handle\u001b[0;34m(conn)\u001b[0m\n\u001b[1;32m    187\u001b[0m \u001b[38;5;250m\u001b[39m\u001b[38;5;124;03m'''Receive a handle over a local connection.'''\u001b[39;00m\n\u001b[1;32m    188\u001b[0m \u001b[38;5;28;01mwith\u001b[39;00m socket\u001b[38;5;241m.\u001b[39mfromfd(conn\u001b[38;5;241m.\u001b[39mfileno(), socket\u001b[38;5;241m.\u001b[39mAF_UNIX, socket\u001b[38;5;241m.\u001b[39mSOCK_STREAM) \u001b[38;5;28;01mas\u001b[39;00m s:\n\u001b[0;32m--> 189\u001b[0m     \u001b[38;5;28;01mreturn\u001b[39;00m \u001b[43mrecvfds\u001b[49m\u001b[43m(\u001b[49m\u001b[43ms\u001b[49m\u001b[43m,\u001b[49m\u001b[43m \u001b[49m\u001b[38;5;241;43m1\u001b[39;49m\u001b[43m)\u001b[49m[\u001b[38;5;241m0\u001b[39m]\n",
      "File \u001b[0;32m~/miniconda3/envs/mia/lib/python3.8/multiprocessing/reduction.py:157\u001b[0m, in \u001b[0;36mrecvfds\u001b[0;34m(sock, size)\u001b[0m\n\u001b[1;32m    155\u001b[0m a \u001b[38;5;241m=\u001b[39m array\u001b[38;5;241m.\u001b[39marray(\u001b[38;5;124m'\u001b[39m\u001b[38;5;124mi\u001b[39m\u001b[38;5;124m'\u001b[39m)\n\u001b[1;32m    156\u001b[0m bytes_size \u001b[38;5;241m=\u001b[39m a\u001b[38;5;241m.\u001b[39mitemsize \u001b[38;5;241m*\u001b[39m size\n\u001b[0;32m--> 157\u001b[0m msg, ancdata, flags, addr \u001b[38;5;241m=\u001b[39m \u001b[43msock\u001b[49m\u001b[38;5;241;43m.\u001b[39;49m\u001b[43mrecvmsg\u001b[49m\u001b[43m(\u001b[49m\u001b[38;5;241;43m1\u001b[39;49m\u001b[43m,\u001b[49m\u001b[43m \u001b[49m\u001b[43msocket\u001b[49m\u001b[38;5;241;43m.\u001b[39;49m\u001b[43mCMSG_SPACE\u001b[49m\u001b[43m(\u001b[49m\u001b[43mbytes_size\u001b[49m\u001b[43m)\u001b[49m\u001b[43m)\u001b[49m\n\u001b[1;32m    158\u001b[0m \u001b[38;5;28;01mif\u001b[39;00m \u001b[38;5;129;01mnot\u001b[39;00m msg \u001b[38;5;129;01mand\u001b[39;00m \u001b[38;5;129;01mnot\u001b[39;00m ancdata:\n\u001b[1;32m    159\u001b[0m     \u001b[38;5;28;01mraise\u001b[39;00m \u001b[38;5;167;01mEOFError\u001b[39;00m\n",
      "\u001b[0;31mKeyboardInterrupt\u001b[0m: "
     ]
    }
   ],
   "source": [
    "# wandb.init(project=\"lira\", mode=\"disabled\" if debug else \"online\")\n",
    "# wandb.config.update(args)\n",
    "\n",
    "for epoch in range(epochs):\n",
    "    m.train()\n",
    "    loss_total = 0\n",
    "    pbar = tqdm(train_dl)\n",
    "    for itr, (x, y) in enumerate(pbar):\n",
    "        x, y = x.to(DEVICE), y.to(DEVICE)\n",
    "\n",
    "        outputs = m(x)\n",
    "        loss = F.cross_entropy(outputs, y)\n",
    "        loss_total += loss\n",
    "        \n",
    "        pbar.set_postfix_str(f\"loss: {loss:.2f}\")\n",
    "        optim.zero_grad()\n",
    "        loss.backward()\n",
    "        optim.step()\n",
    "    sched.step()\n",
    "\n",
    "    test_acc = get_acc(m, test_dl)\n",
    "    print(f\"[Epoch {epoch}] Test Accuracy: {test_acc:.4f}\")\n",
    "    # wandb.log({\"loss\": loss_total / len(train_dl)})\n",
    "\n",
    "print(f\"[test] acc_test: {get_acc(m, test_dl):.4f}\")\n",
    "# wandb.log({\"acc_test\": get_acc(m, test_dl)})\n",
    "\n",
    "savedir_victim = os.path.join(savedir, \"victim\")\n",
    "os.makedirs(savedir_victim, exist_ok=True)\n",
    "np.save(savedir_victim + \"/keep.npy\", keep_bool)\n",
    "torch.save(m.state_dict(), savedir_victim + \"/model.pt\")\n",
    "print('save done')"
   ]
  },
  {
   "cell_type": "markdown",
   "id": "d462c477-11c7-4e09-8ed9-a9c7fbc783fb",
   "metadata": {},
   "source": [
    "# Inference"
   ]
  },
  {
   "cell_type": "code",
   "execution_count": 28,
   "id": "b04e65c7-d57a-47db-abf7-7546f70da97a",
   "metadata": {},
   "outputs": [],
   "source": [
    "# inference from victim model\n",
    "# run below script at ~/lira-pytorch_\n",
    "\n",
    "# CUDA_VISIBLE_DEVICES=0 python3 -u inference.py     --model vit_large_patch16_224 --dataset cifar10     --mode eval --savedir=exp/vit_large_patch16_224_cifar10/victim"
   ]
  },
  {
   "cell_type": "code",
   "execution_count": 27,
   "id": "a95fc144-d21c-4543-9a5d-5971cb0d9a81",
   "metadata": {},
   "outputs": [],
   "source": [
    "# inference from shadow models\n",
    "# run below script at ~/lira-pytorch_\n",
    "\n",
    "# bash scripts/run_infer-vgg19_n_shadows_64.sh > run_infer-vgg19_n_shadows_64.log 2>&1 &"
   ]
  },
  {
   "cell_type": "markdown",
   "id": "2c60b726-0d82-4622-940a-d35de17bb249",
   "metadata": {},
   "source": [
    "# Computer score (logit scaling; Ø(p) = log(p/(1-p)) )"
   ]
  },
  {
   "cell_type": "code",
   "execution_count": 47,
   "id": "0d968524-5c3d-4b80-b3fc-39e26ebdd557",
   "metadata": {},
   "outputs": [],
   "source": [
    "# run below script at ~/lira-pytorch_\n",
    "# compute scores for both victim model and shadow models\n",
    "\n",
    "# python score.py --dataset cifar10 --savedir exp/vit_large_patch16_224_cifar10 --mode eval"
   ]
  },
  {
   "cell_type": "markdown",
   "id": "f60b479f-f747-45d6-bada-daa55e04a56b",
   "metadata": {},
   "source": [
    "# Evaluate: \n",
    "## 1. generate distributions (Q_in, Q_out), \n",
    "## 2. then perform online/offline attack by estimating likeliehood ratio (Λ)"
   ]
  },
  {
   "cell_type": "code",
   "execution_count": 16,
   "id": "ee198159-b3b6-421a-8a1d-972128c608c4",
   "metadata": {},
   "outputs": [
    {
     "name": "stdout",
     "output_type": "stream",
     "text": [
      "import cifar100...\n",
      "Files already downloaded and verified\n",
      "Files already downloaded and verified\n"
     ]
    }
   ],
   "source": [
    "if dataset == \"cifar10\":\n",
    "    print(\"import cifar10...\")\n",
    "    _train_ds = CIFAR10(root=datadir, train=True, download=True, transform=train_transform)\n",
    "    test_ds = CIFAR10(root=datadir, train=False, download=True, transform=test_transform)\n",
    "elif dataset == \"cifar100\":\n",
    "    print(\"import cifar100...\")\n",
    "    _train_ds = CIFAR100(root=datadir, train=True, download=True, transform=train_transform)\n",
    "    test_ds = CIFAR100(root=datadir, train=False, download=True, transform=test_transform)\n",
    "else:\n",
    "    raise ValueError(\"undefined dataset\")\n",
    "\n",
    "torch.manual_seed(seed)\n",
    "_, eval_ds = random_split(_train_ds, [0.8, 0.2])"
   ]
  },
  {
   "cell_type": "code",
   "execution_count": 17,
   "id": "d470a998-b976-4f69-8ec0-19b30196d0a4",
   "metadata": {},
   "outputs": [
    {
     "name": "stdout",
     "output_type": "stream",
     "text": [
      "train_ds:  25000\n",
      "eval_ds:  10000\n"
     ]
    }
   ],
   "source": [
    "print(\"train_ds: \", len(train_ds)) # for training victim model T among T + S \n",
    "print(\"eval_ds: \", len(eval_ds))\n",
    "\n",
    "### desirable output: \n",
    "\n",
    "# train_ds:  25000 (50%(or pkeep) of training dataset for victim model)\n",
    "# eval_ds:  10000"
   ]
  },
  {
   "cell_type": "code",
   "execution_count": 18,
   "id": "6cd7d5ab-fde5-47d6-b613-8cd9d0674c13",
   "metadata": {},
   "outputs": [
    {
     "name": "stdout",
     "output_type": "stream",
     "text": [
      "eval_in_train:  5118\n",
      "v_scores:  (1, 10000, 2)\n",
      "v_keep:  (1, 10000)\n"
     ]
    }
   ],
   "source": [
    "# load scores from victim model\n",
    "train_indices = set(train_ds.indices) # = T \n",
    "eval_in_train = [True if idx in train_indices else False for idx in eval_ds.indices] # T2\n",
    "print(\"eval_in_train: \", sum(eval_in_train))\n",
    "\n",
    "v_scores = np.load(os.path.join(savedir, \"victim\", \"scores.npy\"))\n",
    "v_keep = np.array(eval_in_train) # eval_ds ^ train_ds; \n",
    "\n",
    "v_scores_r = v_scores.reshape(1, *v_scores.shape)\n",
    "v_keep_r = v_keep.reshape(1, v_scores.shape[0])\n",
    "v_scores = v_scores_r\n",
    "v_keep = v_keep_r\n",
    "\n",
    "print(\"v_scores: \", v_scores.shape)\n",
    "print(\"v_keep: \", v_keep.shape)"
   ]
  },
  {
   "cell_type": "code",
   "execution_count": 19,
   "id": "1e4f7de7-c731-4903-91d9-c53a1b7f888f",
   "metadata": {},
   "outputs": [
    {
     "data": {
      "text/plain": [
       "array([[[-1.05158626, -0.2246939 ],\n",
       "        [ 0.44410044,  3.95609476],\n",
       "        [ 6.45925391,  6.09259564],\n",
       "        ...,\n",
       "        [ 3.0075446 ,  1.96507176],\n",
       "        [ 6.59489829,  6.6454022 ],\n",
       "        [-1.04228096, -0.95778206]]])"
      ]
     },
     "execution_count": 19,
     "metadata": {},
     "output_type": "execute_result"
    }
   ],
   "source": [
    "v_scores"
   ]
  },
  {
   "cell_type": "code",
   "execution_count": 20,
   "id": "ac0b8667-96d6-4171-9f69-d67bf7935afb",
   "metadata": {},
   "outputs": [
    {
     "data": {
      "text/plain": [
       "array([[False,  True,  True, ...,  True,  True, False]])"
      ]
     },
     "execution_count": 20,
     "metadata": {},
     "output_type": "execute_result"
    }
   ],
   "source": [
    "v_keep"
   ]
  },
  {
   "cell_type": "code",
   "execution_count": 21,
   "id": "190c7de4-f67b-48ef-ac3d-b5027989c7cd",
   "metadata": {},
   "outputs": [],
   "source": [
    "# load scores from shadow models\n",
    "def load_data():\n",
    "    \"\"\"\n",
    "    Load our saved scores and then put them into a big matrix.\n",
    "    \"\"\"\n",
    "    global scores, keep\n",
    "    scores = []\n",
    "    keep = []\n",
    "\n",
    "    paths = []\n",
    "\n",
    "    for path in os.listdir(savedir):\n",
    "        if path == \"victim\":\n",
    "            continue\n",
    "        paths.append(path)\n",
    "        \n",
    "        s_ = np.load(os.path.join(savedir, path, \"scores.npy\"))\n",
    "        # k_ = np.load(os.path.join(savedir, path, \"keep.npy\"))\n",
    "        k_ = np.zeros((10000,), dtype=bool)\n",
    "\n",
    "        scores.append(s_)\n",
    "        keep.append(k_)\n",
    "        # print(\"s_: \", s_.shape)\n",
    "        # print(\"k_: \", k_.shape)\n",
    "\n",
    "    print(\"paths: \", paths)\n",
    "    \n",
    "    scores = np.array(scores)\n",
    "    keep = np.array(keep)\n",
    "\n",
    "    return scores, keep"
   ]
  },
  {
   "cell_type": "code",
   "execution_count": 22,
   "id": "35c06d46-4661-4d39-aa3c-57498bdc1b79",
   "metadata": {},
   "outputs": [
    {
     "name": "stdout",
     "output_type": "stream",
     "text": [
      "paths:  ['42', '35', '48', '1', '14', '63', '51', '26', '21', '56', '19', '6', '13', '32', '45', '38', '36', '41', '60', '17', '8', '2', '25', '52', '58', '55', '22', '28', '10', '5', '46', '31', '39', '44', '33', '57', '20', '12', '7', '18', '62', '15', '0', '27', '50', '49', '34', '43', '30', '47', '29', '23', '54', '4', '11', '3', '9', '16', '61', '59', '53', '24', '40', '37']\n",
      "scores:  (64, 10000, 2)\n",
      "keep:  (64, 10000)\n"
     ]
    }
   ],
   "source": [
    "scores, keep = load_data()\n",
    "\n",
    "print(\"scores: \", scores.shape)\n",
    "# print(scores)\n",
    "print(\"keep: \", keep.shape) # False for all;\n",
    "# print(keep)"
   ]
  },
  {
   "cell_type": "code",
   "execution_count": 23,
   "id": "316be4c6-7663-4fba-ac26-9b7749a82973",
   "metadata": {},
   "outputs": [
    {
     "data": {
      "text/plain": [
       "False"
      ]
     },
     "execution_count": 23,
     "metadata": {},
     "output_type": "execute_result"
    }
   ],
   "source": [
    "np.isnan(scores).any()"
   ]
  },
  {
   "cell_type": "code",
   "execution_count": 24,
   "id": "3ac2070f-41a5-4bc8-a73d-d43587758097",
   "metadata": {},
   "outputs": [],
   "source": [
    "def sweep(score, x):\n",
    "    \"\"\"\n",
    "    Compute a ROC curve and then return the FPR, TPR, AUC, and ACC.\n",
    "    \"\"\"\n",
    "    fpr, tpr, _ = roc_curve(x, -score)\n",
    "    acc = np.max(1 - (fpr + (1 - tpr)) / 2)\n",
    "    return fpr, tpr, auc(fpr, tpr), acc\n",
    "\n",
    "\n",
    "def do_plot(fn, keep, scores, check_keep, check_scores, ntest, legend=\"\", metric=\"auc\", sweep_fn=sweep, **plot_kwargs):\n",
    "    \"\"\"\n",
    "    Generate the ROC curves by using ntest models as test models and the rest to train.\n",
    "    \"\"\"\n",
    "\n",
    "    prediction, answers = fn(keep, scores, check_keep, check_scores)\n",
    "\n",
    "    fpr, tpr, auc, acc = sweep_fn(np.array(prediction), np.array(answers, dtype=bool))\n",
    "\n",
    "    low = tpr[np.where(fpr < 0.001)[0][-1]]\n",
    "\n",
    "    print(\"Attack %s   AUC %.4f, Accuracy %.4f, TPR@0.1%%FPR of %.4f\" % (legend, auc, acc, low))\n",
    "\n",
    "    metric_text = \"\"\n",
    "    if metric == \"auc\":\n",
    "        metric_text = \"auc=%.3f\" % auc\n",
    "    elif metric == \"acc\":\n",
    "        metric_text = \"acc=%.3f\" % acc\n",
    "\n",
    "    plt.plot(fpr, tpr, label=legend + metric_text, **plot_kwargs)\n",
    "    return (acc, auc)"
   ]
  },
  {
   "cell_type": "code",
   "execution_count": 25,
   "id": "e2bc2623-02ef-4a98-87b2-9ae958521ea0",
   "metadata": {},
   "outputs": [],
   "source": [
    "def generate_ours(keep, scores, check_keep, check_scores, in_size=100000, out_size=100000, fix_variance=False):\n",
    "    \"\"\"\n",
    "    Fit a two predictive models using keep and scores in order to predict\n",
    "    if the examples in check_scores were training data or not, using the\n",
    "    ground truth answer from check_keep.\n",
    "    \"\"\"\n",
    "    dat_in = []\n",
    "    dat_out = []\n",
    "\n",
    "    # iterate data points (x, y).\n",
    "    for j in range(scores.shape[1]):\n",
    "        dat_in.append(scores[keep[:, j], j, :])\n",
    "        dat_out.append(scores[~keep[:, j], j, :])\n",
    "\n",
    "    in_size = min(min(map(len, dat_in)), in_size)\n",
    "    out_size = min(min(map(len, dat_out)), out_size)\n",
    "\n",
    "    dat_in = np.array([x[:in_size] for x in dat_in])\n",
    "    dat_out = np.array([x[:out_size] for x in dat_out])\n",
    "\n",
    "    mean_in = np.median(dat_in, 1)\n",
    "    mean_out = np.median(dat_out, 1)\n",
    "\n",
    "    if fix_variance:\n",
    "        std_in = np.std(dat_in)\n",
    "        std_out = np.std(dat_in)\n",
    "    else:\n",
    "        std_in = np.std(dat_in, 1)\n",
    "        std_out = np.std(dat_out, 1)\n",
    "\n",
    "    prediction = []\n",
    "    answers = []\n",
    "    for ans, sc in zip(check_keep, check_scores):\n",
    "        print(ans)\n",
    "        print(sc)\n",
    "        \n",
    "        pr_in = -scipy.stats.norm.logpdf(sc, mean_in, std_in + 1e-30)\n",
    "        pr_out = -scipy.stats.norm.logpdf(sc, mean_out, std_out + 1e-30)\n",
    "        score = pr_in - pr_out\n",
    "\n",
    "        prediction.extend(score.mean(1))\n",
    "        answers.extend(ans) ### \n",
    "\n",
    "    return prediction, answers\n",
    "\n",
    "\n",
    "def generate_ours_offline(keep, scores, check_keep, check_scores, in_size=100000, out_size=100000, fix_variance=False):\n",
    "    \"\"\"\n",
    "    Fit a single predictive model using keep and scores in order to predict\n",
    "    if the examples in check_scores were training data or not, using the\n",
    "    ground truth answer from check_keep.\n",
    "    \"\"\"\n",
    "    dat_in = []\n",
    "    dat_out = []\n",
    "\n",
    "    for j in range(scores.shape[1]):\n",
    "        dat_in.append(scores[keep[:, j], j, :])\n",
    "        dat_out.append(scores[~keep[:, j], j, :])\n",
    "\n",
    "    out_size = min(min(map(len, dat_out)), out_size)\n",
    "\n",
    "    dat_out = np.array([x[:out_size] for x in dat_out])\n",
    "\n",
    "    mean_out = np.median(dat_out, 1)\n",
    "\n",
    "    if fix_variance:\n",
    "        std_out = np.std(dat_out)\n",
    "    else:\n",
    "        std_out = np.std(dat_out, 1)\n",
    "\n",
    "    prediction = []\n",
    "    answers = []\n",
    "    for ans, sc in zip(check_keep, check_scores):\n",
    "        score = scipy.stats.norm.logpdf(sc, mean_out, std_out + 1e-30)\n",
    "\n",
    "        prediction.extend(score.mean(1))\n",
    "        answers.extend(ans)\n",
    "    return prediction, answers\n",
    "\n",
    "\n",
    "def generate_global(keep, scores, check_keep, check_scores):\n",
    "    \"\"\"\n",
    "    Use a simple global threshold sweep to predict if the examples in\n",
    "    check_scores were training data or not, using the ground truth answer from\n",
    "    check_keep.\n",
    "    \"\"\"\n",
    "    prediction = []\n",
    "    answers = []\n",
    "    for ans, sc in zip(check_keep, check_scores):\n",
    "        prediction.extend(-sc.mean(1))\n",
    "        answers.extend(ans)\n",
    "\n",
    "    return prediction, answers"
   ]
  },
  {
   "cell_type": "code",
   "execution_count": 26,
   "id": "b1ec5da5-bae5-4fa3-8fa0-1aaf687d1e84",
   "metadata": {},
   "outputs": [
    {
     "name": "stdout",
     "output_type": "stream",
     "text": [
      "Attack Ours (offline)\n",
      "   AUC 0.7899, Accuracy 0.7177, TPR@0.1%FPR of 0.0897\n",
      "Attack Ours (offline, fixed variance)\n",
      "   AUC 0.7773, Accuracy 0.7147, TPR@0.1%FPR of 0.0367\n",
      "Attack Global threshold\n",
      "   AUC 0.7126, Accuracy 0.6971, TPR@0.1%FPR of 0.0008\n"
     ]
    },
    {
     "data": {
      "image/png": "[encoded data removed]",
      "text/plain": [
       "<Figure size 400x300 with 1 Axes>"
      ]
     },
     "metadata": {},
     "output_type": "display_data"
    }
   ],
   "source": [
    "# def fig_fpr_tpr():\n",
    "\n",
    "plt.figure(figsize=(4, 3))\n",
    "\n",
    "# do_plot(generate_ours, keep, scores, v_keep, v_scores, 1, \"Ours (online)\\n\", metric=\"auc\")\n",
    "\n",
    "# do_plot(functools.partial(generate_ours, fix_variance=True), keep, scores, v_keep, v_scores, 1, \"Ours (online, fixed variance)\\n\", metric=\"auc\")\n",
    "\n",
    "do_plot(functools.partial(generate_ours_offline), keep, scores, v_keep, v_scores, 1, \"Ours (offline)\\n\", metric=\"auc\")\n",
    "\n",
    "do_plot(functools.partial(generate_ours_offline, fix_variance=True), keep, scores, v_keep, v_scores, 1, \"Ours (offline, fixed variance)\\n\", metric=\"auc\")\n",
    "\n",
    "do_plot(generate_global, keep, scores, v_keep, v_scores, 1, \"Global threshold\\n\", metric=\"auc\")\n",
    "\n",
    "plt.semilogx()\n",
    "plt.semilogy()\n",
    "plt.xlim(1e-5, 1)\n",
    "plt.ylim(1e-5, 1)\n",
    "plt.xlabel(\"False Positive Rate\")\n",
    "plt.ylabel(\"True Positive Rate\")\n",
    "plt.plot([0, 1], [0, 1], ls=\"--\", color=\"gray\")\n",
    "plt.subplots_adjust(bottom=0.18, left=0.18, top=0.96, right=0.96)\n",
    "plt.legend(fontsize=8)\n",
    "\n",
    "current_time = datetime.datetime.now().strftime(\"%Y%m%d-%H%M%S\")\n",
    "filename = f\"fprtpr_{model}_{current_time}.png\"\n",
    "\n",
    "plt.savefig(\"figures/\" + filename)\n",
    "plt.show()"
   ]
  },
  {
   "cell_type": "code",
   "execution_count": null,
   "id": "8700d914-e93a-486d-930e-37dd9b236cd9",
   "metadata": {},
   "outputs": [],
   "source": []
  },
  {
   "cell_type": "code",
   "execution_count": null,
   "id": "d351c8a8-0e1e-4336-87f3-458ab1e14c09",
   "metadata": {},
   "outputs": [],
   "source": []
  }
 ],
 "metadata": {
  "kernelspec": {
   "display_name": "Python 3 (ipykernel)",
   "language": "python",
   "name": "python3"
  },
  "language_info": {
   "codemirror_mode": {
    "name": "ipython",
    "version": 3
   },
   "file_extension": ".py",
   "mimetype": "text/x-python",
   "name": "python",
   "nbconvert_exporter": "python",
   "pygments_lexer": "ipython3",
   "version": "3.8.6"
  }
 },
 "nbformat": 4,
 "nbformat_minor": 5
}
