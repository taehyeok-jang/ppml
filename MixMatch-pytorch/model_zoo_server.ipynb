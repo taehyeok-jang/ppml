{
 "cells": [
  {
   "cell_type": "code",
   "execution_count": 1,
   "id": "8b62ed4b-4c3f-45ce-b262-256ec955f97a",
   "metadata": {},
   "outputs": [],
   "source": [
    "import numpy as np \n",
    "import torch\n",
    "import random\n",
    "import os\n",
    "\n",
    "# customized \n",
    "import models.arch as models\n",
    "from utils.model_zoo_server import ModelZooServer"
   ]
  },
  {
   "cell_type": "code",
   "execution_count": 2,
   "id": "48ad17fb-e0a6-4fef-8014-1d1c34b5f56d",
   "metadata": {},
   "outputs": [],
   "source": [
    "model_names = [\n",
    "    'vgg19',\n",
    "    'vit_large_patch16_224',\n",
    "    'efficientnet_b7', \n",
    "]\n",
    "\n",
    "def model_zoo(model_names): \n",
    "    m_zoo = {}\n",
    "    for model_name in model_names:\n",
    "        model = models.network(model_name, pretrained=False, n_classes=10)\n",
    "        \n",
    "        ckpt_dir = 'experiments/mzoo/%s/model_best.pth.tar' % model_name\n",
    "        if not os.path.exists(ckpt_dir):\n",
    "            raise FileNotFoundError(f\"Checkpoint not found at {ckpt_dir}\")\n",
    "        \n",
    "        print(f'Loading checkpoint from {ckpt_dir}...')\n",
    "        checkpoint = torch.load(ckpt_dir)\n",
    "        \n",
    "        model.load_state_dict(checkpoint['state_dict'])\n",
    "        model.eval()\n",
    "        model = model.cuda()\n",
    "\n",
    "        m_zoo[model_name] = model\n",
    "        \"\"\"\n",
    "        m_zoo[model_name] = model_name\n",
    "        \"\"\"\n",
    "\n",
    "    return m_zoo"
   ]
  },
  {
   "cell_type": "code",
   "execution_count": 3,
   "id": "e86a7b7d-a037-42d3-90e9-280e21c7aff6",
   "metadata": {},
   "outputs": [
    {
     "name": "stdout",
     "output_type": "stream",
     "text": [
      "arch: vgg19, pretrained: False, n_classes: 10\n"
     ]
    },
    {
     "name": "stderr",
     "output_type": "stream",
     "text": [
      "/home/dsanyal7/miniconda3/envs/mia/lib/python3.8/site-packages/torchvision/models/_utils.py:208: UserWarning: The parameter 'pretrained' is deprecated since 0.13 and may be removed in the future, please use 'weights' instead.\n",
      "  warnings.warn(\n",
      "/home/dsanyal7/miniconda3/envs/mia/lib/python3.8/site-packages/torchvision/models/_utils.py:223: UserWarning: Arguments other than a weight enum or `None` for 'weights' are deprecated since 0.13 and may be removed in the future. The current behavior is equivalent to passing `weights=None`.\n",
      "  warnings.warn(msg)\n"
     ]
    },
    {
     "name": "stdout",
     "output_type": "stream",
     "text": [
      "Do not freeze layers for model: vgg19\n",
      "Loading checkpoint from experiments/mzoo/vgg19/model_best.pth.tar...\n"
     ]
    },
    {
     "name": "stderr",
     "output_type": "stream",
     "text": [
      "/tmp/ipykernel_4137175/559065310.py:18: FutureWarning: You are using `torch.load` with `weights_only=False` (the current default value), which uses the default pickle module implicitly. It is possible to construct malicious pickle data which will execute arbitrary code during unpickling (See https://github.com/pytorch/pytorch/blob/main/SECURITY.md#untrusted-models for more details). In a future release, the default value for `weights_only` will be flipped to `True`. This limits the functions that could be executed during unpickling. Arbitrary objects will no longer be allowed to be loaded via this mode unless they are explicitly allowlisted by the user via `torch.serialization.add_safe_globals`. We recommend you start setting `weights_only=True` for any use case where you don't have full control of the loaded file. Please open an issue on GitHub for any issues related to this experimental feature.\n",
      "  checkpoint = torch.load(ckpt_dir)\n"
     ]
    },
    {
     "name": "stdout",
     "output_type": "stream",
     "text": [
      "arch: vit_large_patch16_224, pretrained: False, n_classes: 10\n",
      "Freezing ViT-Large intermediate layers...\n",
      "Loading checkpoint from experiments/mzoo/vit_large_patch16_224/model_best.pth.tar...\n",
      "arch: efficientnet_b7, pretrained: False, n_classes: 10\n",
      "Do not freeze layers for model: efficientnet_b7\n",
      "Loading checkpoint from experiments/mzoo/efficientnet_b7/model_best.pth.tar...\n"
     ]
    }
   ],
   "source": [
    "mzoo = model_zoo(model_names)"
   ]
  },
  {
   "cell_type": "code",
   "execution_count": 4,
   "id": "61ba30c5-069b-45a7-a74c-8fb280c0b65c",
   "metadata": {},
   "outputs": [],
   "source": [
    "psml_pareto_front = np.array([\n",
    "    (72.18, 18.5 ),\n",
    "    (84.62, 90.18),\n",
    "    (74.1, 212.47),\n",
    "])"
   ]
  },
  {
   "cell_type": "code",
   "execution_count": 26,
   "id": "06ed4d12-44fc-41ff-a0b6-770e37e3ba27",
   "metadata": {},
   "outputs": [],
   "source": [
    "eps = 100\n",
    "sensitivity = 1"
   ]
  },
  {
   "cell_type": "code",
   "execution_count": 27,
   "id": "e1f28e51-7c67-4216-bafb-2cc564f892cc",
   "metadata": {},
   "outputs": [],
   "source": []
  },
  {
   "cell_type": "code",
   "execution_count": 28,
   "id": "6ac942a2-8cf6-492d-ba47-4385af50a281",
   "metadata": {},
   "outputs": [
    {
     "data": {
      "text/plain": [
       "<utils.model_zoo_server.ModelZooServer at 0x7fe06be776a0>"
      ]
     },
     "execution_count": 28,
     "metadata": {},
     "output_type": "execute_result"
    }
   ],
   "source": [
    "server"
   ]
  },
  {
   "cell_type": "code",
   "execution_count": 29,
   "id": "e7ac45c5-39d9-44a7-bd92-600a05d391f8",
   "metadata": {},
   "outputs": [
    {
     "data": {
      "text/plain": [
       "array([[ 72.18,  18.5 ],\n",
       "       [ 84.62,  90.18],\n",
       "       [ 74.1 , 212.47]])"
      ]
     },
     "execution_count": 29,
     "metadata": {},
     "output_type": "execute_result"
    }
   ],
   "source": [
    "server.pareto_front"
   ]
  },
  {
   "cell_type": "code",
   "execution_count": 30,
   "id": "9b1a8706-ffbd-424f-b7b3-f317dd66a221",
   "metadata": {},
   "outputs": [
    {
     "data": {
      "text/plain": [
       "{(72.18, 18.5): 'vgg19',\n",
       " (84.62, 90.18): 'vit_large_patch16_224',\n",
       " (74.1, 212.47): 'efficientnet_b7'}"
      ]
     },
     "execution_count": 30,
     "metadata": {},
     "output_type": "execute_result"
    }
   ],
   "source": [
    "server.model_zoo_map"
   ]
  },
  {
   "cell_type": "code",
   "execution_count": 64,
   "id": "9da863d3-5f33-4263-bfe6-f27af0cb4e63",
   "metadata": {},
   "outputs": [],
   "source": [
    "#all_epsilons = [1,2,3,4,5,10,50,100,500,1000]\n",
    "all_epsilons = [1,5,50,100,]"
   ]
  },
  {
   "cell_type": "code",
   "execution_count": 65,
   "id": "7e0b9fd2-676e-40a8-b605-b2fa0663bfbe",
   "metadata": {},
   "outputs": [],
   "source": [
    "# queries = [(random.randint(50, 100), random.randint(10, 250)) for _ in range(20)]\n",
    "# queries = [(72.18, 18.5) for _ in range(20)] # vgg19\n",
    "queries = [(84.62, 90.18) for _ in range(4000)] # ViT"
   ]
  },
  {
   "cell_type": "code",
   "execution_count": 66,
   "id": "eccf0be4-6a58-43f8-8048-be7d8be5161f",
   "metadata": {},
   "outputs": [
    {
     "name": "stdout",
     "output_type": "stream",
     "text": [
      "\n",
      "computing goodput for eps=1...\n",
      "utility score:  0.8136448125000204\n",
      "model selection:\n",
      "EfficientNet: 987 (24.68%)\n",
      "VGG: 1447 (36.18%)\n",
      "VisionTransformer: 1566 (39.15%)\n",
      "\n",
      "computing goodput for eps=5...\n",
      "utility score:  0.9286726375000235\n",
      "model selection:\n",
      "VisionTransformer: 2132 (53.30%)\n",
      "VGG: 1587 (39.67%)\n",
      "EfficientNet: 281 (7.03%)\n",
      "\n",
      "computing goodput for eps=50...\n",
      "utility score:  0.993624500000005\n",
      "model selection:\n",
      "VisionTransformer: 3590 (89.75%)\n",
      "VGG: 410 (10.25%)\n",
      "\n",
      "computing goodput for eps=100...\n",
      "utility score:  0.9984761000000016\n",
      "model selection:\n",
      "VisionTransformer: 3902 (97.55%)\n",
      "VGG: 98 (2.45%)\n"
     ]
    }
   ],
   "source": [
    "from collections import Counter\n",
    "\n",
    "for eps in all_epsilons: \n",
    "    server = ModelZooServer(mzoo, model_names, psml_pareto_front, eps, sensitivity)\n",
    "    \n",
    "    print(f\"\\ncomputing goodput for eps={eps}...\")\n",
    "    utility = 0\n",
    "    answered_queries = 0\n",
    "    selected_points = [] \n",
    "    selected_models = [] \n",
    "    \n",
    "    for query in queries:\n",
    "        selected_element = server.l1_permute_and_flip_mechanism(query)\n",
    "        # we can get none when the query is infeasible, then no point will have a high enough prob to be selected\n",
    "        # print(query, ' -> ', selected_element)\n",
    "        if selected_element is not None:\n",
    "            answered_queries += 1\n",
    "            selected_points.append(selected_element)\n",
    "            selected_models.append(server.m_query(selected_element))\n",
    "            \n",
    "            utility += server.l1_score(float(selected_element[0]), float(selected_element[1]), query[0], query[1])\n",
    "    \n",
    "    print('utility score: ', utility / answered_queries)\n",
    "    # for point, model in zip(selected_points, selected_models):\n",
    "    #    print(point, ' -> ', model.__class__.__name__)\n",
    "    \n",
    "    model_counts = Counter([model.__class__.__name__ for model in selected_models])\n",
    "    total_models = sum(model_counts.values())  # Total selections\n",
    "    \n",
    "    # Calculate and display proportions\n",
    "    print(\"model selection:\")\n",
    "    for model_name, count in model_counts.items():\n",
    "        proportion = count / total_models\n",
    "        print(f\"{model_name}: {count} ({proportion:.2%})\")"
   ]
  },
  {
   "cell_type": "code",
   "execution_count": null,
   "id": "45beec5a-eafe-4db5-a21b-2fb80fa1a204",
   "metadata": {},
   "outputs": [],
   "source": []
  },
  {
   "cell_type": "code",
   "execution_count": null,
   "id": "4f5fed7a-5cb2-446f-8086-9365a71cbcb7",
   "metadata": {},
   "outputs": [],
   "source": []
  }
 ],
 "metadata": {
  "kernelspec": {
   "display_name": "Python 3 (ipykernel)",
   "language": "python",
   "name": "python3"
  },
  "language_info": {
   "codemirror_mode": {
    "name": "ipython",
    "version": 3
   },
   "file_extension": ".py",
   "mimetype": "text/x-python",
   "name": "python",
   "nbconvert_exporter": "python",
   "pygments_lexer": "ipython3",
   "version": "3.8.6"
  }
 },
 "nbformat": 4,
 "nbformat_minor": 5
}
