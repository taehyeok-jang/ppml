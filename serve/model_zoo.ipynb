{
 "cells": [
  {
   "cell_type": "markdown",
   "id": "85113999-7693-4953-b4ae-3e8cbbe5e7bd",
   "metadata": {},
   "source": [
    "# Model Zoo (Dense)"
   ]
  },
  {
   "cell_type": "code",
   "execution_count": 3,
   "id": "7b85ace7-0434-4ab3-abe2-b4002a08653c",
   "metadata": {},
   "outputs": [
    {
     "name": "stdout",
     "output_type": "stream",
     "text": [
      "env: CUDA_VISIBLE_DEVICES=1\n"
     ]
    }
   ],
   "source": [
    "%env CUDA_VISIBLE_DEVICES=1\n",
    "\n",
    "import numpy as np\n",
    "import torch\n",
    "\n",
    "from torch import nn\n",
    "from torchvision import datasets\n",
    "from torchvision.transforms import ToTensor\n",
    "from torch.utils.data import DataLoader, Dataset, SubsetRandomSampler\n",
    "\n",
    "from torch.utils.data import Subset\n",
    "\n",
    "import torch.nn as nn\n",
    "import torch.optim as optim\n",
    "import torchvision.transforms as transforms\n",
    "\n",
    "import torchvision.models as models\n",
    "from torchvision.models import vgg19, resnet50, resnet18, resnet34, resnet101 \n",
    "import timm # state-of-the-art (ViTs...)\n",
    "from huggingface_hub import hf_hub_download\n",
    "\n",
    "# from src.model_serving.model_server import *\n",
    "import matplotlib.pyplot as plt\n",
    "\n",
    "from datetime import datetime\n",
    "import time"
   ]
  },
  {
   "cell_type": "code",
   "execution_count": 4,
   "id": "c7dc86fa-0b75-4eda-9546-5fc8a559c6cd",
   "metadata": {},
   "outputs": [],
   "source": [
    "# https://github.com/chenyaofo/pytorch-cifar-models\n",
    "MODELS_V1 = [\n",
    "    'mobilenetv2_x0_5',\n",
    "    'mobilenetv2_x0_75',\n",
    "    'mobilenetv2_x1_0',\n",
    "    'mobilenetv2_x1_4',\n",
    "    'repvgg_a0',\n",
    "    'repvgg_a1',\n",
    "    'repvgg_a2',\n",
    "    'resnet20',\n",
    "    'resnet32',\n",
    "    'resnet44',\n",
    "    'resnet56',\n",
    "    'shufflenetv2_x0_5',\n",
    "    'shufflenetv2_x1_0',\n",
    "    'shufflenetv2_x1_5',\n",
    "    'shufflenetv2_x2_0',\n",
    "    'vgg11_bn',\n",
    "    'vgg13_bn',\n",
    "    'vgg16_bn',\n",
    "    'vgg19_bn',\n",
    " ]\n",
    "VISION_TRANSFORMERS = [\n",
    "    'vit_small_patch16_384',\n",
    "    'vit_base_patch16_384',\n",
    "    'vit_large_patch16_384',\n",
    "]\n",
    "CONVNEXTS = [\n",
    "    'convnext-tiny',\n",
    "    'convnext-base',\n",
    "]\n",
    "\n",
    "V1_MODELS_UPSTREAM = \"chenyaofo/pytorch-cifar-models\""
   ]
  },
  {
   "cell_type": "code",
   "execution_count": 5,
   "id": "a9b8433b-627e-4d98-9bc5-a0774f779ae8",
   "metadata": {},
   "outputs": [
    {
     "name": "stdout",
     "output_type": "stream",
     "text": [
      "Using cuda device\n",
      "available_gpus: 1\n"
     ]
    }
   ],
   "source": [
    "device = \"cuda\" if torch.cuda.is_available() else \"cpu\"\n",
    "print(f\"Using {device} device\")\n",
    "\n",
    "available_gpus = [torch.cuda.device(i) for i in range(torch.cuda.device_count())]\n",
    "print(f\"available_gpus: {len(available_gpus)}\") "
   ]
  },
  {
   "cell_type": "code",
   "execution_count": 9,
   "id": "880dd15c-f2e8-4809-9417-3c05c9b28f88",
   "metadata": {},
   "outputs": [
    {
     "data": {
      "text/plain": [
       "'\\nfrom src.model_serving.model_server import *\\nimport matplotlib.pyplot as plt\\n\\ndef profile_pt_model_(model_zoo, model_id: str, test_data: Dataset, latency_sample=1000):\\n    \"\"\"\\n    Profile a pytorch model using all data in test_data and measure latency by \\n    performing at most `latency_sample` number of queries.\\n    \"\"\"\\n    print(f\"Start profiling {model_id} ...\")\\n\\n    size = len(test_data)\\n    correct = 0\\n    with torch.no_grad():\\n        for X, y in DataLoader(test_data, batch_size=256):\\n            X, y = X.to(device), y.to(device)\\n            pred = model_zoo[model_id](X)\\n            correct += (pred.argmax(1) == y).type(torch.float).sum().item()\\n    \\n    latencies = []\\n    for X, y in DataLoader(test_data, batch_size=1):\\n        X, y = X.to(device), y.to(device)\\n        start = time.perf_counter()\\n        pred = model_zoo[model_id](X)\\n        latencies.append((time.perf_counter() - start) * 1000) # convert to ms\\n        if len(latencies) >= latency_sample:\\n            break\\n\\n    plt.cla()\\n    plt.hist(latencies, 20)\\n    plt.title(f\"Latencies PDF for {model_id}\")\\n    plt.xlabel(\"Latency (ms)\")\\n    plt.savefig(f\"figures/Latencies_PDF_for_{model_id}.png\")\\n\\n    plt.cla()\\n    plt.hist(latencies, histtype=\\'step\\', cumulative=True)\\n    plt.title(f\"Latencies CDF for {model_id}\")\\n    plt.xlabel(\"Latency (ms)\")\\n    plt.savefig(f\"figures/Latencies_CDF_for_{model_id}.png\")\\n\\n    accuracy = correct / size\\n    latency = np.mean(latencies)\\n    return accuracy, latency\\n'"
      ]
     },
     "execution_count": 9,
     "metadata": {},
     "output_type": "execute_result"
    }
   ],
   "source": [
    "'''\n",
    "from src.model_serving.model_server import *\n",
    "import matplotlib.pyplot as plt\n",
    "\n",
    "def profile_pt_model_(model_zoo, model_id: str, test_data: Dataset, latency_sample=1000):\n",
    "    \"\"\"\n",
    "    Profile a pytorch model using all data in test_data and measure latency by \n",
    "    performing at most `latency_sample` number of queries.\n",
    "    \"\"\"\n",
    "    print(f\"Start profiling {model_id} ...\")\n",
    "\n",
    "    size = len(test_data)\n",
    "    correct = 0\n",
    "    with torch.no_grad():\n",
    "        for X, y in DataLoader(test_data, batch_size=256):\n",
    "            X, y = X.to(device), y.to(device)\n",
    "            pred = model_zoo[model_id](X)\n",
    "            correct += (pred.argmax(1) == y).type(torch.float).sum().item()\n",
    "    \n",
    "    latencies = []\n",
    "    for X, y in DataLoader(test_data, batch_size=1):\n",
    "        X, y = X.to(device), y.to(device)\n",
    "        start = time.perf_counter()\n",
    "        pred = model_zoo[model_id](X)\n",
    "        latencies.append((time.perf_counter() - start) * 1000) # convert to ms\n",
    "        if len(latencies) >= latency_sample:\n",
    "            break\n",
    "\n",
    "    plt.cla()\n",
    "    plt.hist(latencies, 20)\n",
    "    plt.title(f\"Latencies PDF for {model_id}\")\n",
    "    plt.xlabel(\"Latency (ms)\")\n",
    "    plt.savefig(f\"figures/Latencies_PDF_for_{model_id}.png\")\n",
    "\n",
    "    plt.cla()\n",
    "    plt.hist(latencies, histtype='step', cumulative=True)\n",
    "    plt.title(f\"Latencies CDF for {model_id}\")\n",
    "    plt.xlabel(\"Latency (ms)\")\n",
    "    plt.savefig(f\"figures/Latencies_CDF_for_{model_id}.png\")\n",
    "\n",
    "    accuracy = correct / size\n",
    "    latency = np.mean(latencies)\n",
    "    return accuracy, latency\n",
    "'''"
   ]
  },
  {
   "cell_type": "code",
   "execution_count": 10,
   "id": "112c4fc1-fe25-472d-8677-a9109b3fcc3e",
   "metadata": {},
   "outputs": [],
   "source": [
    "# !pip install huggingface_hub -U"
   ]
  },
  {
   "cell_type": "code",
   "execution_count": 55,
   "id": "98a16856-b8cb-4beb-b3b1-b25fa22884ce",
   "metadata": {},
   "outputs": [],
   "source": [
    "model_zoo = {}\n",
    "\n",
    "def load_model(model_name: str, dataset: str):\n",
    "\n",
    "    print(\"load model...\")\n",
    "    \n",
    "    if dataset == \"cifar10\":\n",
    "        n_classes = 10 \n",
    "    elif dataset == \"cifar100\":\n",
    "        n_classes = 100\n",
    "    else: \n",
    "        raise ValueError(f\"Unsupported dataset: {args.dataset}\")\n",
    "\n",
    "    print(\"model_name: {} w/ dataset: {} (n_classes: {})\".format(model_name, dataset, n_classes))\n",
    "    \n",
    "    if model_name in MODELS_V1:\n",
    "        model_id = f'{dataset}_{model_name}'\n",
    "        model = torch.hub.load(V1_MODELS_UPSTREAM, model_id, pretrained=True)\n",
    "    elif model_name in VISION_TRANSFORMERS or model_name in CONVNEXTS:\n",
    "        MODEL_REPO = f'tjang31/{model_name}-{dataset}'\n",
    "        checkpoint_path = hf_hub_download(repo_id=MODEL_REPO, filename=\"pytorch_model.bin\")\n",
    "        state_dict = torch.load(checkpoint_path, map_location='cpu')\n",
    "\n",
    "        model = timm.create_model(model_name, pretrained=False)\n",
    "        model.head = nn.Linear(model.head.in_features, n_classes)\n",
    "        model.load_state_dict(state_dict)\n",
    "    else:\n",
    "        raise ValueError(f\"Model {model_id} not available.\")\n",
    "    \n",
    "    model.eval()\n",
    "    return model\n",
    "\n",
    "# TODO \n",
    "model_names = MODELS_V1 + VISION_TRANSFORMERS # + CONVNEXTS"
   ]
  },
  {
   "cell_type": "code",
   "execution_count": 19,
   "id": "405a299c",
   "metadata": {},
   "outputs": [
    {
     "name": "stderr",
     "output_type": "stream",
     "text": [
      "/tmp/ipykernel_1775492/2874188987.py:10: FutureWarning: You are using `torch.load` with `weights_only=False` (the current default value), which uses the default pickle module implicitly. It is possible to construct malicious pickle data which will execute arbitrary code during unpickling (See https://github.com/pytorch/pytorch/blob/main/SECURITY.md#untrusted-models for more details). In a future release, the default value for `weights_only` will be flipped to `True`. This limits the functions that could be executed during unpickling. Arbitrary objects will no longer be allowed to be loaded via this mode unless they are explicitly allowlisted by the user via `torch.serialization.add_safe_globals`. We recommend you start setting `weights_only=True` for any use case where you don't have full control of the loaded file. Please open an issue on GitHub for any issues related to this experimental feature.\n",
      "  state_dict = torch.load(checkpoint_path, map_location='cpu')\n"
     ]
    }
   ],
   "source": [
    "# e.g. \n",
    "model = load_model('vit_base_patch16_384', dataset)"
   ]
  },
  {
   "cell_type": "code",
   "execution_count": 20,
   "id": "52722d13",
   "metadata": {},
   "outputs": [
    {
     "data": {
      "text/plain": [
       "VisionTransformer(\n",
       "  (patch_embed): PatchEmbed(\n",
       "    (proj): Conv2d(3, 768, kernel_size=(16, 16), stride=(16, 16))\n",
       "    (norm): Identity()\n",
       "  )\n",
       "  (pos_drop): Dropout(p=0.0, inplace=False)\n",
       "  (patch_drop): Identity()\n",
       "  (norm_pre): Identity()\n",
       "  (blocks): Sequential(\n",
       "    (0): Block(\n",
       "      (norm1): LayerNorm((768,), eps=1e-06, elementwise_affine=True)\n",
       "      (attn): Attention(\n",
       "        (qkv): Linear(in_features=768, out_features=2304, bias=True)\n",
       "        (q_norm): Identity()\n",
       "        (k_norm): Identity()\n",
       "        (attn_drop): Dropout(p=0.0, inplace=False)\n",
       "        (proj): Linear(in_features=768, out_features=768, bias=True)\n",
       "        (proj_drop): Dropout(p=0.0, inplace=False)\n",
       "      )\n",
       "      (ls1): Identity()\n",
       "      (drop_path1): Identity()\n",
       "      (norm2): LayerNorm((768,), eps=1e-06, elementwise_affine=True)\n",
       "      (mlp): Mlp(\n",
       "        (fc1): Linear(in_features=768, out_features=3072, bias=True)\n",
       "        (act): GELU(approximate='none')\n",
       "        (drop1): Dropout(p=0.0, inplace=False)\n",
       "        (norm): Identity()\n",
       "        (fc2): Linear(in_features=3072, out_features=768, bias=True)\n",
       "        (drop2): Dropout(p=0.0, inplace=False)\n",
       "      )\n",
       "      (ls2): Identity()\n",
       "      (drop_path2): Identity()\n",
       "    )\n",
       "    (1): Block(\n",
       "      (norm1): LayerNorm((768,), eps=1e-06, elementwise_affine=True)\n",
       "      (attn): Attention(\n",
       "        (qkv): Linear(in_features=768, out_features=2304, bias=True)\n",
       "        (q_norm): Identity()\n",
       "        (k_norm): Identity()\n",
       "        (attn_drop): Dropout(p=0.0, inplace=False)\n",
       "        (proj): Linear(in_features=768, out_features=768, bias=True)\n",
       "        (proj_drop): Dropout(p=0.0, inplace=False)\n",
       "      )\n",
       "      (ls1): Identity()\n",
       "      (drop_path1): Identity()\n",
       "      (norm2): LayerNorm((768,), eps=1e-06, elementwise_affine=True)\n",
       "      (mlp): Mlp(\n",
       "        (fc1): Linear(in_features=768, out_features=3072, bias=True)\n",
       "        (act): GELU(approximate='none')\n",
       "        (drop1): Dropout(p=0.0, inplace=False)\n",
       "        (norm): Identity()\n",
       "        (fc2): Linear(in_features=3072, out_features=768, bias=True)\n",
       "        (drop2): Dropout(p=0.0, inplace=False)\n",
       "      )\n",
       "      (ls2): Identity()\n",
       "      (drop_path2): Identity()\n",
       "    )\n",
       "    (2): Block(\n",
       "      (norm1): LayerNorm((768,), eps=1e-06, elementwise_affine=True)\n",
       "      (attn): Attention(\n",
       "        (qkv): Linear(in_features=768, out_features=2304, bias=True)\n",
       "        (q_norm): Identity()\n",
       "        (k_norm): Identity()\n",
       "        (attn_drop): Dropout(p=0.0, inplace=False)\n",
       "        (proj): Linear(in_features=768, out_features=768, bias=True)\n",
       "        (proj_drop): Dropout(p=0.0, inplace=False)\n",
       "      )\n",
       "      (ls1): Identity()\n",
       "      (drop_path1): Identity()\n",
       "      (norm2): LayerNorm((768,), eps=1e-06, elementwise_affine=True)\n",
       "      (mlp): Mlp(\n",
       "        (fc1): Linear(in_features=768, out_features=3072, bias=True)\n",
       "        (act): GELU(approximate='none')\n",
       "        (drop1): Dropout(p=0.0, inplace=False)\n",
       "        (norm): Identity()\n",
       "        (fc2): Linear(in_features=3072, out_features=768, bias=True)\n",
       "        (drop2): Dropout(p=0.0, inplace=False)\n",
       "      )\n",
       "      (ls2): Identity()\n",
       "      (drop_path2): Identity()\n",
       "    )\n",
       "    (3): Block(\n",
       "      (norm1): LayerNorm((768,), eps=1e-06, elementwise_affine=True)\n",
       "      (attn): Attention(\n",
       "        (qkv): Linear(in_features=768, out_features=2304, bias=True)\n",
       "        (q_norm): Identity()\n",
       "        (k_norm): Identity()\n",
       "        (attn_drop): Dropout(p=0.0, inplace=False)\n",
       "        (proj): Linear(in_features=768, out_features=768, bias=True)\n",
       "        (proj_drop): Dropout(p=0.0, inplace=False)\n",
       "      )\n",
       "      (ls1): Identity()\n",
       "      (drop_path1): Identity()\n",
       "      (norm2): LayerNorm((768,), eps=1e-06, elementwise_affine=True)\n",
       "      (mlp): Mlp(\n",
       "        (fc1): Linear(in_features=768, out_features=3072, bias=True)\n",
       "        (act): GELU(approximate='none')\n",
       "        (drop1): Dropout(p=0.0, inplace=False)\n",
       "        (norm): Identity()\n",
       "        (fc2): Linear(in_features=3072, out_features=768, bias=True)\n",
       "        (drop2): Dropout(p=0.0, inplace=False)\n",
       "      )\n",
       "      (ls2): Identity()\n",
       "      (drop_path2): Identity()\n",
       "    )\n",
       "    (4): Block(\n",
       "      (norm1): LayerNorm((768,), eps=1e-06, elementwise_affine=True)\n",
       "      (attn): Attention(\n",
       "        (qkv): Linear(in_features=768, out_features=2304, bias=True)\n",
       "        (q_norm): Identity()\n",
       "        (k_norm): Identity()\n",
       "        (attn_drop): Dropout(p=0.0, inplace=False)\n",
       "        (proj): Linear(in_features=768, out_features=768, bias=True)\n",
       "        (proj_drop): Dropout(p=0.0, inplace=False)\n",
       "      )\n",
       "      (ls1): Identity()\n",
       "      (drop_path1): Identity()\n",
       "      (norm2): LayerNorm((768,), eps=1e-06, elementwise_affine=True)\n",
       "      (mlp): Mlp(\n",
       "        (fc1): Linear(in_features=768, out_features=3072, bias=True)\n",
       "        (act): GELU(approximate='none')\n",
       "        (drop1): Dropout(p=0.0, inplace=False)\n",
       "        (norm): Identity()\n",
       "        (fc2): Linear(in_features=3072, out_features=768, bias=True)\n",
       "        (drop2): Dropout(p=0.0, inplace=False)\n",
       "      )\n",
       "      (ls2): Identity()\n",
       "      (drop_path2): Identity()\n",
       "    )\n",
       "    (5): Block(\n",
       "      (norm1): LayerNorm((768,), eps=1e-06, elementwise_affine=True)\n",
       "      (attn): Attention(\n",
       "        (qkv): Linear(in_features=768, out_features=2304, bias=True)\n",
       "        (q_norm): Identity()\n",
       "        (k_norm): Identity()\n",
       "        (attn_drop): Dropout(p=0.0, inplace=False)\n",
       "        (proj): Linear(in_features=768, out_features=768, bias=True)\n",
       "        (proj_drop): Dropout(p=0.0, inplace=False)\n",
       "      )\n",
       "      (ls1): Identity()\n",
       "      (drop_path1): Identity()\n",
       "      (norm2): LayerNorm((768,), eps=1e-06, elementwise_affine=True)\n",
       "      (mlp): Mlp(\n",
       "        (fc1): Linear(in_features=768, out_features=3072, bias=True)\n",
       "        (act): GELU(approximate='none')\n",
       "        (drop1): Dropout(p=0.0, inplace=False)\n",
       "        (norm): Identity()\n",
       "        (fc2): Linear(in_features=3072, out_features=768, bias=True)\n",
       "        (drop2): Dropout(p=0.0, inplace=False)\n",
       "      )\n",
       "      (ls2): Identity()\n",
       "      (drop_path2): Identity()\n",
       "    )\n",
       "    (6): Block(\n",
       "      (norm1): LayerNorm((768,), eps=1e-06, elementwise_affine=True)\n",
       "      (attn): Attention(\n",
       "        (qkv): Linear(in_features=768, out_features=2304, bias=True)\n",
       "        (q_norm): Identity()\n",
       "        (k_norm): Identity()\n",
       "        (attn_drop): Dropout(p=0.0, inplace=False)\n",
       "        (proj): Linear(in_features=768, out_features=768, bias=True)\n",
       "        (proj_drop): Dropout(p=0.0, inplace=False)\n",
       "      )\n",
       "      (ls1): Identity()\n",
       "      (drop_path1): Identity()\n",
       "      (norm2): LayerNorm((768,), eps=1e-06, elementwise_affine=True)\n",
       "      (mlp): Mlp(\n",
       "        (fc1): Linear(in_features=768, out_features=3072, bias=True)\n",
       "        (act): GELU(approximate='none')\n",
       "        (drop1): Dropout(p=0.0, inplace=False)\n",
       "        (norm): Identity()\n",
       "        (fc2): Linear(in_features=3072, out_features=768, bias=True)\n",
       "        (drop2): Dropout(p=0.0, inplace=False)\n",
       "      )\n",
       "      (ls2): Identity()\n",
       "      (drop_path2): Identity()\n",
       "    )\n",
       "    (7): Block(\n",
       "      (norm1): LayerNorm((768,), eps=1e-06, elementwise_affine=True)\n",
       "      (attn): Attention(\n",
       "        (qkv): Linear(in_features=768, out_features=2304, bias=True)\n",
       "        (q_norm): Identity()\n",
       "        (k_norm): Identity()\n",
       "        (attn_drop): Dropout(p=0.0, inplace=False)\n",
       "        (proj): Linear(in_features=768, out_features=768, bias=True)\n",
       "        (proj_drop): Dropout(p=0.0, inplace=False)\n",
       "      )\n",
       "      (ls1): Identity()\n",
       "      (drop_path1): Identity()\n",
       "      (norm2): LayerNorm((768,), eps=1e-06, elementwise_affine=True)\n",
       "      (mlp): Mlp(\n",
       "        (fc1): Linear(in_features=768, out_features=3072, bias=True)\n",
       "        (act): GELU(approximate='none')\n",
       "        (drop1): Dropout(p=0.0, inplace=False)\n",
       "        (norm): Identity()\n",
       "        (fc2): Linear(in_features=3072, out_features=768, bias=True)\n",
       "        (drop2): Dropout(p=0.0, inplace=False)\n",
       "      )\n",
       "      (ls2): Identity()\n",
       "      (drop_path2): Identity()\n",
       "    )\n",
       "    (8): Block(\n",
       "      (norm1): LayerNorm((768,), eps=1e-06, elementwise_affine=True)\n",
       "      (attn): Attention(\n",
       "        (qkv): Linear(in_features=768, out_features=2304, bias=True)\n",
       "        (q_norm): Identity()\n",
       "        (k_norm): Identity()\n",
       "        (attn_drop): Dropout(p=0.0, inplace=False)\n",
       "        (proj): Linear(in_features=768, out_features=768, bias=True)\n",
       "        (proj_drop): Dropout(p=0.0, inplace=False)\n",
       "      )\n",
       "      (ls1): Identity()\n",
       "      (drop_path1): Identity()\n",
       "      (norm2): LayerNorm((768,), eps=1e-06, elementwise_affine=True)\n",
       "      (mlp): Mlp(\n",
       "        (fc1): Linear(in_features=768, out_features=3072, bias=True)\n",
       "        (act): GELU(approximate='none')\n",
       "        (drop1): Dropout(p=0.0, inplace=False)\n",
       "        (norm): Identity()\n",
       "        (fc2): Linear(in_features=3072, out_features=768, bias=True)\n",
       "        (drop2): Dropout(p=0.0, inplace=False)\n",
       "      )\n",
       "      (ls2): Identity()\n",
       "      (drop_path2): Identity()\n",
       "    )\n",
       "    (9): Block(\n",
       "      (norm1): LayerNorm((768,), eps=1e-06, elementwise_affine=True)\n",
       "      (attn): Attention(\n",
       "        (qkv): Linear(in_features=768, out_features=2304, bias=True)\n",
       "        (q_norm): Identity()\n",
       "        (k_norm): Identity()\n",
       "        (attn_drop): Dropout(p=0.0, inplace=False)\n",
       "        (proj): Linear(in_features=768, out_features=768, bias=True)\n",
       "        (proj_drop): Dropout(p=0.0, inplace=False)\n",
       "      )\n",
       "      (ls1): Identity()\n",
       "      (drop_path1): Identity()\n",
       "      (norm2): LayerNorm((768,), eps=1e-06, elementwise_affine=True)\n",
       "      (mlp): Mlp(\n",
       "        (fc1): Linear(in_features=768, out_features=3072, bias=True)\n",
       "        (act): GELU(approximate='none')\n",
       "        (drop1): Dropout(p=0.0, inplace=False)\n",
       "        (norm): Identity()\n",
       "        (fc2): Linear(in_features=3072, out_features=768, bias=True)\n",
       "        (drop2): Dropout(p=0.0, inplace=False)\n",
       "      )\n",
       "      (ls2): Identity()\n",
       "      (drop_path2): Identity()\n",
       "    )\n",
       "    (10): Block(\n",
       "      (norm1): LayerNorm((768,), eps=1e-06, elementwise_affine=True)\n",
       "      (attn): Attention(\n",
       "        (qkv): Linear(in_features=768, out_features=2304, bias=True)\n",
       "        (q_norm): Identity()\n",
       "        (k_norm): Identity()\n",
       "        (attn_drop): Dropout(p=0.0, inplace=False)\n",
       "        (proj): Linear(in_features=768, out_features=768, bias=True)\n",
       "        (proj_drop): Dropout(p=0.0, inplace=False)\n",
       "      )\n",
       "      (ls1): Identity()\n",
       "      (drop_path1): Identity()\n",
       "      (norm2): LayerNorm((768,), eps=1e-06, elementwise_affine=True)\n",
       "      (mlp): Mlp(\n",
       "        (fc1): Linear(in_features=768, out_features=3072, bias=True)\n",
       "        (act): GELU(approximate='none')\n",
       "        (drop1): Dropout(p=0.0, inplace=False)\n",
       "        (norm): Identity()\n",
       "        (fc2): Linear(in_features=3072, out_features=768, bias=True)\n",
       "        (drop2): Dropout(p=0.0, inplace=False)\n",
       "      )\n",
       "      (ls2): Identity()\n",
       "      (drop_path2): Identity()\n",
       "    )\n",
       "    (11): Block(\n",
       "      (norm1): LayerNorm((768,), eps=1e-06, elementwise_affine=True)\n",
       "      (attn): Attention(\n",
       "        (qkv): Linear(in_features=768, out_features=2304, bias=True)\n",
       "        (q_norm): Identity()\n",
       "        (k_norm): Identity()\n",
       "        (attn_drop): Dropout(p=0.0, inplace=False)\n",
       "        (proj): Linear(in_features=768, out_features=768, bias=True)\n",
       "        (proj_drop): Dropout(p=0.0, inplace=False)\n",
       "      )\n",
       "      (ls1): Identity()\n",
       "      (drop_path1): Identity()\n",
       "      (norm2): LayerNorm((768,), eps=1e-06, elementwise_affine=True)\n",
       "      (mlp): Mlp(\n",
       "        (fc1): Linear(in_features=768, out_features=3072, bias=True)\n",
       "        (act): GELU(approximate='none')\n",
       "        (drop1): Dropout(p=0.0, inplace=False)\n",
       "        (norm): Identity()\n",
       "        (fc2): Linear(in_features=3072, out_features=768, bias=True)\n",
       "        (drop2): Dropout(p=0.0, inplace=False)\n",
       "      )\n",
       "      (ls2): Identity()\n",
       "      (drop_path2): Identity()\n",
       "    )\n",
       "  )\n",
       "  (norm): LayerNorm((768,), eps=1e-06, elementwise_affine=True)\n",
       "  (fc_norm): Identity()\n",
       "  (head_drop): Dropout(p=0.0, inplace=False)\n",
       "  (head): Linear(in_features=768, out_features=10, bias=True)\n",
       ")"
      ]
     },
     "execution_count": 20,
     "metadata": {},
     "output_type": "execute_result"
    }
   ],
   "source": [
    "model"
   ]
  },
  {
   "cell_type": "code",
   "execution_count": 22,
   "id": "96657759-e887-432b-853c-05e22a4deb6a",
   "metadata": {},
   "outputs": [
    {
     "data": {
      "text/plain": [
       "['mobilenetv2_x0_5',\n",
       " 'mobilenetv2_x0_75',\n",
       " 'mobilenetv2_x1_0',\n",
       " 'mobilenetv2_x1_4',\n",
       " 'repvgg_a0',\n",
       " 'repvgg_a1',\n",
       " 'repvgg_a2',\n",
       " 'resnet20',\n",
       " 'resnet32',\n",
       " 'resnet44',\n",
       " 'resnet56',\n",
       " 'shufflenetv2_x0_5',\n",
       " 'shufflenetv2_x1_0',\n",
       " 'shufflenetv2_x1_5',\n",
       " 'shufflenetv2_x2_0',\n",
       " 'vgg11_bn',\n",
       " 'vgg13_bn',\n",
       " 'vgg16_bn',\n",
       " 'vgg19_bn',\n",
       " 'vit_small_patch16_384',\n",
       " 'vit_base_patch16_384',\n",
       " 'vit_large_patch16_384']"
      ]
     },
     "execution_count": 22,
     "metadata": {},
     "output_type": "execute_result"
    }
   ],
   "source": [
    "model_names"
   ]
  },
  {
   "cell_type": "code",
   "execution_count": 23,
   "id": "1d2de906",
   "metadata": {},
   "outputs": [
    {
     "name": "stdout",
     "output_type": "stream",
     "text": [
      "loading...  mobilenetv2_x0_5\n"
     ]
    },
    {
     "name": "stderr",
     "output_type": "stream",
     "text": [
      "Using cache found in /home/dsanyal7/.cache/torch/hub/chenyaofo_pytorch-cifar-models_master\n",
      "Using cache found in /home/dsanyal7/.cache/torch/hub/chenyaofo_pytorch-cifar-models_master\n"
     ]
    },
    {
     "name": "stdout",
     "output_type": "stream",
     "text": [
      "loading...  mobilenetv2_x0_75\n",
      "loading...  mobilenetv2_x1_0\n"
     ]
    },
    {
     "name": "stderr",
     "output_type": "stream",
     "text": [
      "Using cache found in /home/dsanyal7/.cache/torch/hub/chenyaofo_pytorch-cifar-models_master\n",
      "Using cache found in /home/dsanyal7/.cache/torch/hub/chenyaofo_pytorch-cifar-models_master\n"
     ]
    },
    {
     "name": "stdout",
     "output_type": "stream",
     "text": [
      "loading...  mobilenetv2_x1_4\n",
      "loading...  repvgg_a0\n"
     ]
    },
    {
     "name": "stderr",
     "output_type": "stream",
     "text": [
      "Using cache found in /home/dsanyal7/.cache/torch/hub/chenyaofo_pytorch-cifar-models_master\n"
     ]
    },
    {
     "name": "stdout",
     "output_type": "stream",
     "text": [
      "loading...  repvgg_a1\n"
     ]
    },
    {
     "name": "stderr",
     "output_type": "stream",
     "text": [
      "Using cache found in /home/dsanyal7/.cache/torch/hub/chenyaofo_pytorch-cifar-models_master\n"
     ]
    },
    {
     "name": "stdout",
     "output_type": "stream",
     "text": [
      "loading...  repvgg_a2\n"
     ]
    },
    {
     "name": "stderr",
     "output_type": "stream",
     "text": [
      "Using cache found in /home/dsanyal7/.cache/torch/hub/chenyaofo_pytorch-cifar-models_master\n"
     ]
    },
    {
     "name": "stdout",
     "output_type": "stream",
     "text": [
      "loading...  resnet20\n",
      "loading...  resnet32\n",
      "loading...  resnet44\n"
     ]
    },
    {
     "name": "stderr",
     "output_type": "stream",
     "text": [
      "Using cache found in /home/dsanyal7/.cache/torch/hub/chenyaofo_pytorch-cifar-models_master\n",
      "Using cache found in /home/dsanyal7/.cache/torch/hub/chenyaofo_pytorch-cifar-models_master\n",
      "Using cache found in /home/dsanyal7/.cache/torch/hub/chenyaofo_pytorch-cifar-models_master\n"
     ]
    },
    {
     "name": "stdout",
     "output_type": "stream",
     "text": [
      "loading...  resnet56\n",
      "loading...  shufflenetv2_x0_5\n"
     ]
    },
    {
     "name": "stderr",
     "output_type": "stream",
     "text": [
      "Using cache found in /home/dsanyal7/.cache/torch/hub/chenyaofo_pytorch-cifar-models_master\n",
      "Using cache found in /home/dsanyal7/.cache/torch/hub/chenyaofo_pytorch-cifar-models_master\n"
     ]
    },
    {
     "name": "stdout",
     "output_type": "stream",
     "text": [
      "loading...  shufflenetv2_x1_0\n",
      "loading...  shufflenetv2_x1_5\n"
     ]
    },
    {
     "name": "stderr",
     "output_type": "stream",
     "text": [
      "Using cache found in /home/dsanyal7/.cache/torch/hub/chenyaofo_pytorch-cifar-models_master\n",
      "Using cache found in /home/dsanyal7/.cache/torch/hub/chenyaofo_pytorch-cifar-models_master\n"
     ]
    },
    {
     "name": "stdout",
     "output_type": "stream",
     "text": [
      "loading...  shufflenetv2_x2_0\n",
      "loading...  vgg11_bn\n"
     ]
    },
    {
     "name": "stderr",
     "output_type": "stream",
     "text": [
      "Using cache found in /home/dsanyal7/.cache/torch/hub/chenyaofo_pytorch-cifar-models_master\n",
      "Using cache found in /home/dsanyal7/.cache/torch/hub/chenyaofo_pytorch-cifar-models_master\n"
     ]
    },
    {
     "name": "stdout",
     "output_type": "stream",
     "text": [
      "loading...  vgg13_bn\n",
      "loading...  vgg16_bn\n"
     ]
    },
    {
     "name": "stderr",
     "output_type": "stream",
     "text": [
      "Using cache found in /home/dsanyal7/.cache/torch/hub/chenyaofo_pytorch-cifar-models_master\n",
      "Using cache found in /home/dsanyal7/.cache/torch/hub/chenyaofo_pytorch-cifar-models_master\n"
     ]
    },
    {
     "name": "stdout",
     "output_type": "stream",
     "text": [
      "loading...  vgg19_bn\n"
     ]
    },
    {
     "name": "stderr",
     "output_type": "stream",
     "text": [
      "Using cache found in /home/dsanyal7/.cache/torch/hub/chenyaofo_pytorch-cifar-models_master\n"
     ]
    },
    {
     "name": "stdout",
     "output_type": "stream",
     "text": [
      "loading...  vit_small_patch16_384\n"
     ]
    },
    {
     "name": "stderr",
     "output_type": "stream",
     "text": [
      "/tmp/ipykernel_1775492/2874188987.py:10: FutureWarning: You are using `torch.load` with `weights_only=False` (the current default value), which uses the default pickle module implicitly. It is possible to construct malicious pickle data which will execute arbitrary code during unpickling (See https://github.com/pytorch/pytorch/blob/main/SECURITY.md#untrusted-models for more details). In a future release, the default value for `weights_only` will be flipped to `True`. This limits the functions that could be executed during unpickling. Arbitrary objects will no longer be allowed to be loaded via this mode unless they are explicitly allowlisted by the user via `torch.serialization.add_safe_globals`. We recommend you start setting `weights_only=True` for any use case where you don't have full control of the loaded file. Please open an issue on GitHub for any issues related to this experimental feature.\n",
      "  state_dict = torch.load(checkpoint_path, map_location='cpu')\n"
     ]
    },
    {
     "name": "stdout",
     "output_type": "stream",
     "text": [
      "loading...  vit_base_patch16_384\n",
      "loading...  vit_large_patch16_384\n",
      "Model Zoo contains 22 models:\n",
      " - mobilenetv2_x0_5\n",
      " - mobilenetv2_x0_75\n",
      " - mobilenetv2_x1_0\n",
      " - mobilenetv2_x1_4\n",
      " - repvgg_a0\n",
      " - repvgg_a1\n",
      " - repvgg_a2\n",
      " - resnet20\n",
      " - resnet32\n",
      " - resnet44\n",
      " - resnet56\n",
      " - shufflenetv2_x0_5\n",
      " - shufflenetv2_x1_0\n",
      " - shufflenetv2_x1_5\n",
      " - shufflenetv2_x2_0\n",
      " - vgg11_bn\n",
      " - vgg13_bn\n",
      " - vgg16_bn\n",
      " - vgg19_bn\n",
      " - vit_small_patch16_384\n",
      " - vit_base_patch16_384\n",
      " - vit_large_patch16_384\n"
     ]
    }
   ],
   "source": [
    "for model_name in model_names:\n",
    "    print(\"loading... \", model_name)\n",
    "    model = load_model(model_name, dataset)\n",
    "    model_zoo[model_name] = model\n",
    "\n",
    "print(f\"Model Zoo contains {len(model_zoo)} models:\")\n",
    "for model_name in model_zoo:\n",
    "    print(f\" - {model_name}\")"
   ]
  },
  {
   "cell_type": "code",
   "execution_count": 25,
   "id": "0a94c138-4392-46ed-840d-66a2d32357fd",
   "metadata": {},
   "outputs": [],
   "source": [
    "# model_zoo['vit_base_patch16_384']"
   ]
  },
  {
   "cell_type": "code",
   "execution_count": 56,
   "id": "c89e13cb-f86d-48a9-845a-a64c87eb4505",
   "metadata": {},
   "outputs": [],
   "source": [
    "cifar10_mean = (0.4914, 0.4822, 0.4465)\n",
    "cifar10_std = (0.2023, 0.1994, 0.2010)\n",
    "cifar100_mean = (0.5071, 0.4867, 0.4408)\n",
    "cifar100_std = (0.2675, 0.2565, 0.2761)\n",
    "\n",
    "def get_preprocessor(model_name:str, dataset: str):\n",
    "\n",
    "    # print(\"get_preprocessor for {} - {}\".format(model_name, dataset))\n",
    "    \n",
    "    if dataset == \"cifar10\":\n",
    "        _mean = cifar10_mean\n",
    "        _std = cifar10_std\n",
    "    elif dataset == \"cifar100\":\n",
    "        _mean = cifar100_mean\n",
    "        _std = cifar100_std\n",
    "    else: \n",
    "        raise ValueError(f\"Unsupported dataset: {dataset}\")\n",
    "\n",
    "    if model_name in MODELS_V1:\n",
    "        preprocessor = transforms.Compose([\n",
    "          transforms.Resize(32),\n",
    "          transforms.CenterCrop(32),\n",
    "          transforms.ToTensor(),\n",
    "          transforms.Lambda(lambda t: t[:3, ...]),  # remove the alpha channel\n",
    "          transforms.Normalize(_mean, _std),\n",
    "          ])\n",
    "    elif model_name in VISION_TRANSFORMERS or model_name in CONVNEXTS:\n",
    "        preprocessor = transforms.Compose([\n",
    "          transforms.Resize((384, 384)),\n",
    "          transforms.ToTensor(),\n",
    "          transforms.Normalize(_mean, _std),\n",
    "          ])\n",
    "    else:\n",
    "        raise ValueError(f\"Model {model_name} not available.\")\n",
    "    \n",
    "    return preprocessor"
   ]
  },
  {
   "cell_type": "code",
   "execution_count": 28,
   "id": "32d8c9b8-a0f0-46ca-a95a-97f3cc9b3b02",
   "metadata": {},
   "outputs": [
    {
     "data": {
      "text/plain": [
       "device(type='cuda')"
      ]
     },
     "execution_count": 28,
     "metadata": {},
     "output_type": "execute_result"
    }
   ],
   "source": [
    "device = torch.device('cuda' if torch.cuda.is_available() else 'cpu')\n",
    "device"
   ]
  },
  {
   "cell_type": "code",
   "execution_count": 57,
   "id": "08fb87f2",
   "metadata": {},
   "outputs": [],
   "source": [
    "def get_eval_loader(dataset='cifar10', root='./data', transform=None, eval_size=5000, batch_size=8, shuffle=False):\n",
    "\n",
    "    print(\"get_eval_loader - {}\".format(dataset))\n",
    "    \n",
    "    if dataset == 'cifar10':\n",
    "        _dataset = datasets.CIFAR10(root=root, train=False, download=True, transform=transform)\n",
    "    elif dataset == 'cifar100':\n",
    "        _dataset = datasets.CIFAR100(root=root, train=False, download=True, transform=transform)\n",
    "    else:\n",
    "        raise ValueError(\"Unsupported dataset. Choose 'cifar10' or 'cifar100'.\")\n",
    "\n",
    "    # Random subset for evaluation\n",
    "    \n",
    "    indices = np.random.choice(len(_dataset), eval_size, replace=False)\n",
    "    eval_data = Subset(_dataset, indices)\n",
    "\n",
    "    # DataLoader for evaluation\n",
    "    eval_loader = DataLoader(eval_data, batch_size=batch_size, shuffle=shuffle, num_workers=4)\n",
    "    \n",
    "    return eval_loader"
   ]
  },
  {
   "cell_type": "code",
   "execution_count": 58,
   "id": "538dd4cc-9048-42de-83e6-65aa9ff4953f",
   "metadata": {},
   "outputs": [],
   "source": [
    "def evaluate_model(model, data_loader, device):\n",
    "    model = model.to(device)\n",
    "    model.eval()\n",
    "    \n",
    "    correct = 0\n",
    "    total = 0\n",
    "    total_time = 0\n",
    "\n",
    "    data_processed = 0 \n",
    "    last_logged = 0\n",
    "    \n",
    "    criterion = nn.CrossEntropyLoss()\n",
    "    with torch.no_grad():\n",
    "        for images, labels in data_loader:\n",
    "            \n",
    "            images, labels = images.to(device), labels.to(device)\n",
    "            \n",
    "            start_time = time.time()\n",
    "            outputs = model(images)\n",
    "            latency = time.time() - start_time\n",
    "            total_time += latency\n",
    "            \n",
    "            _, predicted = torch.max(outputs, 1)\n",
    "            total += labels.size(0)\n",
    "            correct += (predicted == labels).sum().item()\n",
    "\n",
    "            data_processed += labels.size(0)\n",
    "            \n",
    "            if data_processed - last_logged >= 500:\n",
    "                print(f\"Processed {data_processed}/{len(data_loader.dataset)} images...\")\n",
    "                last_logged = data_processed\n",
    "\n",
    "    accuracy = 100 * correct / total\n",
    "    avg_latency = total_time / len(data_loader)\n",
    "    \n",
    "    return accuracy, avg_latency"
   ]
  },
  {
   "cell_type": "code",
   "execution_count": 59,
   "id": "c73a6bb3-9816-4b53-a027-36cff2829213",
   "metadata": {},
   "outputs": [],
   "source": [
    "def profile_pt_models(dataset):\n",
    "\n",
    "    model_zoo_ = {}\n",
    "    for model_name in model_names:\n",
    "        print(\"loading... \", model_name)\n",
    "        model = load_model(model_name, dataset)\n",
    "        model_zoo_[model_name] = model\n",
    "\n",
    "    results = {}\n",
    "\n",
    "    for model_name, model in model_zoo_.items():\n",
    "    \n",
    "        transform = get_preprocessor(model_name, dataset)\n",
    "        eval_loader = get_eval_loader(dataset=dataset, root='./data', transform=transform, eval_size=5000, batch_size=8, shuffle=False)\n",
    "    \n",
    "        print(f\"Evaluating {model_name}...\")\n",
    "        accuracy, latency = evaluate_model(model, eval_loader, device)\n",
    "        results[model_name] = {'accuracy': accuracy, 'latency': latency}\n",
    "        print(f\"{model_name}: Accuracy = {accuracy:.2f}%, Latency = {latency:.6f} seconds\")\n",
    "    \n",
    "    for model_name, metrics in results.items():\n",
    "        print(f\"Model: {model_name}, Accuracy: {metrics['accuracy']:.2f}%, Latency: {metrics['latency']:.6f} seconds\")\n",
    "\n",
    "    return results"
   ]
  },
  {
   "cell_type": "markdown",
   "id": "943259ef-d847-4541-ab72-cda9720b238c",
   "metadata": {},
   "source": [
    "# model zoo for CIFAR-10"
   ]
  },
  {
   "cell_type": "code",
   "execution_count": 47,
   "id": "8474e00f-4910-44ce-92b6-cb3be56ba37c",
   "metadata": {},
   "outputs": [
    {
     "data": {
      "text/plain": [
       "{'mobilenetv2_x0_5': {'accuracy': 93.14, 'latency': 0.003704711151123047},\n",
       " 'mobilenetv2_x0_75': {'accuracy': 94.08, 'latency': 0.0037242748260498046},\n",
       " 'mobilenetv2_x1_0': {'accuracy': 93.94, 'latency': 0.0036737422943115233},\n",
       " 'mobilenetv2_x1_4': {'accuracy': 94.24, 'latency': 0.0037275585174560547},\n",
       " 'repvgg_a0': {'accuracy': 94.32, 'latency': 0.004106401824951172},\n",
       " 'repvgg_a1': {'accuracy': 95.5, 'latency': 0.004398415374755859},\n",
       " 'repvgg_a2': {'accuracy': 95.22, 'latency': 0.004276940536499023},\n",
       " 'resnet20': {'accuracy': 92.68, 'latency': 0.0017449386596679688},\n",
       " 'resnet32': {'accuracy': 93.7, 'latency': 0.002664299774169922},\n",
       " 'resnet44': {'accuracy': 93.92, 'latency': 0.0033150314331054686},\n",
       " 'resnet56': {'accuracy': 94.26, 'latency': 0.004426126480102539},\n",
       " 'shufflenetv2_x0_5': {'accuracy': 90.6, 'latency': 0.004627672195434571},\n",
       " 'shufflenetv2_x1_0': {'accuracy': 93.74, 'latency': 0.004462507247924805},\n",
       " 'shufflenetv2_x1_5': {'accuracy': 93.7, 'latency': 0.004531122589111328},\n",
       " 'shufflenetv2_x2_0': {'accuracy': 93.68, 'latency': 0.0047421745300292965},\n",
       " 'vgg11_bn': {'accuracy': 93.22, 'latency': 0.0011070465087890625},\n",
       " 'vgg13_bn': {'accuracy': 93.72, 'latency': 0.0012832324981689454},\n",
       " 'vgg16_bn': {'accuracy': 94.3, 'latency': 0.0015141578674316405},\n",
       " 'vgg19_bn': {'accuracy': 93.92, 'latency': 0.0018170215606689453},\n",
       " 'vit_small_patch16_384': {'accuracy': 98.38,\n",
       "  'latency': 0.0036267795562744142},\n",
       " 'vit_base_patch16_384': {'accuracy': 98.32, 'latency': 0.003586365509033203},\n",
       " 'vit_large_patch16_384': {'accuracy': 98.02, 'latency': 0.006779385375976562}}"
      ]
     },
     "execution_count": 47,
     "metadata": {},
     "output_type": "execute_result"
    }
   ],
   "source": [
    "cifar10_results = profile_pt_models(dataset = \"cifar10\")"
   ]
  },
  {
   "cell_type": "code",
   "execution_count": 48,
   "id": "83fc88b5-11ad-4dbd-ab23-d1eb0125b292",
   "metadata": {},
   "outputs": [],
   "source": [
    "latencies = [metrics['latency'] for model_name, metrics in results.items()]\n",
    "accuracies = [metrics['accuracy'] for model_name, metrics in results.items()]"
   ]
  },
  {
   "cell_type": "code",
   "execution_count": 51,
   "id": "1890e812-e19a-48a9-bd57-3faae7bc1543",
   "metadata": {},
   "outputs": [
    {
     "name": "stdout",
     "output_type": "stream",
     "text": [
      "mobilenetv2_x0_5, acc: 93.14, mean latency: 0.004 ms\n",
      "mobilenetv2_x0_75, acc: 94.08, mean latency: 0.004 ms\n",
      "mobilenetv2_x1_0, acc: 93.94, mean latency: 0.004 ms\n",
      "mobilenetv2_x1_4, acc: 94.24, mean latency: 0.004 ms\n",
      "repvgg_a0, acc: 94.32, mean latency: 0.004 ms\n",
      "repvgg_a1, acc: 95.5, mean latency: 0.004 ms\n",
      "repvgg_a2, acc: 95.22, mean latency: 0.004 ms\n",
      "resnet20, acc: 92.68, mean latency: 0.002 ms\n",
      "resnet32, acc: 93.7, mean latency: 0.003 ms\n",
      "resnet44, acc: 93.92, mean latency: 0.003 ms\n",
      "resnet56, acc: 94.26, mean latency: 0.004 ms\n",
      "shufflenetv2_x0_5, acc: 90.6, mean latency: 0.005 ms\n",
      "shufflenetv2_x1_0, acc: 93.74, mean latency: 0.004 ms\n",
      "shufflenetv2_x1_5, acc: 93.7, mean latency: 0.005 ms\n",
      "shufflenetv2_x2_0, acc: 93.68, mean latency: 0.005 ms\n",
      "vgg11_bn, acc: 93.22, mean latency: 0.001 ms\n",
      "vgg13_bn, acc: 93.72, mean latency: 0.001 ms\n",
      "vgg16_bn, acc: 94.3, mean latency: 0.002 ms\n",
      "vgg19_bn, acc: 93.92, mean latency: 0.002 ms\n",
      "vit_small_patch16_384, acc: 98.38, mean latency: 0.004 ms\n",
      "vit_base_patch16_384, acc: 98.32, mean latency: 0.004 ms\n",
      "vit_large_patch16_384, acc: 98.02, mean latency: 0.007 ms\n"
     ]
    },
    {
     "data": {
      "image/png": "[encoded data removed]",
      "text/plain": [
       "<Figure size 640x480 with 1 Axes>"
      ]
     },
     "metadata": {},
     "output_type": "display_data"
    }
   ],
   "source": [
    "for model_name, metrics in results.items():\n",
    "    print(f\"{model_name}, acc: {metrics['accuracy']}, mean latency: {metrics['latency']:.3f} ms\")\n",
    "    \n",
    "plt.scatter(latencies, accuracies, label=\"Models\", color='orange', marker='x')\n",
    "\n",
    "for model_name, metrics in results.items():\n",
    "    plt.text(metrics['latency'], metrics['accuracy'], model_name, fontsize=8)\n",
    "\n",
    "plt.title(\"Pareto Frontier\")\n",
    "plt.xlabel(\"Latency (ms)\")\n",
    "plt.ylabel(\"Accuracy\")\n",
    "\n",
    "current = datetime.now().strftime(\"%Y%m%d_%H%M%S\")\n",
    "plt.savefig(f\"figures/Pareto_Frontier_{current}.png\")"
   ]
  },
  {
   "cell_type": "code",
   "execution_count": 41,
   "id": "115ac116",
   "metadata": {},
   "outputs": [
    {
     "data": {
      "text/plain": [
       "11689512"
      ]
     },
     "execution_count": 41,
     "metadata": {},
     "output_type": "execute_result"
    }
   ],
   "source": [
    "def get_n_params(model):\n",
    "    return sum(p.numel() for p in model.parameters())\n",
    "\n",
    "get_n_params(model_zoo['resnet18'])"
   ]
  },
  {
   "cell_type": "code",
   "execution_count": 43,
   "id": "2d183243",
   "metadata": {},
   "outputs": [
    {
     "name": "stdout",
     "output_type": "stream",
     "text": [
      "resnet18, acc: 69.94, mean latency: 0.003 ms, num_of_parameters: 11689512\n",
      "resnet50, acc: 75.96, mean latency: 0.005 ms, num_of_parameters: 25557032\n",
      "resnet101, acc: 77.74, mean latency: 0.010 ms, num_of_parameters: 44549160\n",
      "vgg16, acc: 71.62, mean latency: 0.002 ms, num_of_parameters: 138357544\n",
      "vgg19, acc: 72.18, mean latency: 0.002 ms, num_of_parameters: 143667240\n",
      "densenet121, acc: 74.58, mean latency: 0.014 ms, num_of_parameters: 7978856\n",
      "densenet201, acc: 76.82, mean latency: 0.023 ms, num_of_parameters: 20013928\n",
      "mobilenet_v2, acc: 71.92, mean latency: 0.004 ms, num_of_parameters: 3504872\n",
      "inception_v3, acc: 69.56, mean latency: 0.011 ms, num_of_parameters: 27161264\n",
      "efficientnet_b0, acc: 77.64, mean latency: 0.006 ms, num_of_parameters: 5288548\n",
      "efficientnet_b7, acc: 74.1, mean latency: 0.021 ms, num_of_parameters: 66347960\n",
      "squeezenet1_0, acc: 58.64, mean latency: 0.002 ms, num_of_parameters: 1248424\n",
      "alexnet, acc: 56.64, mean latency: 0.001 ms, num_of_parameters: 61100840\n",
      "googlenet, acc: 70.16, mean latency: 0.006 ms, num_of_parameters: 6624904\n",
      "shufflenet_v2_x1_0, acc: 69.74, mean latency: 0.005 ms, num_of_parameters: 2278604\n",
      "vit_base_patch16_224, acc: 81.14, mean latency: 0.005 ms, num_of_parameters: 86567656\n",
      "vit_large_patch16_224, acc: 84.62, mean latency: 0.009 ms, num_of_parameters: 304326632\n",
      "deit_base_patch16_224, acc: 81.8, mean latency: 0.005 ms, num_of_parameters: 86567656\n",
      "convnext_base, acc: 86.06, mean latency: 0.009 ms, num_of_parameters: 88591464\n",
      "convnext_large, acc: 86.42, mean latency: 0.008 ms, num_of_parameters: 197767336\n"
     ]
    }
   ],
   "source": [
    "for model_name, metrics in results.items():\n",
    "    print(f\"{model_name}, acc: {metrics['accuracy']}, mean latency: {metrics['latency']:.3f} ms, num_of_parameters: {get_n_params(model_zoo[model_name])}\")"
   ]
  },
  {
   "cell_type": "code",
   "execution_count": 48,
   "id": "a0d13969",
   "metadata": {},
   "outputs": [
    {
     "data": {
      "image/png": "[encoded data removed]",
      "text/plain": [
       "<Figure size 640x480 with 1 Axes>"
      ]
     },
     "metadata": {},
     "output_type": "display_data"
    }
   ],
   "source": [
    "num_of_params = [get_n_params(model_zoo[model_name]) for model_name, metrics in results.items()]\n",
    "    \n",
    "plt.scatter(num_of_params, accuracies, label=\"Models\", color='green', marker='x')\n",
    "\n",
    "for model_name, metrics in results.items():\n",
    "    plt.text(get_n_params(model_zoo[model_name]), metrics['accuracy'], model_name, fontsize=8)\n",
    "\n",
    "# plt.title(\"Pareto Frontier\")\n",
    "# plt.xlabel(\"Latency (ms)\")\n",
    "# plt.ylabel(\"Num of Params\")\n",
    "\n",
    "# current = datetime.now().strftime(\"%Y%m%d_%H%M%S\")\n",
    "# plt.savefig(f\"figures/Pareto_Frontier_{current}.png\")\n",
    "    "
   ]
  },
  {
   "cell_type": "markdown",
   "id": "78236849-d334-4f00-9953-edc27987b1a2",
   "metadata": {},
   "source": [
    "# model zoo for CIFAR-100"
   ]
  },
  {
   "cell_type": "code",
   "execution_count": 61,
   "id": "085b5ac3",
   "metadata": {},
   "outputs": [
    {
     "name": "stdout",
     "output_type": "stream",
     "text": [
      "loading...  mobilenetv2_x0_5\n",
      "load model...\n",
      "model_name: mobilenetv2_x0_5 w/ dataset: cifar100 (n_classes: 100)\n"
     ]
    },
    {
     "name": "stderr",
     "output_type": "stream",
     "text": [
      "Using cache found in /home/dsanyal7/.cache/torch/hub/chenyaofo_pytorch-cifar-models_master\n",
      "Downloading: \"https://github.com/chenyaofo/pytorch-cifar-models/releases/download/mobilenetv2/cifar100_mobilenetv2_x0_5-9f915757.pt\" to /home/dsanyal7/.cache/torch/hub/checkpoints/cifar100_mobilenetv2_x0_5-9f915757.pt\n",
      "100%|██████████| 3.29M/3.29M [00:00<00:00, 37.3MB/s]\n",
      "Using cache found in /home/dsanyal7/.cache/torch/hub/chenyaofo_pytorch-cifar-models_master\n",
      "Downloading: \"https://github.com/chenyaofo/pytorch-cifar-models/releases/download/mobilenetv2/cifar100_mobilenetv2_x0_75-d7891e60.pt\" to /home/dsanyal7/.cache/torch/hub/checkpoints/cifar100_mobilenetv2_x0_75-d7891e60.pt\n"
     ]
    },
    {
     "name": "stdout",
     "output_type": "stream",
     "text": [
      "loading...  mobilenetv2_x0_75\n",
      "load model...\n",
      "model_name: mobilenetv2_x0_75 w/ dataset: cifar100 (n_classes: 100)\n"
     ]
    },
    {
     "name": "stderr",
     "output_type": "stream",
     "text": [
      "100%|██████████| 5.86M/5.86M [00:00<00:00, 57.1MB/s]\n",
      "Using cache found in /home/dsanyal7/.cache/torch/hub/chenyaofo_pytorch-cifar-models_master\n"
     ]
    },
    {
     "name": "stdout",
     "output_type": "stream",
     "text": [
      "loading...  mobilenetv2_x1_0\n",
      "load model...\n",
      "model_name: mobilenetv2_x1_0 w/ dataset: cifar100 (n_classes: 100)\n"
     ]
    },
    {
     "name": "stderr",
     "output_type": "stream",
     "text": [
      "Downloading: \"https://github.com/chenyaofo/pytorch-cifar-models/releases/download/mobilenetv2/cifar100_mobilenetv2_x1_0-1311f9ff.pt\" to /home/dsanyal7/.cache/torch/hub/checkpoints/cifar100_mobilenetv2_x1_0-1311f9ff.pt\n",
      "100%|██████████| 9.21M/9.21M [00:00<00:00, 82.9MB/s]\n",
      "Using cache found in /home/dsanyal7/.cache/torch/hub/chenyaofo_pytorch-cifar-models_master\n"
     ]
    },
    {
     "name": "stdout",
     "output_type": "stream",
     "text": [
      "loading...  mobilenetv2_x1_4\n",
      "load model...\n",
      "model_name: mobilenetv2_x1_4 w/ dataset: cifar100 (n_classes: 100)\n"
     ]
    },
    {
     "name": "stderr",
     "output_type": "stream",
     "text": [
      "Downloading: \"https://github.com/chenyaofo/pytorch-cifar-models/releases/download/mobilenetv2/cifar100_mobilenetv2_x1_4-8a269f5e.pt\" to /home/dsanyal7/.cache/torch/hub/checkpoints/cifar100_mobilenetv2_x1_4-8a269f5e.pt\n",
      "100%|██████████| 17.4M/17.4M [00:00<00:00, 122MB/s] \n",
      "Using cache found in /home/dsanyal7/.cache/torch/hub/chenyaofo_pytorch-cifar-models_master\n"
     ]
    },
    {
     "name": "stdout",
     "output_type": "stream",
     "text": [
      "loading...  repvgg_a0\n",
      "load model...\n",
      "model_name: repvgg_a0 w/ dataset: cifar100 (n_classes: 100)\n"
     ]
    },
    {
     "name": "stderr",
     "output_type": "stream",
     "text": [
      "Downloading: \"https://github.com/chenyaofo/pytorch-cifar-models/releases/download/repvgg/cifar100_repvgg_a0-2df1edd0.pt\" to /home/dsanyal7/.cache/torch/hub/checkpoints/cifar100_repvgg_a0-2df1edd0.pt\n",
      "100%|██████████| 30.6M/30.6M [00:00<00:00, 87.3MB/s]\n"
     ]
    },
    {
     "name": "stdout",
     "output_type": "stream",
     "text": [
      "loading...  repvgg_a1\n",
      "load model...\n",
      "model_name: repvgg_a1 w/ dataset: cifar100 (n_classes: 100)\n"
     ]
    },
    {
     "name": "stderr",
     "output_type": "stream",
     "text": [
      "Using cache found in /home/dsanyal7/.cache/torch/hub/chenyaofo_pytorch-cifar-models_master\n",
      "Downloading: \"https://github.com/chenyaofo/pytorch-cifar-models/releases/download/repvgg/cifar100_repvgg_a1-c06b21a7.pt\" to /home/dsanyal7/.cache/torch/hub/checkpoints/cifar100_repvgg_a1-c06b21a7.pt\n",
      "100%|██████████| 49.6M/49.6M [00:00<00:00, 105MB/s] \n"
     ]
    },
    {
     "name": "stdout",
     "output_type": "stream",
     "text": [
      "loading...  repvgg_a2\n",
      "load model...\n",
      "model_name: repvgg_a2 w/ dataset: cifar100 (n_classes: 100)\n"
     ]
    },
    {
     "name": "stderr",
     "output_type": "stream",
     "text": [
      "Using cache found in /home/dsanyal7/.cache/torch/hub/chenyaofo_pytorch-cifar-models_master\n",
      "Downloading: \"https://github.com/chenyaofo/pytorch-cifar-models/releases/download/repvgg/cifar100_repvgg_a2-8e71b1f8.pt\" to /home/dsanyal7/.cache/torch/hub/checkpoints/cifar100_repvgg_a2-8e71b1f8.pt\n",
      "100%|██████████| 103M/103M [00:01<00:00, 87.0MB/s] \n"
     ]
    },
    {
     "name": "stdout",
     "output_type": "stream",
     "text": [
      "loading...  resnet20\n",
      "load model...\n",
      "model_name: resnet20 w/ dataset: cifar100 (n_classes: 100)\n"
     ]
    },
    {
     "name": "stderr",
     "output_type": "stream",
     "text": [
      "Using cache found in /home/dsanyal7/.cache/torch/hub/chenyaofo_pytorch-cifar-models_master\n",
      "Downloading: \"https://github.com/chenyaofo/pytorch-cifar-models/releases/download/resnet/cifar100_resnet20-23dac2f1.pt\" to /home/dsanyal7/.cache/torch/hub/checkpoints/cifar100_resnet20-23dac2f1.pt\n",
      "100%|██████████| 1.11M/1.11M [00:00<00:00, 16.6MB/s]\n",
      "Using cache found in /home/dsanyal7/.cache/torch/hub/chenyaofo_pytorch-cifar-models_master\n",
      "Downloading: \"https://github.com/chenyaofo/pytorch-cifar-models/releases/download/resnet/cifar100_resnet32-84213ce6.pt\" to /home/dsanyal7/.cache/torch/hub/checkpoints/cifar100_resnet32-84213ce6.pt\n"
     ]
    },
    {
     "name": "stdout",
     "output_type": "stream",
     "text": [
      "loading...  resnet32\n",
      "load model...\n",
      "model_name: resnet32 w/ dataset: cifar100 (n_classes: 100)\n"
     ]
    },
    {
     "name": "stderr",
     "output_type": "stream",
     "text": [
      "100%|██████████| 1.88M/1.88M [00:00<00:00, 24.4MB/s]\n",
      "Using cache found in /home/dsanyal7/.cache/torch/hub/chenyaofo_pytorch-cifar-models_master\n",
      "Downloading: \"https://github.com/chenyaofo/pytorch-cifar-models/releases/download/resnet/cifar100_resnet44-ffe32858.pt\" to /home/dsanyal7/.cache/torch/hub/checkpoints/cifar100_resnet44-ffe32858.pt\n"
     ]
    },
    {
     "name": "stdout",
     "output_type": "stream",
     "text": [
      "loading...  resnet44\n",
      "load model...\n",
      "model_name: resnet44 w/ dataset: cifar100 (n_classes: 100)\n"
     ]
    },
    {
     "name": "stderr",
     "output_type": "stream",
     "text": [
      "100%|██████████| 2.64M/2.64M [00:00<00:00, 30.3MB/s]\n",
      "Using cache found in /home/dsanyal7/.cache/torch/hub/chenyaofo_pytorch-cifar-models_master\n",
      "Downloading: \"https://github.com/chenyaofo/pytorch-cifar-models/releases/download/resnet/cifar100_resnet56-f2eff4c8.pt\" to /home/dsanyal7/.cache/torch/hub/checkpoints/cifar100_resnet56-f2eff4c8.pt\n"
     ]
    },
    {
     "name": "stdout",
     "output_type": "stream",
     "text": [
      "loading...  resnet56\n",
      "load model...\n",
      "model_name: resnet56 w/ dataset: cifar100 (n_classes: 100)\n"
     ]
    },
    {
     "name": "stderr",
     "output_type": "stream",
     "text": [
      "100%|██████████| 3.41M/3.41M [00:00<00:00, 37.4MB/s]\n",
      "Using cache found in /home/dsanyal7/.cache/torch/hub/chenyaofo_pytorch-cifar-models_master\n",
      "Downloading: \"https://github.com/chenyaofo/pytorch-cifar-models/releases/download/shufflenetv2/cifar100_shufflenetv2_x0_5-1977720f.pt\" to /home/dsanyal7/.cache/torch/hub/checkpoints/cifar100_shufflenetv2_x0_5-1977720f.pt\n"
     ]
    },
    {
     "name": "stdout",
     "output_type": "stream",
     "text": [
      "loading...  shufflenetv2_x0_5\n",
      "load model...\n",
      "model_name: shufflenetv2_x0_5 w/ dataset: cifar100 (n_classes: 100)\n"
     ]
    },
    {
     "name": "stderr",
     "output_type": "stream",
     "text": [
      "100%|██████████| 1.83M/1.83M [00:00<00:00, 24.4MB/s]\n",
      "Using cache found in /home/dsanyal7/.cache/torch/hub/chenyaofo_pytorch-cifar-models_master\n",
      "Downloading: \"https://github.com/chenyaofo/pytorch-cifar-models/releases/download/shufflenetv2/cifar100_shufflenetv2_x1_0-9ae22beb.pt\" to /home/dsanyal7/.cache/torch/hub/checkpoints/cifar100_shufflenetv2_x1_0-9ae22beb.pt\n"
     ]
    },
    {
     "name": "stdout",
     "output_type": "stream",
     "text": [
      "loading...  shufflenetv2_x1_0\n",
      "load model...\n",
      "model_name: shufflenetv2_x1_0 w/ dataset: cifar100 (n_classes: 100)\n"
     ]
    },
    {
     "name": "stderr",
     "output_type": "stream",
     "text": [
      "100%|██████████| 5.34M/5.34M [00:00<00:00, 53.4MB/s]\n",
      "Using cache found in /home/dsanyal7/.cache/torch/hub/chenyaofo_pytorch-cifar-models_master\n",
      "Downloading: \"https://github.com/chenyaofo/pytorch-cifar-models/releases/download/shufflenetv2/cifar100_shufflenetv2_x1_5-e2c85ad8.pt\" to /home/dsanyal7/.cache/torch/hub/checkpoints/cifar100_shufflenetv2_x1_5-e2c85ad8.pt\n"
     ]
    },
    {
     "name": "stdout",
     "output_type": "stream",
     "text": [
      "loading...  shufflenetv2_x1_5\n",
      "load model...\n",
      "model_name: shufflenetv2_x1_5 w/ dataset: cifar100 (n_classes: 100)\n"
     ]
    },
    {
     "name": "stderr",
     "output_type": "stream",
     "text": [
      "100%|██████████| 10.0M/10.0M [00:00<00:00, 82.1MB/s]\n",
      "Using cache found in /home/dsanyal7/.cache/torch/hub/chenyaofo_pytorch-cifar-models_master\n"
     ]
    },
    {
     "name": "stdout",
     "output_type": "stream",
     "text": [
      "loading...  shufflenetv2_x2_0\n",
      "load model...\n",
      "model_name: shufflenetv2_x2_0 w/ dataset: cifar100 (n_classes: 100)\n"
     ]
    },
    {
     "name": "stderr",
     "output_type": "stream",
     "text": [
      "Downloading: \"https://github.com/chenyaofo/pytorch-cifar-models/releases/download/shufflenetv2/cifar100_shufflenetv2_x2_0-e7e584cd.pt\" to /home/dsanyal7/.cache/torch/hub/checkpoints/cifar100_shufflenetv2_x2_0-e7e584cd.pt\n",
      "100%|██████████| 21.4M/21.4M [00:00<00:00, 74.8MB/s]\n"
     ]
    },
    {
     "name": "stdout",
     "output_type": "stream",
     "text": [
      "loading...  vgg11_bn\n",
      "load model...\n",
      "model_name: vgg11_bn w/ dataset: cifar100 (n_classes: 100)\n"
     ]
    },
    {
     "name": "stderr",
     "output_type": "stream",
     "text": [
      "Using cache found in /home/dsanyal7/.cache/torch/hub/chenyaofo_pytorch-cifar-models_master\n",
      "Downloading: \"https://github.com/chenyaofo/pytorch-cifar-models/releases/download/vgg/cifar100_vgg11_bn-57d0759e.pt\" to /home/dsanyal7/.cache/torch/hub/checkpoints/cifar100_vgg11_bn-57d0759e.pt\n",
      "100%|██████████| 37.4M/37.4M [00:00<00:00, 91.8MB/s]\n"
     ]
    },
    {
     "name": "stdout",
     "output_type": "stream",
     "text": [
      "loading...  vgg13_bn\n",
      "load model...\n",
      "model_name: vgg13_bn w/ dataset: cifar100 (n_classes: 100)\n"
     ]
    },
    {
     "name": "stderr",
     "output_type": "stream",
     "text": [
      "Using cache found in /home/dsanyal7/.cache/torch/hub/chenyaofo_pytorch-cifar-models_master\n",
      "Downloading: \"https://github.com/chenyaofo/pytorch-cifar-models/releases/download/vgg/cifar100_vgg13_bn-5ebe5778.pt\" to /home/dsanyal7/.cache/torch/hub/checkpoints/cifar100_vgg13_bn-5ebe5778.pt\n",
      "100%|██████████| 38.1M/38.1M [00:00<00:00, 161MB/s] \n"
     ]
    },
    {
     "name": "stdout",
     "output_type": "stream",
     "text": [
      "loading...  vgg16_bn\n",
      "load model...\n",
      "model_name: vgg16_bn w/ dataset: cifar100 (n_classes: 100)\n"
     ]
    },
    {
     "name": "stderr",
     "output_type": "stream",
     "text": [
      "Using cache found in /home/dsanyal7/.cache/torch/hub/chenyaofo_pytorch-cifar-models_master\n",
      "Downloading: \"https://github.com/chenyaofo/pytorch-cifar-models/releases/download/vgg/cifar100_vgg16_bn-7d8c4031.pt\" to /home/dsanyal7/.cache/torch/hub/checkpoints/cifar100_vgg16_bn-7d8c4031.pt\n",
      "100%|██████████| 58.4M/58.4M [00:00<00:00, 120MB/s] \n"
     ]
    },
    {
     "name": "stdout",
     "output_type": "stream",
     "text": [
      "loading...  vgg19_bn\n",
      "load model...\n",
      "model_name: vgg19_bn w/ dataset: cifar100 (n_classes: 100)\n"
     ]
    },
    {
     "name": "stderr",
     "output_type": "stream",
     "text": [
      "Using cache found in /home/dsanyal7/.cache/torch/hub/chenyaofo_pytorch-cifar-models_master\n",
      "Downloading: \"https://github.com/chenyaofo/pytorch-cifar-models/releases/download/vgg/cifar100_vgg19_bn-b98f7bd7.pt\" to /home/dsanyal7/.cache/torch/hub/checkpoints/cifar100_vgg19_bn-b98f7bd7.pt\n",
      "100%|██████████| 78.7M/78.7M [00:00<00:00, 195MB/s] \n"
     ]
    },
    {
     "name": "stdout",
     "output_type": "stream",
     "text": [
      "loading...  vit_small_patch16_384\n",
      "load model...\n",
      "model_name: vit_small_patch16_384 w/ dataset: cifar100 (n_classes: 100)\n"
     ]
    },
    {
     "name": "stderr",
     "output_type": "stream",
     "text": [
      "/tmp/ipykernel_1775492/1706363269.py:22: FutureWarning: You are using `torch.load` with `weights_only=False` (the current default value), which uses the default pickle module implicitly. It is possible to construct malicious pickle data which will execute arbitrary code during unpickling (See https://github.com/pytorch/pytorch/blob/main/SECURITY.md#untrusted-models for more details). In a future release, the default value for `weights_only` will be flipped to `True`. This limits the functions that could be executed during unpickling. Arbitrary objects will no longer be allowed to be loaded via this mode unless they are explicitly allowlisted by the user via `torch.serialization.add_safe_globals`. We recommend you start setting `weights_only=True` for any use case where you don't have full control of the loaded file. Please open an issue on GitHub for any issues related to this experimental feature.\n",
      "  state_dict = torch.load(checkpoint_path, map_location='cpu')\n"
     ]
    },
    {
     "name": "stdout",
     "output_type": "stream",
     "text": [
      "loading...  vit_base_patch16_384\n",
      "load model...\n",
      "model_name: vit_base_patch16_384 w/ dataset: cifar100 (n_classes: 100)\n",
      "loading...  vit_large_patch16_384\n",
      "load model...\n",
      "model_name: vit_large_patch16_384 w/ dataset: cifar100 (n_classes: 100)\n",
      "get_preprocessor for mobilenetv2_x0_5 - cifar100\n",
      "get_eval_loader - cifar100\n",
      "Downloading https://www.cs.toronto.edu/~kriz/cifar-100-python.tar.gz to ./data/cifar-100-python.tar.gz\n"
     ]
    },
    {
     "name": "stderr",
     "output_type": "stream",
     "text": [
      "100%|██████████| 169M/169M [00:03<00:00, 53.7MB/s] \n"
     ]
    },
    {
     "name": "stdout",
     "output_type": "stream",
     "text": [
      "Extracting ./data/cifar-100-python.tar.gz to ./data\n",
      "Evaluating mobilenetv2_x0_5...\n",
      "Processed 504/5000 images...\n",
      "Processed 1008/5000 images...\n",
      "Processed 1512/5000 images...\n",
      "Processed 2016/5000 images...\n",
      "Processed 2520/5000 images...\n",
      "Processed 3024/5000 images...\n",
      "Processed 3528/5000 images...\n",
      "Processed 4032/5000 images...\n",
      "Processed 4536/5000 images...\n",
      "mobilenetv2_x0_5: Accuracy = 71.04%, Latency = 0.003705 seconds\n",
      "get_preprocessor for mobilenetv2_x0_75 - cifar100\n",
      "get_eval_loader - cifar100\n",
      "Files already downloaded and verified\n",
      "Evaluating mobilenetv2_x0_75...\n",
      "Processed 504/5000 images...\n",
      "Processed 1008/5000 images...\n",
      "Processed 1512/5000 images...\n",
      "Processed 2016/5000 images...\n",
      "Processed 2520/5000 images...\n",
      "Processed 3024/5000 images...\n",
      "Processed 3528/5000 images...\n",
      "Processed 4032/5000 images...\n",
      "Processed 4536/5000 images...\n",
      "mobilenetv2_x0_75: Accuracy = 74.42%, Latency = 0.003691 seconds\n",
      "get_preprocessor for mobilenetv2_x1_0 - cifar100\n",
      "get_eval_loader - cifar100\n",
      "Files already downloaded and verified\n",
      "Evaluating mobilenetv2_x1_0...\n",
      "Processed 504/5000 images...\n",
      "Processed 1008/5000 images...\n",
      "Processed 1512/5000 images...\n",
      "Processed 2016/5000 images...\n",
      "Processed 2520/5000 images...\n",
      "Processed 3024/5000 images...\n",
      "Processed 3528/5000 images...\n",
      "Processed 4032/5000 images...\n",
      "Processed 4536/5000 images...\n",
      "mobilenetv2_x1_0: Accuracy = 74.44%, Latency = 0.003612 seconds\n",
      "get_preprocessor for mobilenetv2_x1_4 - cifar100\n",
      "get_eval_loader - cifar100\n",
      "Files already downloaded and verified\n",
      "Evaluating mobilenetv2_x1_4...\n",
      "Processed 504/5000 images...\n",
      "Processed 1008/5000 images...\n",
      "Processed 1512/5000 images...\n",
      "Processed 2016/5000 images...\n",
      "Processed 2520/5000 images...\n",
      "Processed 3024/5000 images...\n",
      "Processed 3528/5000 images...\n",
      "Processed 4032/5000 images...\n",
      "Processed 4536/5000 images...\n",
      "mobilenetv2_x1_4: Accuracy = 76.04%, Latency = 0.003700 seconds\n",
      "get_preprocessor for repvgg_a0 - cifar100\n",
      "get_eval_loader - cifar100\n",
      "Files already downloaded and verified\n",
      "Evaluating repvgg_a0...\n",
      "Processed 504/5000 images...\n",
      "Processed 1008/5000 images...\n",
      "Processed 1512/5000 images...\n",
      "Processed 2016/5000 images...\n",
      "Processed 2520/5000 images...\n",
      "Processed 3024/5000 images...\n",
      "Processed 3528/5000 images...\n",
      "Processed 4032/5000 images...\n",
      "Processed 4536/5000 images...\n",
      "repvgg_a0: Accuracy = 76.24%, Latency = 0.004198 seconds\n",
      "get_preprocessor for repvgg_a1 - cifar100\n",
      "get_eval_loader - cifar100\n",
      "Files already downloaded and verified\n",
      "Evaluating repvgg_a1...\n",
      "Processed 504/5000 images...\n",
      "Processed 1008/5000 images...\n",
      "Processed 1512/5000 images...\n",
      "Processed 2016/5000 images...\n",
      "Processed 2520/5000 images...\n",
      "Processed 3024/5000 images...\n",
      "Processed 3528/5000 images...\n",
      "Processed 4032/5000 images...\n",
      "Processed 4536/5000 images...\n",
      "repvgg_a1: Accuracy = 76.44%, Latency = 0.004643 seconds\n",
      "get_preprocessor for repvgg_a2 - cifar100\n",
      "get_eval_loader - cifar100\n",
      "Files already downloaded and verified\n",
      "Evaluating repvgg_a2...\n",
      "Processed 504/5000 images...\n",
      "Processed 1008/5000 images...\n",
      "Processed 1512/5000 images...\n",
      "Processed 2016/5000 images...\n",
      "Processed 2520/5000 images...\n",
      "Processed 3024/5000 images...\n",
      "Processed 3528/5000 images...\n",
      "Processed 4032/5000 images...\n",
      "Processed 4536/5000 images...\n",
      "repvgg_a2: Accuracy = 77.24%, Latency = 0.004182 seconds\n",
      "get_preprocessor for resnet20 - cifar100\n",
      "get_eval_loader - cifar100\n",
      "Files already downloaded and verified\n",
      "Evaluating resnet20...\n",
      "Processed 504/5000 images...\n",
      "Processed 1008/5000 images...\n",
      "Processed 1512/5000 images...\n",
      "Processed 2016/5000 images...\n",
      "Processed 2520/5000 images...\n",
      "Processed 3024/5000 images...\n",
      "Processed 3528/5000 images...\n",
      "Processed 4032/5000 images...\n",
      "Processed 4536/5000 images...\n",
      "resnet20: Accuracy = 68.78%, Latency = 0.001706 seconds\n",
      "get_preprocessor for resnet32 - cifar100\n",
      "get_eval_loader - cifar100\n",
      "Files already downloaded and verified\n",
      "Evaluating resnet32...\n",
      "Processed 504/5000 images...\n",
      "Processed 1008/5000 images...\n",
      "Processed 1512/5000 images...\n",
      "Processed 2016/5000 images...\n",
      "Processed 2520/5000 images...\n",
      "Processed 3024/5000 images...\n",
      "Processed 3528/5000 images...\n",
      "Processed 4032/5000 images...\n",
      "Processed 4536/5000 images...\n",
      "resnet32: Accuracy = 69.42%, Latency = 0.002864 seconds\n",
      "get_preprocessor for resnet44 - cifar100\n",
      "get_eval_loader - cifar100\n",
      "Files already downloaded and verified\n",
      "Evaluating resnet44...\n",
      "Processed 504/5000 images...\n",
      "Processed 1008/5000 images...\n",
      "Processed 1512/5000 images...\n",
      "Processed 2016/5000 images...\n",
      "Processed 2520/5000 images...\n",
      "Processed 3024/5000 images...\n",
      "Processed 3528/5000 images...\n",
      "Processed 4032/5000 images...\n",
      "Processed 4536/5000 images...\n",
      "resnet44: Accuracy = 71.52%, Latency = 0.003663 seconds\n",
      "get_preprocessor for resnet56 - cifar100\n",
      "get_eval_loader - cifar100\n",
      "Files already downloaded and verified\n",
      "Evaluating resnet56...\n",
      "Processed 504/5000 images...\n",
      "Processed 1008/5000 images...\n",
      "Processed 1512/5000 images...\n",
      "Processed 2016/5000 images...\n",
      "Processed 2520/5000 images...\n",
      "Processed 3024/5000 images...\n",
      "Processed 3528/5000 images...\n",
      "Processed 4032/5000 images...\n",
      "Processed 4536/5000 images...\n",
      "resnet56: Accuracy = 72.12%, Latency = 0.004722 seconds\n",
      "get_preprocessor for shufflenetv2_x0_5 - cifar100\n",
      "get_eval_loader - cifar100\n",
      "Files already downloaded and verified\n",
      "Evaluating shufflenetv2_x0_5...\n",
      "Processed 504/5000 images...\n",
      "Processed 1008/5000 images...\n",
      "Processed 1512/5000 images...\n",
      "Processed 2016/5000 images...\n",
      "Processed 2520/5000 images...\n",
      "Processed 3024/5000 images...\n",
      "Processed 3528/5000 images...\n",
      "Processed 4032/5000 images...\n",
      "Processed 4536/5000 images...\n",
      "shufflenetv2_x0_5: Accuracy = 67.86%, Latency = 0.004706 seconds\n",
      "get_preprocessor for shufflenetv2_x1_0 - cifar100\n",
      "get_eval_loader - cifar100\n",
      "Files already downloaded and verified\n",
      "Evaluating shufflenetv2_x1_0...\n",
      "Processed 504/5000 images...\n",
      "Processed 1008/5000 images...\n",
      "Processed 1512/5000 images...\n",
      "Processed 2016/5000 images...\n",
      "Processed 2520/5000 images...\n",
      "Processed 3024/5000 images...\n",
      "Processed 3528/5000 images...\n",
      "Processed 4032/5000 images...\n",
      "Processed 4536/5000 images...\n",
      "shufflenetv2_x1_0: Accuracy = 73.10%, Latency = 0.004691 seconds\n",
      "get_preprocessor for shufflenetv2_x1_5 - cifar100\n",
      "get_eval_loader - cifar100\n",
      "Files already downloaded and verified\n",
      "Evaluating shufflenetv2_x1_5...\n",
      "Processed 504/5000 images...\n",
      "Processed 1008/5000 images...\n",
      "Processed 1512/5000 images...\n",
      "Processed 2016/5000 images...\n",
      "Processed 2520/5000 images...\n",
      "Processed 3024/5000 images...\n",
      "Processed 3528/5000 images...\n",
      "Processed 4032/5000 images...\n",
      "Processed 4536/5000 images...\n",
      "shufflenetv2_x1_5: Accuracy = 74.36%, Latency = 0.004913 seconds\n",
      "get_preprocessor for shufflenetv2_x2_0 - cifar100\n",
      "get_eval_loader - cifar100\n",
      "Files already downloaded and verified\n",
      "Evaluating shufflenetv2_x2_0...\n",
      "Processed 504/5000 images...\n",
      "Processed 1008/5000 images...\n",
      "Processed 1512/5000 images...\n",
      "Processed 2016/5000 images...\n",
      "Processed 2520/5000 images...\n",
      "Processed 3024/5000 images...\n",
      "Processed 3528/5000 images...\n",
      "Processed 4032/5000 images...\n",
      "Processed 4536/5000 images...\n",
      "shufflenetv2_x2_0: Accuracy = 75.00%, Latency = 0.004969 seconds\n",
      "get_preprocessor for vgg11_bn - cifar100\n",
      "get_eval_loader - cifar100\n",
      "Files already downloaded and verified\n",
      "Evaluating vgg11_bn...\n",
      "Processed 504/5000 images...\n",
      "Processed 1008/5000 images...\n",
      "Processed 1512/5000 images...\n",
      "Processed 2016/5000 images...\n",
      "Processed 2520/5000 images...\n",
      "Processed 3024/5000 images...\n",
      "Processed 3528/5000 images...\n",
      "Processed 4032/5000 images...\n",
      "Processed 4536/5000 images...\n",
      "vgg11_bn: Accuracy = 70.44%, Latency = 0.001097 seconds\n",
      "get_preprocessor for vgg13_bn - cifar100\n",
      "get_eval_loader - cifar100\n",
      "Files already downloaded and verified\n",
      "Evaluating vgg13_bn...\n",
      "Processed 504/5000 images...\n",
      "Processed 1008/5000 images...\n",
      "Processed 1512/5000 images...\n",
      "Processed 2016/5000 images...\n",
      "Processed 2520/5000 images...\n",
      "Processed 3024/5000 images...\n",
      "Processed 3528/5000 images...\n",
      "Processed 4032/5000 images...\n",
      "Processed 4536/5000 images...\n",
      "vgg13_bn: Accuracy = 75.16%, Latency = 0.001294 seconds\n",
      "get_preprocessor for vgg16_bn - cifar100\n",
      "get_eval_loader - cifar100\n",
      "Files already downloaded and verified\n",
      "Evaluating vgg16_bn...\n",
      "Processed 504/5000 images...\n",
      "Processed 1008/5000 images...\n",
      "Processed 1512/5000 images...\n",
      "Processed 2016/5000 images...\n",
      "Processed 2520/5000 images...\n",
      "Processed 3024/5000 images...\n",
      "Processed 3528/5000 images...\n",
      "Processed 4032/5000 images...\n",
      "Processed 4536/5000 images...\n",
      "vgg16_bn: Accuracy = 74.02%, Latency = 0.001660 seconds\n",
      "get_preprocessor for vgg19_bn - cifar100\n",
      "get_eval_loader - cifar100\n",
      "Files already downloaded and verified\n",
      "Evaluating vgg19_bn...\n",
      "Processed 504/5000 images...\n",
      "Processed 1008/5000 images...\n",
      "Processed 1512/5000 images...\n",
      "Processed 2016/5000 images...\n",
      "Processed 2520/5000 images...\n",
      "Processed 3024/5000 images...\n",
      "Processed 3528/5000 images...\n",
      "Processed 4032/5000 images...\n",
      "Processed 4536/5000 images...\n",
      "vgg19_bn: Accuracy = 74.68%, Latency = 0.002024 seconds\n",
      "get_preprocessor for vit_small_patch16_384 - cifar100\n",
      "get_eval_loader - cifar100\n",
      "Files already downloaded and verified\n",
      "Evaluating vit_small_patch16_384...\n",
      "Processed 504/5000 images...\n",
      "Processed 1008/5000 images...\n",
      "Processed 1512/5000 images...\n",
      "Processed 2016/5000 images...\n",
      "Processed 2520/5000 images...\n",
      "Processed 3024/5000 images...\n",
      "Processed 3528/5000 images...\n",
      "Processed 4032/5000 images...\n",
      "Processed 4536/5000 images...\n",
      "vit_small_patch16_384: Accuracy = 90.82%, Latency = 0.003616 seconds\n",
      "get_preprocessor for vit_base_patch16_384 - cifar100\n",
      "get_eval_loader - cifar100\n",
      "Files already downloaded and verified\n",
      "Evaluating vit_base_patch16_384...\n",
      "Processed 504/5000 images...\n",
      "Processed 1008/5000 images...\n",
      "Processed 1512/5000 images...\n",
      "Processed 2016/5000 images...\n",
      "Processed 2520/5000 images...\n",
      "Processed 3024/5000 images...\n",
      "Processed 3528/5000 images...\n",
      "Processed 4032/5000 images...\n",
      "Processed 4536/5000 images...\n",
      "vit_base_patch16_384: Accuracy = 90.10%, Latency = 0.003929 seconds\n",
      "get_preprocessor for vit_large_patch16_384 - cifar100\n",
      "get_eval_loader - cifar100\n",
      "Files already downloaded and verified\n",
      "Evaluating vit_large_patch16_384...\n",
      "Processed 504/5000 images...\n",
      "Processed 1008/5000 images...\n",
      "Processed 1512/5000 images...\n",
      "Processed 2016/5000 images...\n",
      "Processed 2520/5000 images...\n",
      "Processed 3024/5000 images...\n",
      "Processed 3528/5000 images...\n",
      "Processed 4032/5000 images...\n",
      "Processed 4536/5000 images...\n",
      "vit_large_patch16_384: Accuracy = 90.04%, Latency = 0.007369 seconds\n",
      "Model: mobilenetv2_x0_5, Accuracy: 71.04%, Latency: 0.003705 seconds\n",
      "Model: mobilenetv2_x0_75, Accuracy: 74.42%, Latency: 0.003691 seconds\n",
      "Model: mobilenetv2_x1_0, Accuracy: 74.44%, Latency: 0.003612 seconds\n",
      "Model: mobilenetv2_x1_4, Accuracy: 76.04%, Latency: 0.003700 seconds\n",
      "Model: repvgg_a0, Accuracy: 76.24%, Latency: 0.004198 seconds\n",
      "Model: repvgg_a1, Accuracy: 76.44%, Latency: 0.004643 seconds\n",
      "Model: repvgg_a2, Accuracy: 77.24%, Latency: 0.004182 seconds\n",
      "Model: resnet20, Accuracy: 68.78%, Latency: 0.001706 seconds\n",
      "Model: resnet32, Accuracy: 69.42%, Latency: 0.002864 seconds\n",
      "Model: resnet44, Accuracy: 71.52%, Latency: 0.003663 seconds\n",
      "Model: resnet56, Accuracy: 72.12%, Latency: 0.004722 seconds\n",
      "Model: shufflenetv2_x0_5, Accuracy: 67.86%, Latency: 0.004706 seconds\n",
      "Model: shufflenetv2_x1_0, Accuracy: 73.10%, Latency: 0.004691 seconds\n",
      "Model: shufflenetv2_x1_5, Accuracy: 74.36%, Latency: 0.004913 seconds\n",
      "Model: shufflenetv2_x2_0, Accuracy: 75.00%, Latency: 0.004969 seconds\n",
      "Model: vgg11_bn, Accuracy: 70.44%, Latency: 0.001097 seconds\n",
      "Model: vgg13_bn, Accuracy: 75.16%, Latency: 0.001294 seconds\n",
      "Model: vgg16_bn, Accuracy: 74.02%, Latency: 0.001660 seconds\n",
      "Model: vgg19_bn, Accuracy: 74.68%, Latency: 0.002024 seconds\n",
      "Model: vit_small_patch16_384, Accuracy: 90.82%, Latency: 0.003616 seconds\n",
      "Model: vit_base_patch16_384, Accuracy: 90.10%, Latency: 0.003929 seconds\n",
      "Model: vit_large_patch16_384, Accuracy: 90.04%, Latency: 0.007369 seconds\n"
     ]
    },
    {
     "ename": "NameError",
     "evalue": "name 'result' is not defined",
     "output_type": "error",
     "traceback": [
      "\u001b[0;31m---------------------------------------------------------------------------\u001b[0m",
      "\u001b[0;31mNameError\u001b[0m                                 Traceback (most recent call last)",
      "Cell \u001b[0;32mIn[61], line 1\u001b[0m\n\u001b[0;32m----> 1\u001b[0m cifar100_results \u001b[38;5;241m=\u001b[39m \u001b[43mprofile_pt_models\u001b[49m\u001b[43m(\u001b[49m\u001b[43mdataset\u001b[49m\u001b[43m \u001b[49m\u001b[38;5;241;43m=\u001b[39;49m\u001b[43m \u001b[49m\u001b[38;5;124;43m\"\u001b[39;49m\u001b[38;5;124;43mcifar100\u001b[39;49m\u001b[38;5;124;43m\"\u001b[39;49m\u001b[43m)\u001b[49m\n",
      "Cell \u001b[0;32mIn[59], line 24\u001b[0m, in \u001b[0;36mprofile_pt_models\u001b[0;34m(dataset)\u001b[0m\n\u001b[1;32m     21\u001b[0m \u001b[38;5;28;01mfor\u001b[39;00m model_name, metrics \u001b[38;5;129;01min\u001b[39;00m results\u001b[38;5;241m.\u001b[39mitems():\n\u001b[1;32m     22\u001b[0m     \u001b[38;5;28mprint\u001b[39m(\u001b[38;5;124mf\u001b[39m\u001b[38;5;124m\"\u001b[39m\u001b[38;5;124mModel: \u001b[39m\u001b[38;5;132;01m{\u001b[39;00mmodel_name\u001b[38;5;132;01m}\u001b[39;00m\u001b[38;5;124m, Accuracy: \u001b[39m\u001b[38;5;132;01m{\u001b[39;00mmetrics[\u001b[38;5;124m'\u001b[39m\u001b[38;5;124maccuracy\u001b[39m\u001b[38;5;124m'\u001b[39m]\u001b[38;5;132;01m:\u001b[39;00m\u001b[38;5;124m.2f\u001b[39m\u001b[38;5;132;01m}\u001b[39;00m\u001b[38;5;124m%, Latency: \u001b[39m\u001b[38;5;132;01m{\u001b[39;00mmetrics[\u001b[38;5;124m'\u001b[39m\u001b[38;5;124mlatency\u001b[39m\u001b[38;5;124m'\u001b[39m]\u001b[38;5;132;01m:\u001b[39;00m\u001b[38;5;124m.6f\u001b[39m\u001b[38;5;132;01m}\u001b[39;00m\u001b[38;5;124m seconds\u001b[39m\u001b[38;5;124m\"\u001b[39m)\n\u001b[0;32m---> 24\u001b[0m \u001b[38;5;28;01mreturn\u001b[39;00m \u001b[43mresult\u001b[49m\n",
      "\u001b[0;31mNameError\u001b[0m: name 'result' is not defined"
     ]
    }
   ],
   "source": [
    "cifar100_results = profile_pt_models(dataset = \"cifar100\")"
   ]
  },
  {
   "cell_type": "code",
   "execution_count": 63,
   "id": "d7bb2494-c782-41e3-997d-99507e3db096",
   "metadata": {},
   "outputs": [],
   "source": [
    "# tentative;\n",
    "cifar100_results = {\n",
    "    'mobilenetv2_x0_5': {'accuracy': 71.04, 'latency': 0.003705},\n",
    "    'mobilenetv2_x0_75': {'accuracy': 74.42, 'latency': 0.003691},\n",
    "    'mobilenetv2_x1_0': {'accuracy': 74.44, 'latency': 0.003612},\n",
    "    'mobilenetv2_x1_4': {'accuracy': 76.04, 'latency': 0.003700},\n",
    "    'repvgg_a0': {'accuracy': 76.24, 'latency': 0.004198},\n",
    "    'repvgg_a1': {'accuracy': 76.44, 'latency': 0.004643},\n",
    "    'repvgg_a2': {'accuracy': 77.24, 'latency': 0.004182},\n",
    "    'resnet20': {'accuracy': 68.78, 'latency': 0.001706},\n",
    "    'resnet32': {'accuracy': 69.42, 'latency': 0.002864},\n",
    "    'resnet44': {'accuracy': 71.52, 'latency': 0.003663},\n",
    "    'resnet56': {'accuracy': 72.12, 'latency': 0.004722},\n",
    "    'shufflenetv2_x0_5': {'accuracy': 67.86, 'latency': 0.004706},\n",
    "    'shufflenetv2_x1_0': {'accuracy': 73.10, 'latency': 0.004691},\n",
    "    'shufflenetv2_x1_5': {'accuracy': 74.36, 'latency': 0.004913},\n",
    "    'shufflenetv2_x2_0': {'accuracy': 75.00, 'latency': 0.004969},\n",
    "    'vgg11_bn': {'accuracy': 70.44, 'latency': 0.001097},\n",
    "    'vgg13_bn': {'accuracy': 75.16, 'latency': 0.001294},\n",
    "    'vgg16_bn': {'accuracy': 74.02, 'latency': 0.001660},\n",
    "    'vgg19_bn': {'accuracy': 74.68, 'latency': 0.002024},\n",
    "    'vit_small_patch16_384': {'accuracy': 90.82, 'latency': 0.003616},\n",
    "    'vit_base_patch16_384': {'accuracy': 90.10, 'latency': 0.003929},\n",
    "    'vit_large_patch16_384': {'accuracy': 90.04, 'latency': 0.007369}\n",
    "}"
   ]
  },
  {
   "cell_type": "code",
   "execution_count": 64,
   "id": "d21f631e-c5c9-42fe-94ab-b48e7f5e5425",
   "metadata": {},
   "outputs": [],
   "source": [
    "latencies = [metrics['latency'] for model_name, metrics in cifar100_results.items()]\n",
    "accuracies = [metrics['accuracy'] for model_name, metrics in cifar100_results.items()]"
   ]
  },
  {
   "cell_type": "code",
   "execution_count": null,
   "id": "a3e1466e-0e5c-4ec0-b206-4da47ba1e141",
   "metadata": {},
   "outputs": [],
   "source": [
    "for model_name, metrics in cifar100_results.items():\n",
    "    print(f\"{model_name}, acc: {metrics['accuracy']}, mean latency: {metrics['latency']:.3f} ms\")\n",
    "    \n",
    "plt.scatter(latencies, accuracies, label=\"Models\", color='orange', marker='x')\n",
    "\n",
    "for model_name, metrics in cifar100_results.items():\n",
    "    plt.text(metrics['latency'], metrics['accuracy'], model_name, fontsize=8)\n",
    "\n",
    "plt.title(\"Pareto Frontier\")\n",
    "plt.xlabel(\"Latency (ms)\")\n",
    "plt.ylabel(\"Accuracy\")\n",
    "\n",
    "current = datetime.now().strftime(\"%Y%m%d_%H%M%S\")\n",
    "plt.savefig(f\"figures/Pareto_Frontier_{current}.png\")"
   ]
  }
 ],
 "metadata": {
  "kernelspec": {
   "display_name": "Python 3 (ipykernel)",
   "language": "python",
   "name": "python3"
  },
  "language_info": {
   "codemirror_mode": {
    "name": "ipython",
    "version": 3
   },
   "file_extension": ".py",
   "mimetype": "text/x-python",
   "name": "python",
   "nbconvert_exporter": "python",
   "pygments_lexer": "ipython3",
   "version": "3.8.6"
  }
 },
 "nbformat": 4,
 "nbformat_minor": 5
}
