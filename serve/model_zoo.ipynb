{
 "cells": [
  {
   "cell_type": "markdown",
   "id": "85113999-7693-4953-b4ae-3e8cbbe5e7bd",
   "metadata": {},
   "source": [
    "# Model Zoo (Dense)"
   ]
  },
  {
   "cell_type": "code",
   "execution_count": 1,
   "id": "7b85ace7-0434-4ab3-abe2-b4002a08653c",
   "metadata": {},
   "outputs": [
    {
     "name": "stdout",
     "output_type": "stream",
     "text": [
      "env: CUDA_VISIBLE_DEVICES=1\n"
     ]
    }
   ],
   "source": [
    "%env CUDA_VISIBLE_DEVICES=1\n",
    "\n",
    "import numpy as np\n",
    "import torch\n",
    "\n",
    "from torch import nn\n",
    "from torchvision import datasets\n",
    "from torchvision.transforms import ToTensor\n",
    "from torch.utils.data import DataLoader, Dataset, SubsetRandomSampler\n",
    "\n",
    "from torch.utils.data import Subset\n",
    "\n",
    "import torch.nn as nn\n",
    "import torch.optim as optim\n",
    "import torchvision.transforms as transforms\n",
    "\n",
    "import torchvision.models as models\n",
    "from torchvision.models import vgg19, resnet50, resnet18, resnet34, resnet101 \n",
    "import timm # state-of-the-art (ViTs...)\n",
    "from huggingface_hub import hf_hub_download\n",
    "\n",
    "# from src.model_serving.model_server import *\n",
    "import matplotlib.pyplot as plt\n",
    "\n",
    "from datetime import datetime\n",
    "import time\n",
    "\n",
    "import csv"
   ]
  },
  {
   "cell_type": "code",
   "execution_count": 2,
   "id": "c7dc86fa-0b75-4eda-9546-5fc8a559c6cd",
   "metadata": {},
   "outputs": [],
   "source": [
    "# https://github.com/chenyaofo/pytorch-cifar-models\n",
    "MODELS_V1 = [\n",
    "    'mobilenetv2_x0_5',\n",
    "    'mobilenetv2_x0_75',\n",
    "    'mobilenetv2_x1_0',\n",
    "    'mobilenetv2_x1_4',\n",
    "    'repvgg_a0',\n",
    "    'repvgg_a1',\n",
    "    'repvgg_a2',\n",
    "    'resnet20',\n",
    "    'resnet32',\n",
    "    'resnet44',\n",
    "    'resnet56',\n",
    "    'shufflenetv2_x0_5',\n",
    "    'shufflenetv2_x1_0',\n",
    "    'shufflenetv2_x1_5',\n",
    "    'shufflenetv2_x2_0',\n",
    "    'vgg11_bn',\n",
    "    'vgg13_bn',\n",
    "    'vgg16_bn',\n",
    "    'vgg19_bn',\n",
    " ]\n",
    "VISION_TRANSFORMERS = [\n",
    "    'vit_small_patch16_384',\n",
    "    'vit_base_patch16_384',\n",
    "    'vit_large_patch16_384',\n",
    "]\n",
    "CONVNEXTS = [\n",
    "    'convnext_tiny',\n",
    "    'convnext_base',\n",
    "    'convnext_large',\n",
    "]\n",
    "\n",
    "V1_MODELS_UPSTREAM = \"chenyaofo/pytorch-cifar-models\""
   ]
  },
  {
   "cell_type": "code",
   "execution_count": 3,
   "id": "a9b8433b-627e-4d98-9bc5-a0774f779ae8",
   "metadata": {},
   "outputs": [
    {
     "name": "stdout",
     "output_type": "stream",
     "text": [
      "Using cuda device\n",
      "available_gpus: 1\n"
     ]
    }
   ],
   "source": [
    "device = \"cuda\" if torch.cuda.is_available() else \"cpu\"\n",
    "print(f\"Using {device} device\")\n",
    "\n",
    "available_gpus = [torch.cuda.device(i) for i in range(torch.cuda.device_count())]\n",
    "print(f\"available_gpus: {len(available_gpus)}\") "
   ]
  },
  {
   "cell_type": "code",
   "execution_count": 4,
   "id": "880dd15c-f2e8-4809-9417-3c05c9b28f88",
   "metadata": {},
   "outputs": [
    {
     "data": {
      "text/plain": [
       "'\\nfrom src.model_serving.model_server import *\\nimport matplotlib.pyplot as plt\\n\\ndef profile_pt_model_(model_zoo, model_id: str, test_data: Dataset, latency_sample=1000):\\n    \"\"\"\\n    Profile a pytorch model using all data in test_data and measure latency by \\n    performing at most `latency_sample` number of queries.\\n    \"\"\"\\n    print(f\"Start profiling {model_id} ...\")\\n\\n    size = len(test_data)\\n    correct = 0\\n    with torch.no_grad():\\n        for X, y in DataLoader(test_data, batch_size=256):\\n            X, y = X.to(device), y.to(device)\\n            pred = model_zoo[model_id](X)\\n            correct += (pred.argmax(1) == y).type(torch.float).sum().item()\\n    \\n    latencies = []\\n    for X, y in DataLoader(test_data, batch_size=1):\\n        X, y = X.to(device), y.to(device)\\n        start = time.perf_counter()\\n        pred = model_zoo[model_id](X)\\n        latencies.append((time.perf_counter() - start) * 1000) # convert to ms\\n        if len(latencies) >= latency_sample:\\n            break\\n\\n    plt.cla()\\n    plt.hist(latencies, 20)\\n    plt.title(f\"Latencies PDF for {model_id}\")\\n    plt.xlabel(\"Latency (ms)\")\\n    plt.savefig(f\"figures/Latencies_PDF_for_{model_id}.png\")\\n\\n    plt.cla()\\n    plt.hist(latencies, histtype=\\'step\\', cumulative=True)\\n    plt.title(f\"Latencies CDF for {model_id}\")\\n    plt.xlabel(\"Latency (ms)\")\\n    plt.savefig(f\"figures/Latencies_CDF_for_{model_id}.png\")\\n\\n    accuracy = correct / size\\n    latency = np.mean(latencies)\\n    return accuracy, latency\\n'"
      ]
     },
     "execution_count": 4,
     "metadata": {},
     "output_type": "execute_result"
    }
   ],
   "source": [
    "'''\n",
    "from src.model_serving.model_server import *\n",
    "import matplotlib.pyplot as plt\n",
    "\n",
    "def profile_pt_model_(model_zoo, model_id: str, test_data: Dataset, latency_sample=1000):\n",
    "    \"\"\"\n",
    "    Profile a pytorch model using all data in test_data and measure latency by \n",
    "    performing at most `latency_sample` number of queries.\n",
    "    \"\"\"\n",
    "    print(f\"Start profiling {model_id} ...\")\n",
    "\n",
    "    size = len(test_data)\n",
    "    correct = 0\n",
    "    with torch.no_grad():\n",
    "        for X, y in DataLoader(test_data, batch_size=256):\n",
    "            X, y = X.to(device), y.to(device)\n",
    "            pred = model_zoo[model_id](X)\n",
    "            correct += (pred.argmax(1) == y).type(torch.float).sum().item()\n",
    "    \n",
    "    latencies = []\n",
    "    for X, y in DataLoader(test_data, batch_size=1):\n",
    "        X, y = X.to(device), y.to(device)\n",
    "        start = time.perf_counter()\n",
    "        pred = model_zoo[model_id](X)\n",
    "        latencies.append((time.perf_counter() - start) * 1000) # convert to ms\n",
    "        if len(latencies) >= latency_sample:\n",
    "            break\n",
    "\n",
    "    plt.cla()\n",
    "    plt.hist(latencies, 20)\n",
    "    plt.title(f\"Latencies PDF for {model_id}\")\n",
    "    plt.xlabel(\"Latency (ms)\")\n",
    "    plt.savefig(f\"figures/Latencies_PDF_for_{model_id}.png\")\n",
    "\n",
    "    plt.cla()\n",
    "    plt.hist(latencies, histtype='step', cumulative=True)\n",
    "    plt.title(f\"Latencies CDF for {model_id}\")\n",
    "    plt.xlabel(\"Latency (ms)\")\n",
    "    plt.savefig(f\"figures/Latencies_CDF_for_{model_id}.png\")\n",
    "\n",
    "    accuracy = correct / size\n",
    "    latency = np.mean(latencies)\n",
    "    return accuracy, latency\n",
    "'''"
   ]
  },
  {
   "cell_type": "code",
   "execution_count": 10,
   "id": "112c4fc1-fe25-472d-8677-a9109b3fcc3e",
   "metadata": {},
   "outputs": [],
   "source": [
    "# !pip install huggingface_hub -U"
   ]
  },
  {
   "cell_type": "code",
   "execution_count": 15,
   "id": "98a16856-b8cb-4beb-b3b1-b25fa22884ce",
   "metadata": {},
   "outputs": [],
   "source": [
    "model_zoo = {}\n",
    "\n",
    "def load_model(model_name: str, dataset: str):\n",
    "\n",
    "    print(\"load model...\")\n",
    "    \n",
    "    if dataset == \"cifar10\":\n",
    "        n_classes = 10 \n",
    "    elif dataset == \"cifar100\":\n",
    "        n_classes = 100\n",
    "    else: \n",
    "        raise ValueError(f\"Unsupported dataset: {args.dataset}\")\n",
    "\n",
    "    print(\"model_name: {} w/ dataset: {} (n_classes: {})\".format(model_name, dataset, n_classes))\n",
    "    \n",
    "    if model_name in MODELS_V1:\n",
    "        model_id = f'{dataset}_{model_name}'\n",
    "        model = torch.hub.load(V1_MODELS_UPSTREAM, model_id, pretrained=True)\n",
    "    elif model_name in VISION_TRANSFORMERS or model_name in CONVNEXTS:\n",
    "        MODEL_REPO = f'tjang31/{model_name}-{dataset}'\n",
    "        checkpoint_path = hf_hub_download(repo_id=MODEL_REPO, filename=\"pytorch_model.bin\")\n",
    "        state_dict = torch.load(checkpoint_path, map_location='cpu')\n",
    "\n",
    "        model = timm.create_model(model_name, pretrained=False)\n",
    "        if model_name.startswith(\"vit\"):\n",
    "            model.head = nn.Linear(model.head.in_features, n_classes)\n",
    "        elif model_name.startswith(\"convnext\"):\n",
    "            model.head.fc = nn.Linear(model.head.fc.in_features, n_classes)\n",
    "        else: \n",
    "            raise ValueError(f\"Unsupported network: {model_name}\")\n",
    "        model.load_state_dict(state_dict)\n",
    "    else:\n",
    "        raise ValueError(f\"Model {model_id} not available.\")\n",
    "    \n",
    "    model.eval()\n",
    "    return model\n",
    "\n",
    "# TODO \n",
    "# model_names = MODELS_V1 + VISION_TRANSFORMERS + CONVNEXTS\n",
    "model_names = CONVNEXTS"
   ]
  },
  {
   "cell_type": "code",
   "execution_count": 6,
   "id": "405a299c",
   "metadata": {},
   "outputs": [],
   "source": [
    "### e.g. \n",
    "# model = load_model('vit_base_patch16_384', dataset)"
   ]
  },
  {
   "cell_type": "code",
   "execution_count": 7,
   "id": "96657759-e887-432b-853c-05e22a4deb6a",
   "metadata": {},
   "outputs": [
    {
     "data": {
      "text/plain": [
       "['convnext_tiny', 'convnext_base', 'convnext_large']"
      ]
     },
     "execution_count": 7,
     "metadata": {},
     "output_type": "execute_result"
    }
   ],
   "source": [
    "model_names"
   ]
  },
  {
   "cell_type": "code",
   "execution_count": 25,
   "id": "0a94c138-4392-46ed-840d-66a2d32357fd",
   "metadata": {},
   "outputs": [],
   "source": [
    "# model_zoo['vit_base_patch16_384']"
   ]
  },
  {
   "cell_type": "code",
   "execution_count": 9,
   "id": "c89e13cb-f86d-48a9-845a-a64c87eb4505",
   "metadata": {},
   "outputs": [],
   "source": [
    "cifar10_mean = (0.4914, 0.4822, 0.4465)\n",
    "cifar10_std = (0.2023, 0.1994, 0.2010)\n",
    "cifar100_mean = (0.5071, 0.4867, 0.4408)\n",
    "cifar100_std = (0.2675, 0.2565, 0.2761)\n",
    "\n",
    "def get_preprocessor(model_name:str, dataset: str):\n",
    "\n",
    "    # print(\"get_preprocessor for {} - {}\".format(model_name, dataset))\n",
    "    \n",
    "    if dataset == \"cifar10\":\n",
    "        _mean = cifar10_mean\n",
    "        _std = cifar10_std\n",
    "    elif dataset == \"cifar100\":\n",
    "        _mean = cifar100_mean\n",
    "        _std = cifar100_std\n",
    "    else: \n",
    "        raise ValueError(f\"Unsupported dataset: {dataset}\")\n",
    "\n",
    "    if model_name in MODELS_V1:\n",
    "        preprocessor = transforms.Compose([\n",
    "          transforms.Resize(32),\n",
    "          transforms.CenterCrop(32),\n",
    "          transforms.ToTensor(),\n",
    "          transforms.Lambda(lambda t: t[:3, ...]),  # remove the alpha channel\n",
    "          transforms.Normalize(_mean, _std),\n",
    "          ])\n",
    "    elif model_name in VISION_TRANSFORMERS or model_name in CONVNEXTS:\n",
    "        preprocessor = transforms.Compose([\n",
    "          transforms.Resize((384, 384)),\n",
    "          transforms.ToTensor(),\n",
    "          transforms.Normalize(_mean, _std),\n",
    "          ])\n",
    "    else:\n",
    "        raise ValueError(f\"Model {model_name} not available.\")\n",
    "    \n",
    "    return preprocessor"
   ]
  },
  {
   "cell_type": "code",
   "execution_count": 10,
   "id": "32d8c9b8-a0f0-46ca-a95a-97f3cc9b3b02",
   "metadata": {},
   "outputs": [
    {
     "data": {
      "text/plain": [
       "device(type='cuda')"
      ]
     },
     "execution_count": 10,
     "metadata": {},
     "output_type": "execute_result"
    }
   ],
   "source": [
    "device = torch.device('cuda' if torch.cuda.is_available() else 'cpu')\n",
    "device"
   ]
  },
  {
   "cell_type": "code",
   "execution_count": 11,
   "id": "08fb87f2",
   "metadata": {},
   "outputs": [],
   "source": [
    "def get_eval_loader(dataset='cifar10', root='./data', transform=None, eval_size=5000, batch_size=8, shuffle=False):\n",
    "\n",
    "    print(\"get_eval_loader - {}\".format(dataset))\n",
    "    \n",
    "    if dataset == 'cifar10':\n",
    "        _dataset = datasets.CIFAR10(root=root, train=False, download=True, transform=transform)\n",
    "    elif dataset == 'cifar100':\n",
    "        _dataset = datasets.CIFAR100(root=root, train=False, download=True, transform=transform)\n",
    "    else:\n",
    "        raise ValueError(\"Unsupported dataset. Choose 'cifar10' or 'cifar100'.\")\n",
    "\n",
    "    # Random subset for evaluation\n",
    "    \n",
    "    indices = np.random.choice(len(_dataset), eval_size, replace=False)\n",
    "    eval_data = Subset(_dataset, indices)\n",
    "\n",
    "    # DataLoader for evaluation\n",
    "    eval_loader = DataLoader(eval_data, batch_size=batch_size, shuffle=shuffle, num_workers=4)\n",
    "    \n",
    "    return eval_loader"
   ]
  },
  {
   "cell_type": "code",
   "execution_count": 12,
   "id": "538dd4cc-9048-42de-83e6-65aa9ff4953f",
   "metadata": {},
   "outputs": [],
   "source": [
    "def evaluate_model(model, data_loader, device):\n",
    "    model = model.to(device)\n",
    "    model.eval()\n",
    "    \n",
    "    correct = 0\n",
    "    total = 0\n",
    "    total_time = 0\n",
    "\n",
    "    data_processed = 0 \n",
    "    last_logged = 0\n",
    "    \n",
    "    criterion = nn.CrossEntropyLoss()\n",
    "    with torch.no_grad():\n",
    "        for images, labels in data_loader:\n",
    "            \n",
    "            images, labels = images.to(device), labels.to(device)\n",
    "            \n",
    "            start_time = time.time()\n",
    "            outputs = model(images)\n",
    "            latency = time.time() - start_time\n",
    "            total_time += latency\n",
    "            \n",
    "            _, predicted = torch.max(outputs, 1)\n",
    "            total += labels.size(0)\n",
    "            correct += (predicted == labels).sum().item()\n",
    "\n",
    "            data_processed += labels.size(0)\n",
    "            \n",
    "            if data_processed - last_logged >= 500:\n",
    "                print(f\"Processed {data_processed}/{len(data_loader.dataset)} images...\")\n",
    "                last_logged = data_processed\n",
    "\n",
    "    accuracy = 100 * correct / total\n",
    "    avg_latency = total_time / len(data_loader)\n",
    "    \n",
    "    return accuracy, avg_latency"
   ]
  },
  {
   "cell_type": "code",
   "execution_count": 13,
   "id": "c73a6bb3-9816-4b53-a027-36cff2829213",
   "metadata": {},
   "outputs": [],
   "source": [
    "def profile_pt_models(dataset):\n",
    "\n",
    "    model_zoo_ = {}\n",
    "    for model_name in model_names:\n",
    "        print(\"loading... \", model_name)\n",
    "        model = load_model(model_name, dataset)\n",
    "        model_zoo_[model_name] = model\n",
    "\n",
    "    results = {}\n",
    "\n",
    "    for model_name, model in model_zoo_.items():\n",
    "    \n",
    "        transform = get_preprocessor(model_name, dataset)\n",
    "        eval_loader = get_eval_loader(dataset=dataset, root='./data', transform=transform, eval_size=5000, batch_size=8, shuffle=False)\n",
    "    \n",
    "        print(f\"Evaluating {model_name}...\")\n",
    "        accuracy, latency = evaluate_model(model, eval_loader, device)\n",
    "        results[model_name] = {'accuracy': accuracy, 'latency': latency}\n",
    "        print(f\"{model_name}: Accuracy = {accuracy:.2f}%, Latency = {latency:.6f} seconds\")\n",
    "    \n",
    "    for model_name, metrics in results.items():\n",
    "        print(f\"Model: {model_name}, Accuracy: {metrics['accuracy']:.2f}%, Latency: {metrics['latency']:.6f} seconds\")\n",
    "\n",
    "    return results"
   ]
  },
  {
   "cell_type": "markdown",
   "id": "943259ef-d847-4541-ab72-cda9720b238c",
   "metadata": {},
   "source": [
    "# model zoo for CIFAR-10"
   ]
  },
  {
   "cell_type": "code",
   "execution_count": 17,
   "id": "4896c296-220f-44de-937b-b4e1f7a65390",
   "metadata": {},
   "outputs": [
    {
     "name": "stdout",
     "output_type": "stream",
     "text": [
      "loading...  convnext_tiny\n",
      "load model...\n",
      "model_name: convnext_tiny w/ dataset: cifar10 (n_classes: 10)\n"
     ]
    },
    {
     "name": "stderr",
     "output_type": "stream",
     "text": [
      "/tmp/ipykernel_2221222/2728602005.py:22: FutureWarning: You are using `torch.load` with `weights_only=False` (the current default value), which uses the default pickle module implicitly. It is possible to construct malicious pickle data which will execute arbitrary code during unpickling (See https://github.com/pytorch/pytorch/blob/main/SECURITY.md#untrusted-models for more details). In a future release, the default value for `weights_only` will be flipped to `True`. This limits the functions that could be executed during unpickling. Arbitrary objects will no longer be allowed to be loaded via this mode unless they are explicitly allowlisted by the user via `torch.serialization.add_safe_globals`. We recommend you start setting `weights_only=True` for any use case where you don't have full control of the loaded file. Please open an issue on GitHub for any issues related to this experimental feature.\n",
      "  state_dict = torch.load(checkpoint_path, map_location='cpu')\n"
     ]
    },
    {
     "name": "stdout",
     "output_type": "stream",
     "text": [
      "loading...  convnext_base\n",
      "load model...\n",
      "model_name: convnext_base w/ dataset: cifar10 (n_classes: 10)\n",
      "loading...  convnext_large\n",
      "load model...\n",
      "model_name: convnext_large w/ dataset: cifar10 (n_classes: 10)\n"
     ]
    },
    {
     "data": {
      "application/vnd.jupyter.widget-view+json": {
       "model_id": "f26ea9b37c854413bb7dcde122d221b8",
       "version_major": 2,
       "version_minor": 0
      },
      "text/plain": [
       "pytorch_model.bin:  35%|###4      | 273M/785M [00:00<?, ?B/s]"
      ]
     },
     "metadata": {},
     "output_type": "display_data"
    },
    {
     "name": "stdout",
     "output_type": "stream",
     "text": [
      "get_eval_loader - cifar10\n",
      "Files already downloaded and verified\n",
      "Evaluating convnext_tiny...\n",
      "Processed 504/5000 images...\n",
      "Processed 1008/5000 images...\n",
      "Processed 1512/5000 images...\n",
      "Processed 2016/5000 images...\n",
      "Processed 2520/5000 images...\n",
      "Processed 3024/5000 images...\n",
      "Processed 3528/5000 images...\n",
      "Processed 4032/5000 images...\n",
      "Processed 4536/5000 images...\n",
      "convnext_tiny: Accuracy = 98.06%, Latency = 0.004081 seconds\n",
      "get_eval_loader - cifar10\n",
      "Files already downloaded and verified\n",
      "Evaluating convnext_base...\n",
      "Processed 504/5000 images...\n",
      "Processed 1008/5000 images...\n",
      "Processed 1512/5000 images...\n",
      "Processed 2016/5000 images...\n",
      "Processed 2520/5000 images...\n",
      "Processed 3024/5000 images...\n",
      "Processed 3528/5000 images...\n",
      "Processed 4032/5000 images...\n",
      "Processed 4536/5000 images...\n",
      "convnext_base: Accuracy = 98.62%, Latency = 0.007179 seconds\n",
      "get_eval_loader - cifar10\n",
      "Files already downloaded and verified\n",
      "Evaluating convnext_large...\n",
      "Processed 504/5000 images...\n",
      "Processed 1008/5000 images...\n",
      "Processed 1512/5000 images...\n",
      "Processed 2016/5000 images...\n",
      "Processed 2520/5000 images...\n",
      "Processed 3024/5000 images...\n",
      "Processed 3528/5000 images...\n",
      "Processed 4032/5000 images...\n",
      "Processed 4536/5000 images...\n",
      "convnext_large: Accuracy = 98.96%, Latency = 0.007757 seconds\n",
      "Model: convnext_tiny, Accuracy: 98.06%, Latency: 0.004081 seconds\n",
      "Model: convnext_base, Accuracy: 98.62%, Latency: 0.007179 seconds\n",
      "Model: convnext_large, Accuracy: 98.96%, Latency: 0.007757 seconds\n"
     ]
    }
   ],
   "source": [
    "cifar10_results = profile_pt_models(dataset = \"cifar10\")"
   ]
  },
  {
   "cell_type": "code",
   "execution_count": 89,
   "id": "8474e00f-4910-44ce-92b6-cb3be56ba37c",
   "metadata": {},
   "outputs": [],
   "source": [
    "# cifar10_results = profile_pt_models(dataset = \"cifar10\")\n",
    "\n",
    "\n",
    "# Convert CSV back to JSON\n",
    "csv_file = \"dataset/cifar10.csv\"\n",
    "\n",
    "# Read the CSV file and convert to JSON\n",
    "cifar10_results = {}\n",
    "with open(csv_file, mode='r') as file:\n",
    "    reader = csv.DictReader(file)\n",
    "    for row in reader:\n",
    "        model = row[\"Model\"]\n",
    "        accuracy = float(row[\"Accuracy\"])\n",
    "        latency = float(row[\"Latency\"])\n",
    "\n",
    "        cifar10_results[model] = {\"accuracy\": accuracy, \"latency\": latency}"
   ]
  },
  {
   "cell_type": "code",
   "execution_count": 92,
   "id": "9fe8ab16-fd9e-4e21-a09b-87abe15b7d4b",
   "metadata": {},
   "outputs": [
    {
     "data": {
      "text/plain": [
       "{'mobilenetv2_x0_5': {'accuracy': 93.14, 'latency': 37.05},\n",
       " 'mobilenetv2_x0_75': {'accuracy': 94.08, 'latency': 37.24},\n",
       " 'mobilenetv2_x1_0': {'accuracy': 93.94, 'latency': 36.74},\n",
       " 'mobilenetv2_x1_4': {'accuracy': 94.24, 'latency': 37.28},\n",
       " 'repvgg_a0': {'accuracy': 94.32, 'latency': 41.06},\n",
       " 'repvgg_a1': {'accuracy': 95.5, 'latency': 42.77},\n",
       " 'repvgg_a2': {'accuracy': 95.22, 'latency': 43.98},\n",
       " 'resnet20': {'accuracy': 92.68, 'latency': 17.45},\n",
       " 'resnet32': {'accuracy': 93.7, 'latency': 26.64},\n",
       " 'resnet44': {'accuracy': 93.92, 'latency': 33.15},\n",
       " 'resnet56': {'accuracy': 94.26, 'latency': 44.26},\n",
       " 'shufflenetv2_x0_5': {'accuracy': 90.6, 'latency': 44.63},\n",
       " 'shufflenetv2_x1_0': {'accuracy': 93.74, 'latency': 46.28},\n",
       " 'shufflenetv2_x1_5': {'accuracy': 93.7, 'latency': 45.31},\n",
       " 'shufflenetv2_x2_0': {'accuracy': 93.68, 'latency': 47.42},\n",
       " 'vgg11_bn': {'accuracy': 93.22, 'latency': 11.07},\n",
       " 'vgg13_bn': {'accuracy': 93.72, 'latency': 12.83},\n",
       " 'vgg16_bn': {'accuracy': 93.92, 'latency': 15.14},\n",
       " 'vgg19_bn': {'accuracy': 94.3, 'latency': 18.17},\n",
       " 'vit_small_patch16_384': {'accuracy': 98.02, 'latency': 35.86},\n",
       " 'vit_base_patch16_384': {'accuracy': 98.32, 'latency': 36.27},\n",
       " 'vit_large_patch16_384': {'accuracy': 98.38, 'latency': 67.79}}"
      ]
     },
     "execution_count": 92,
     "metadata": {},
     "output_type": "execute_result"
    }
   ],
   "source": [
    "cifar10_results"
   ]
  },
  {
   "cell_type": "code",
   "execution_count": 90,
   "id": "83fc88b5-11ad-4dbd-ab23-d1eb0125b292",
   "metadata": {},
   "outputs": [],
   "source": [
    "latencies = [metrics['latency'] for model_name, metrics in cifar10_results.items()]\n",
    "accuracies = [metrics['accuracy'] for model_name, metrics in cifar10_results.items()]"
   ]
  },
  {
   "cell_type": "code",
   "execution_count": 91,
   "id": "1890e812-e19a-48a9-bd57-3faae7bc1543",
   "metadata": {},
   "outputs": [
    {
     "name": "stdout",
     "output_type": "stream",
     "text": [
      "mobilenetv2_x0_5, acc: 93.14, mean latency: 37.050 ms\n",
      "mobilenetv2_x0_75, acc: 94.08, mean latency: 37.240 ms\n",
      "mobilenetv2_x1_0, acc: 93.94, mean latency: 36.740 ms\n",
      "mobilenetv2_x1_4, acc: 94.24, mean latency: 37.280 ms\n",
      "repvgg_a0, acc: 94.32, mean latency: 41.060 ms\n",
      "repvgg_a1, acc: 95.5, mean latency: 42.770 ms\n",
      "repvgg_a2, acc: 95.22, mean latency: 43.980 ms\n",
      "resnet20, acc: 92.68, mean latency: 17.450 ms\n",
      "resnet32, acc: 93.7, mean latency: 26.640 ms\n",
      "resnet44, acc: 93.92, mean latency: 33.150 ms\n",
      "resnet56, acc: 94.26, mean latency: 44.260 ms\n",
      "shufflenetv2_x0_5, acc: 90.6, mean latency: 44.630 ms\n",
      "shufflenetv2_x1_0, acc: 93.74, mean latency: 46.280 ms\n",
      "shufflenetv2_x1_5, acc: 93.7, mean latency: 45.310 ms\n",
      "shufflenetv2_x2_0, acc: 93.68, mean latency: 47.420 ms\n",
      "vgg11_bn, acc: 93.22, mean latency: 11.070 ms\n",
      "vgg13_bn, acc: 93.72, mean latency: 12.830 ms\n",
      "vgg16_bn, acc: 93.92, mean latency: 15.140 ms\n",
      "vgg19_bn, acc: 94.3, mean latency: 18.170 ms\n",
      "vit_small_patch16_384, acc: 98.02, mean latency: 35.860 ms\n",
      "vit_base_patch16_384, acc: 98.32, mean latency: 36.270 ms\n",
      "vit_large_patch16_384, acc: 98.38, mean latency: 67.790 ms\n"
     ]
    },
    {
     "data": {
      "image/png": "[encoded data removed]",
      "text/plain": [
       "<Figure size 640x480 with 1 Axes>"
      ]
     },
     "metadata": {},
     "output_type": "display_data"
    }
   ],
   "source": [
    "for model_name, metrics in cifar10_results.items():\n",
    "    print(f\"{model_name}, acc: {metrics['accuracy']}, mean latency: {metrics['latency']:.3f} ms\")\n",
    "    \n",
    "plt.scatter(latencies, accuracies, label=\"Models\", color='orange', marker='x')\n",
    "\n",
    "for model_name, metrics in cifar10_results.items():\n",
    "    plt.text(metrics['latency'], metrics['accuracy'], model_name, fontsize=8)\n",
    "\n",
    "plt.title(\"Pareto Frontier\")\n",
    "plt.xlabel(\"Latency (ms)\")\n",
    "plt.ylabel(\"Accuracy\")\n",
    "\n",
    "current = datetime.now().strftime(\"%Y%m%d_%H%M%S\")\n",
    "plt.savefig(f\"figures/Pareto_Frontier_{current}.png\")"
   ]
  },
  {
   "cell_type": "code",
   "execution_count": 41,
   "id": "115ac116",
   "metadata": {},
   "outputs": [
    {
     "data": {
      "text/plain": [
       "11689512"
      ]
     },
     "execution_count": 41,
     "metadata": {},
     "output_type": "execute_result"
    }
   ],
   "source": [
    "def get_n_params(model):\n",
    "    return sum(p.numel() for p in model.parameters())\n",
    "\n",
    "get_n_params(model_zoo['resnet18'])"
   ]
  },
  {
   "cell_type": "code",
   "execution_count": 43,
   "id": "2d183243",
   "metadata": {},
   "outputs": [
    {
     "name": "stdout",
     "output_type": "stream",
     "text": [
      "resnet18, acc: 69.94, mean latency: 0.003 ms, num_of_parameters: 11689512\n",
      "resnet50, acc: 75.96, mean latency: 0.005 ms, num_of_parameters: 25557032\n",
      "resnet101, acc: 77.74, mean latency: 0.010 ms, num_of_parameters: 44549160\n",
      "vgg16, acc: 71.62, mean latency: 0.002 ms, num_of_parameters: 138357544\n",
      "vgg19, acc: 72.18, mean latency: 0.002 ms, num_of_parameters: 143667240\n",
      "densenet121, acc: 74.58, mean latency: 0.014 ms, num_of_parameters: 7978856\n",
      "densenet201, acc: 76.82, mean latency: 0.023 ms, num_of_parameters: 20013928\n",
      "mobilenet_v2, acc: 71.92, mean latency: 0.004 ms, num_of_parameters: 3504872\n",
      "inception_v3, acc: 69.56, mean latency: 0.011 ms, num_of_parameters: 27161264\n",
      "efficientnet_b0, acc: 77.64, mean latency: 0.006 ms, num_of_parameters: 5288548\n",
      "efficientnet_b7, acc: 74.1, mean latency: 0.021 ms, num_of_parameters: 66347960\n",
      "squeezenet1_0, acc: 58.64, mean latency: 0.002 ms, num_of_parameters: 1248424\n",
      "alexnet, acc: 56.64, mean latency: 0.001 ms, num_of_parameters: 61100840\n",
      "googlenet, acc: 70.16, mean latency: 0.006 ms, num_of_parameters: 6624904\n",
      "shufflenet_v2_x1_0, acc: 69.74, mean latency: 0.005 ms, num_of_parameters: 2278604\n",
      "vit_base_patch16_224, acc: 81.14, mean latency: 0.005 ms, num_of_parameters: 86567656\n",
      "vit_large_patch16_224, acc: 84.62, mean latency: 0.009 ms, num_of_parameters: 304326632\n",
      "deit_base_patch16_224, acc: 81.8, mean latency: 0.005 ms, num_of_parameters: 86567656\n",
      "convnext_base, acc: 86.06, mean latency: 0.009 ms, num_of_parameters: 88591464\n",
      "convnext_large, acc: 86.42, mean latency: 0.008 ms, num_of_parameters: 197767336\n"
     ]
    }
   ],
   "source": [
    "for model_name, metrics in results.items():\n",
    "    print(f\"{model_name}, acc: {metrics['accuracy']}, mean latency: {metrics['latency']:.3f} ms, num_of_parameters: {get_n_params(model_zoo[model_name])}\")"
   ]
  },
  {
   "cell_type": "code",
   "execution_count": 48,
   "id": "a0d13969",
   "metadata": {},
   "outputs": [
    {
     "data": {
      "image/png": "[encoded data removed]",
      "text/plain": [
       "<Figure size 640x480 with 1 Axes>"
      ]
     },
     "metadata": {},
     "output_type": "display_data"
    }
   ],
   "source": [
    "num_of_params = [get_n_params(model_zoo[model_name]) for model_name, metrics in results.items()]\n",
    "    \n",
    "plt.scatter(num_of_params, accuracies, label=\"Models\", color='green', marker='x')\n",
    "\n",
    "for model_name, metrics in results.items():\n",
    "    plt.text(get_n_params(model_zoo[model_name]), metrics['accuracy'], model_name, fontsize=8)\n",
    "\n",
    "# plt.title(\"Pareto Frontier\")\n",
    "# plt.xlabel(\"Latency (ms)\")\n",
    "# plt.ylabel(\"Num of Params\")\n",
    "\n",
    "# current = datetime.now().strftime(\"%Y%m%d_%H%M%S\")\n",
    "# plt.savefig(f\"figures/Pareto_Frontier_{current}.png\")\n",
    "    "
   ]
  },
  {
   "cell_type": "markdown",
   "id": "78236849-d334-4f00-9953-edc27987b1a2",
   "metadata": {},
   "source": [
    "# model zoo for CIFAR-100"
   ]
  },
  {
   "cell_type": "code",
   "execution_count": 18,
   "id": "085b5ac3",
   "metadata": {},
   "outputs": [
    {
     "name": "stdout",
     "output_type": "stream",
     "text": [
      "loading...  convnext_tiny\n",
      "load model...\n",
      "model_name: convnext_tiny w/ dataset: cifar100 (n_classes: 100)\n"
     ]
    },
    {
     "data": {
      "application/vnd.jupyter.widget-view+json": {
       "model_id": "04bb3b117c874aec88af6829044c3680",
       "version_major": 2,
       "version_minor": 0
      },
      "text/plain": [
       "pytorch_model.bin:   0%|          | 0.00/112M [00:00<?, ?B/s]"
      ]
     },
     "metadata": {},
     "output_type": "display_data"
    },
    {
     "name": "stderr",
     "output_type": "stream",
     "text": [
      "/tmp/ipykernel_2221222/2728602005.py:22: FutureWarning: You are using `torch.load` with `weights_only=False` (the current default value), which uses the default pickle module implicitly. It is possible to construct malicious pickle data which will execute arbitrary code during unpickling (See https://github.com/pytorch/pytorch/blob/main/SECURITY.md#untrusted-models for more details). In a future release, the default value for `weights_only` will be flipped to `True`. This limits the functions that could be executed during unpickling. Arbitrary objects will no longer be allowed to be loaded via this mode unless they are explicitly allowlisted by the user via `torch.serialization.add_safe_globals`. We recommend you start setting `weights_only=True` for any use case where you don't have full control of the loaded file. Please open an issue on GitHub for any issues related to this experimental feature.\n",
      "  state_dict = torch.load(checkpoint_path, map_location='cpu')\n"
     ]
    },
    {
     "name": "stdout",
     "output_type": "stream",
     "text": [
      "loading...  convnext_base\n",
      "load model...\n",
      "model_name: convnext_base w/ dataset: cifar100 (n_classes: 100)\n",
      "loading...  convnext_large\n",
      "load model...\n",
      "model_name: convnext_large w/ dataset: cifar100 (n_classes: 100)\n"
     ]
    },
    {
     "data": {
      "application/vnd.jupyter.widget-view+json": {
       "model_id": "3d053abaa160483a9fda74507c031f9d",
       "version_major": 2,
       "version_minor": 0
      },
      "text/plain": [
       "pytorch_model.bin:   0%|          | 0.00/786M [00:00<?, ?B/s]"
      ]
     },
     "metadata": {},
     "output_type": "display_data"
    },
    {
     "name": "stdout",
     "output_type": "stream",
     "text": [
      "get_eval_loader - cifar100\n",
      "Downloading https://www.cs.toronto.edu/~kriz/cifar-100-python.tar.gz to ./data/cifar-100-python.tar.gz\n"
     ]
    },
    {
     "name": "stderr",
     "output_type": "stream",
     "text": [
      "100%|██████████| 169M/169M [00:02<00:00, 79.7MB/s] \n"
     ]
    },
    {
     "name": "stdout",
     "output_type": "stream",
     "text": [
      "Extracting ./data/cifar-100-python.tar.gz to ./data\n",
      "Evaluating convnext_tiny...\n",
      "Processed 504/5000 images...\n",
      "Processed 1008/5000 images...\n",
      "Processed 1512/5000 images...\n",
      "Processed 2016/5000 images...\n",
      "Processed 2520/5000 images...\n",
      "Processed 3024/5000 images...\n",
      "Processed 3528/5000 images...\n",
      "Processed 4032/5000 images...\n",
      "Processed 4536/5000 images...\n",
      "convnext_tiny: Accuracy = 89.44%, Latency = 0.003790 seconds\n",
      "get_eval_loader - cifar100\n",
      "Files already downloaded and verified\n",
      "Evaluating convnext_base...\n",
      "Processed 504/5000 images...\n",
      "Processed 1008/5000 images...\n",
      "Processed 1512/5000 images...\n",
      "Processed 2016/5000 images...\n",
      "Processed 2520/5000 images...\n",
      "Processed 3024/5000 images...\n",
      "Processed 3528/5000 images...\n",
      "Processed 4032/5000 images...\n",
      "Processed 4536/5000 images...\n",
      "convnext_base: Accuracy = 93.14%, Latency = 0.007230 seconds\n",
      "get_eval_loader - cifar100\n",
      "Files already downloaded and verified\n",
      "Evaluating convnext_large...\n",
      "Processed 504/5000 images...\n",
      "Processed 1008/5000 images...\n",
      "Processed 1512/5000 images...\n",
      "Processed 2016/5000 images...\n",
      "Processed 2520/5000 images...\n",
      "Processed 3024/5000 images...\n",
      "Processed 3528/5000 images...\n",
      "Processed 4032/5000 images...\n",
      "Processed 4536/5000 images...\n",
      "convnext_large: Accuracy = 93.08%, Latency = 0.007363 seconds\n",
      "Model: convnext_tiny, Accuracy: 89.44%, Latency: 0.003790 seconds\n",
      "Model: convnext_base, Accuracy: 93.14%, Latency: 0.007230 seconds\n",
      "Model: convnext_large, Accuracy: 93.08%, Latency: 0.007363 seconds\n"
     ]
    }
   ],
   "source": [
    "cifar100_results = profile_pt_models(dataset = \"cifar100\")"
   ]
  },
  {
   "cell_type": "code",
   "execution_count": 86,
   "id": "d7bb2494-c782-41e3-997d-99507e3db096",
   "metadata": {},
   "outputs": [],
   "source": [
    "# tentative;\n",
    "''' \n",
    "cifar100_results = {\n",
    "    'mobilenetv2_x0_5': {'accuracy': 71.04, 'latency': 0.003705},\n",
    "    'mobilenetv2_x0_75': {'accuracy': 74.42, 'latency': 0.003691},\n",
    "    'mobilenetv2_x1_0': {'accuracy': 74.44, 'latency': 0.003612},\n",
    "    'mobilenetv2_x1_4': {'accuracy': 76.04, 'latency': 0.003700},\n",
    "    'repvgg_a0': {'accuracy': 76.24, 'latency': 0.004198},\n",
    "    'repvgg_a1': {'accuracy': 76.44, 'latency': 0.004643},\n",
    "    'repvgg_a2': {'accuracy': 77.24, 'latency': 0.004182},\n",
    "    'resnet20': {'accuracy': 68.78, 'latency': 0.001706},\n",
    "    'resnet32': {'accuracy': 69.42, 'latency': 0.002864},\n",
    "    'resnet44': {'accuracy': 71.52, 'latency': 0.003663},\n",
    "    'resnet56': {'accuracy': 72.12, 'latency': 0.004722},\n",
    "    'shufflenetv2_x0_5': {'accuracy': 67.86, 'latency': 0.004706},\n",
    "    'shufflenetv2_x1_0': {'accuracy': 73.10, 'latency': 0.004691},\n",
    "    'shufflenetv2_x1_5': {'accuracy': 74.36, 'latency': 0.004913},\n",
    "    'shufflenetv2_x2_0': {'accuracy': 75.00, 'latency': 0.004969},\n",
    "    'vgg11_bn': {'accuracy': 70.44, 'latency': 0.001097},\n",
    "    'vgg13_bn': {'accuracy': 75.16, 'latency': 0.001294},\n",
    "    'vgg16_bn': {'accuracy': 74.02, 'latency': 0.001660},\n",
    "    'vgg19_bn': {'accuracy': 74.68, 'latency': 0.002024},\n",
    "    'vit_small_patch16_384': {'accuracy': 90.82, 'latency': 0.003616},\n",
    "    'vit_base_patch16_384': {'accuracy': 90.10, 'latency': 0.003929},\n",
    "    'vit_large_patch16_384': {'accuracy': 90.04, 'latency': 0.007369}\n",
    "}\n",
    "'''\n",
    "# Convert CSV back to JSON\n",
    "csv_file = \"dataset/cifar100.csv\"\n",
    "\n",
    "# Read the CSV file and convert to JSON\n",
    "cifar100_results = {}\n",
    "with open(csv_file, mode='r') as file:\n",
    "    reader = csv.DictReader(file)\n",
    "    for row in reader:\n",
    "        model = row[\"Model\"]\n",
    "        accuracy = float(row[\"Accuracy\"])\n",
    "        latency = float(row[\"Latency\"])\n",
    "\n",
    "        cifar100_results[model] = {\"accuracy\": accuracy, \"latency\": latency}"
   ]
  },
  {
   "cell_type": "code",
   "execution_count": 93,
   "id": "546158d0-551a-450b-b59d-f679b1c8cf68",
   "metadata": {},
   "outputs": [
    {
     "data": {
      "text/plain": [
       "{'mobilenetv2_x0_5': {'accuracy': 71.04, 'latency': 36.91},\n",
       " 'mobilenetv2_x0_75': {'accuracy': 74.42, 'latency': 37.05},\n",
       " 'mobilenetv2_x1_0': {'accuracy': 74.44, 'latency': 36.12},\n",
       " 'mobilenetv2_x1_4': {'accuracy': 76.04, 'latency': 37.0},\n",
       " 'repvgg_a0': {'accuracy': 76.24, 'latency': 41.82},\n",
       " 'repvgg_a1': {'accuracy': 76.44, 'latency': 41.98},\n",
       " 'repvgg_a2': {'accuracy': 77.24, 'latency': 46.43},\n",
       " 'resnet20': {'accuracy': 68.78, 'latency': 17.06},\n",
       " 'resnet32': {'accuracy': 69.42, 'latency': 28.64},\n",
       " 'resnet44': {'accuracy': 71.52, 'latency': 36.63},\n",
       " 'resnet56': {'accuracy': 72.12, 'latency': 47.22},\n",
       " 'shufflenetv2_x0_5': {'accuracy': 67.86, 'latency': 46.91},\n",
       " 'shufflenetv2_x1_0': {'accuracy': 73.1, 'latency': 47.06},\n",
       " 'shufflenetv2_x1_5': {'accuracy': 74.36, 'latency': 49.13},\n",
       " 'shufflenetv2_x2_0': {'accuracy': 75.0, 'latency': 49.69},\n",
       " 'vgg11_bn': {'accuracy': 70.44, 'latency': 10.97},\n",
       " 'vgg13_bn': {'accuracy': 74.02, 'latency': 12.94},\n",
       " 'vgg16_bn': {'accuracy': 74.68, 'latency': 16.6},\n",
       " 'vgg19_bn': {'accuracy': 75.16, 'latency': 20.24},\n",
       " 'vit_small_patch16_384': {'accuracy': 90.04, 'latency': 36.16},\n",
       " 'vit_base_patch16_384': {'accuracy': 90.1, 'latency': 39.29},\n",
       " 'vit_large_patch16_384': {'accuracy': 90.82, 'latency': 73.69}}"
      ]
     },
     "execution_count": 93,
     "metadata": {},
     "output_type": "execute_result"
    }
   ],
   "source": [
    "cifar100_results"
   ]
  },
  {
   "cell_type": "code",
   "execution_count": 87,
   "id": "d21f631e-c5c9-42fe-94ab-b48e7f5e5425",
   "metadata": {},
   "outputs": [],
   "source": [
    "latencies = [metrics['latency'] for model_name, metrics in cifar100_results.items()]\n",
    "accuracies = [metrics['accuracy'] for model_name, metrics in cifar100_results.items()]"
   ]
  },
  {
   "cell_type": "code",
   "execution_count": 88,
   "id": "a3e1466e-0e5c-4ec0-b206-4da47ba1e141",
   "metadata": {},
   "outputs": [
    {
     "name": "stdout",
     "output_type": "stream",
     "text": [
      "mobilenetv2_x0_5, acc: 71.04, mean latency: 36.910 ms\n",
      "mobilenetv2_x0_75, acc: 74.42, mean latency: 37.050 ms\n",
      "mobilenetv2_x1_0, acc: 74.44, mean latency: 36.120 ms\n",
      "mobilenetv2_x1_4, acc: 76.04, mean latency: 37.000 ms\n",
      "repvgg_a0, acc: 76.24, mean latency: 41.820 ms\n",
      "repvgg_a1, acc: 76.44, mean latency: 41.980 ms\n",
      "repvgg_a2, acc: 77.24, mean latency: 46.430 ms\n",
      "resnet20, acc: 68.78, mean latency: 17.060 ms\n",
      "resnet32, acc: 69.42, mean latency: 28.640 ms\n",
      "resnet44, acc: 71.52, mean latency: 36.630 ms\n",
      "resnet56, acc: 72.12, mean latency: 47.220 ms\n",
      "shufflenetv2_x0_5, acc: 67.86, mean latency: 46.910 ms\n",
      "shufflenetv2_x1_0, acc: 73.1, mean latency: 47.060 ms\n",
      "shufflenetv2_x1_5, acc: 74.36, mean latency: 49.130 ms\n",
      "shufflenetv2_x2_0, acc: 75.0, mean latency: 49.690 ms\n",
      "vgg11_bn, acc: 70.44, mean latency: 10.970 ms\n",
      "vgg13_bn, acc: 74.02, mean latency: 12.940 ms\n",
      "vgg16_bn, acc: 74.68, mean latency: 16.600 ms\n",
      "vgg19_bn, acc: 75.16, mean latency: 20.240 ms\n",
      "vit_small_patch16_384, acc: 90.04, mean latency: 36.160 ms\n",
      "vit_base_patch16_384, acc: 90.1, mean latency: 39.290 ms\n",
      "vit_large_patch16_384, acc: 90.82, mean latency: 73.690 ms\n"
     ]
    },
    {
     "data": {
      "image/png": "[encoded data removed]",
      "text/plain": [
       "<Figure size 640x480 with 1 Axes>"
      ]
     },
     "metadata": {},
     "output_type": "display_data"
    }
   ],
   "source": [
    "for model_name, metrics in cifar100_results.items():\n",
    "    print(f\"{model_name}, acc: {metrics['accuracy']}, mean latency: {metrics['latency']:.3f} ms\")\n",
    "    \n",
    "plt.scatter(latencies, accuracies, label=\"Models\", color='orange', marker='x')\n",
    "\n",
    "for model_name, metrics in cifar100_results.items():\n",
    "    plt.text(metrics['latency'], metrics['accuracy'], model_name, fontsize=8)\n",
    "\n",
    "plt.title(\"Pareto Frontier\")\n",
    "plt.xlabel(\"Latency (ms)\")\n",
    "plt.ylabel(\"Accuracy\")\n",
    "\n",
    "current = datetime.now().strftime(\"%Y%m%d_%H%M%S\")\n",
    "plt.savefig(f\"figures/Pareto_Frontier_{current}.png\")"
   ]
  },
  {
   "cell_type": "code",
   "execution_count": null,
   "id": "b400f1a4-8062-40c6-8656-67826c049c0b",
   "metadata": {},
   "outputs": [],
   "source": []
  }
 ],
 "metadata": {
  "kernelspec": {
   "display_name": "Python 3 (ipykernel)",
   "language": "python",
   "name": "python3"
  },
  "language_info": {
   "codemirror_mode": {
    "name": "ipython",
    "version": 3
   },
   "file_extension": ".py",
   "mimetype": "text/x-python",
   "name": "python",
   "nbconvert_exporter": "python",
   "pygments_lexer": "ipython3",
   "version": "3.8.6"
  }
 },
 "nbformat": 4,
 "nbformat_minor": 5
}
